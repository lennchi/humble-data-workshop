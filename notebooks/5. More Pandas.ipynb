{
 "cells": [
  {
   "cell_type": "markdown",
   "metadata": {},
   "source": [
    "<div class=\"alert alert-block alert-info\" style=\"background-color: #301E40; border: 0px; -moz-border-radius: 10px; -webkit-border-radius: 10px;\">\n",
    "<br/><br/>\n",
    "<h1 style=\"font-size: 45px; color: white; align: center;\"><center>\n",
    "<img src=\"https://raw.githubusercontent.com/HumbleData/beginners-data-workshop/master/media/humble-data-logo-white-transparent.png\" width=\"250px\" /><br/><br/>\n",
    "More pandas\n",
    "</center></h1>\n",
    "</div>"
   ]
  },
  {
   "cell_type": "markdown",
   "metadata": {},
   "source": [
    "***Note***: this notebook contains cell with ***a*** solution. Remember there is not only one solution to a problem!  \n",
    "\n",
    "You will recognise these cells as they start with **# %**.  \n",
    "\n",
    "If you would like to see the solution, you will have to remove the **#** (which can be done by using **Ctrl** and **?**) and run the cell. If you want to run the solution code, you will have to run the cell again."
   ]
  },
  {
   "cell_type": "markdown",
   "metadata": {},
   "source": [
    "---\n",
    "\n",
    "<div class=\"alert alert-block alert-warning\" style=\"padding: 0px; padding-left: 20px; padding-top: 5px;\"><h2 style=\"color: #301E40\">\n",
    "Exercise\n",
    "</h2><br>\n",
    "</div>"
   ]
  },
  {
   "cell_type": "markdown",
   "metadata": {},
   "source": [
    "> 1. Import pandas (with the mostly used convention seen in notebook 2).  \n",
    "> 2. Import datetime.  \n",
    "> 3. Import matplotlib (as shown in notebook 3.1).  \n",
    "> 4. Add the magic command to show the plot in Jupyter."
   ]
  },
  {
   "cell_type": "code",
   "execution_count": 243,
   "metadata": {
    "jupyter": {
     "outputs_hidden": false
    }
   },
   "outputs": [],
   "source": [
    "import pandas as pd\n",
    "import datetime\n",
    "import matplotlib.pyplot as plt\n",
    "\n",
    "%matplotlib inline"
   ]
  },
  {
   "cell_type": "code",
   "execution_count": 244,
   "metadata": {
    "jupyter": {
     "outputs_hidden": false
    }
   },
   "outputs": [],
   "source": [
    "# %load ../solutions/05_01.py\n",
    "import datetime\n",
    "\n",
    "import matplotlib.pyplot as plt\n",
    "import pandas as pd\n",
    "\n",
    "%matplotlib inline"
   ]
  },
  {
   "cell_type": "markdown",
   "metadata": {},
   "source": [
    "In this notebook, we are going to use data provided by the [UK government](https://data.gov.uk/dataset/a59198d9-2e24-4816-be1b-c3a1efa02dda/better-training-for-safer-food). It is provided under the [Open Government Licence](http://www.nationalarchives.gov.uk/doc/open-government-licence/version/3/)."
   ]
  },
  {
   "cell_type": "markdown",
   "metadata": {},
   "source": [
    ">Load the data of the year 2014 and assign it to df_2014 (path: '../data/food_training/training_2014.csv')"
   ]
  },
  {
   "cell_type": "code",
   "execution_count": 245,
   "metadata": {
    "jupyter": {
     "outputs_hidden": false
    }
   },
   "outputs": [],
   "source": [
    "df_2012 = pd.read_csv('../data/food_training/training_2014.csv')"
   ]
  },
  {
   "cell_type": "code",
   "execution_count": 246,
   "metadata": {
    "jupyter": {
     "outputs_hidden": false
    }
   },
   "outputs": [],
   "source": [
    "# %load ../solutions/05_02.py\n",
    "df_2014 = pd.read_csv(\"../data/food_training/training_2014.csv\")"
   ]
  },
  {
   "cell_type": "markdown",
   "metadata": {},
   "source": [
    ">Have a look at the first rows of df_2014"
   ]
  },
  {
   "cell_type": "code",
   "execution_count": 247,
   "metadata": {
    "jupyter": {
     "outputs_hidden": false
    }
   },
   "outputs": [
    {
     "data": {
      "text/html": [
       "<div>\n",
       "<style scoped>\n",
       "    .dataframe tbody tr th:only-of-type {\n",
       "        vertical-align: middle;\n",
       "    }\n",
       "\n",
       "    .dataframe tbody tr th {\n",
       "        vertical-align: top;\n",
       "    }\n",
       "\n",
       "    .dataframe thead th {\n",
       "        text-align: right;\n",
       "    }\n",
       "</style>\n",
       "<table border=\"1\" class=\"dataframe\">\n",
       "  <thead>\n",
       "    <tr style=\"text-align: right;\">\n",
       "      <th></th>\n",
       "      <th>Unnamed: 0</th>\n",
       "      <th>Unnamed: 1</th>\n",
       "      <th>Unnamed: 2</th>\n",
       "      <th>Unnamed: 3</th>\n",
       "      <th>Unnamed: 4</th>\n",
       "      <th>Unnamed: 5</th>\n",
       "      <th>Unnamed: 6</th>\n",
       "    </tr>\n",
       "  </thead>\n",
       "  <tbody>\n",
       "    <tr>\n",
       "      <th>0</th>\n",
       "      <td>CourseName</td>\n",
       "      <td>Location</td>\n",
       "      <td>DateFrom</td>\n",
       "      <td>DateTo</td>\n",
       "      <td>Attendees</td>\n",
       "      <td>NaN</td>\n",
       "      <td>NaN</td>\n",
       "    </tr>\n",
       "    <tr>\n",
       "      <th>1</th>\n",
       "      <td>Risk Assessment (Pest)</td>\n",
       "      <td>lisbon;Portugal</td>\n",
       "      <td>2015-01-12</td>\n",
       "      <td>2015-01-16</td>\n",
       "      <td>1</td>\n",
       "      <td>NaN</td>\n",
       "      <td>NaN</td>\n",
       "    </tr>\n",
       "    <tr>\n",
       "      <th>2</th>\n",
       "      <td>Organic Farming</td>\n",
       "      <td>Bristol</td>\n",
       "      <td>2015-01-19</td>\n",
       "      <td>2015-01-22</td>\n",
       "      <td>2</td>\n",
       "      <td>NaN</td>\n",
       "      <td>NaN</td>\n",
       "    </tr>\n",
       "    <tr>\n",
       "      <th>3</th>\n",
       "      <td>Prevention Control and Eradication of Transmis...</td>\n",
       "      <td>Ljubljana;Slovenia</td>\n",
       "      <td>2015-01-20</td>\n",
       "      <td>2015-01-23</td>\n",
       "      <td>2</td>\n",
       "      <td>NaN</td>\n",
       "      <td>NaN</td>\n",
       "    </tr>\n",
       "    <tr>\n",
       "      <th>4</th>\n",
       "      <td>Contingency Planning</td>\n",
       "      <td>Padua</td>\n",
       "      <td>2015-01-26</td>\n",
       "      <td>2015-01-30</td>\n",
       "      <td>2</td>\n",
       "      <td>NaN</td>\n",
       "      <td>NaN</td>\n",
       "    </tr>\n",
       "  </tbody>\n",
       "</table>\n",
       "</div>"
      ],
      "text/plain": [
       "                                          Unnamed: 0          Unnamed: 1  \\\n",
       "0                                         CourseName            Location   \n",
       "1                             Risk Assessment (Pest)     lisbon;Portugal   \n",
       "2                                    Organic Farming             Bristol   \n",
       "3  Prevention Control and Eradication of Transmis...  Ljubljana;Slovenia   \n",
       "4                               Contingency Planning               Padua   \n",
       "\n",
       "   Unnamed: 2  Unnamed: 3 Unnamed: 4  Unnamed: 5  Unnamed: 6  \n",
       "0    DateFrom      DateTo  Attendees         NaN         NaN  \n",
       "1  2015-01-12  2015-01-16          1         NaN         NaN  \n",
       "2  2015-01-19  2015-01-22          2         NaN         NaN  \n",
       "3  2015-01-20  2015-01-23          2         NaN         NaN  \n",
       "4  2015-01-26  2015-01-30          2         NaN         NaN  "
      ]
     },
     "execution_count": 247,
     "metadata": {},
     "output_type": "execute_result"
    }
   ],
   "source": [
    "df_2014.head(5)"
   ]
  },
  {
   "cell_type": "code",
   "execution_count": 248,
   "metadata": {
    "jupyter": {
     "outputs_hidden": false
    }
   },
   "outputs": [],
   "source": [
    "# %load ../solutions/05_03.py"
   ]
  },
  {
   "cell_type": "markdown",
   "metadata": {},
   "source": [
    "You can see that the header are not at the right place.  \n",
    "If you have a look at the documentation, you will see that the *header* parameter of the read_csv method is set to *infer*. It will infer the header using the first row (which has the index *0*)."
   ]
  },
  {
   "cell_type": "markdown",
   "metadata": {},
   "source": [
    ">Load the data of the year 2104 using the header parameter and assign it to df_2014 (it will be overwritten)"
   ]
  },
  {
   "cell_type": "code",
   "execution_count": 249,
   "metadata": {
    "jupyter": {
     "outputs_hidden": false
    }
   },
   "outputs": [
    {
     "data": {
      "text/html": [
       "<div>\n",
       "<style scoped>\n",
       "    .dataframe tbody tr th:only-of-type {\n",
       "        vertical-align: middle;\n",
       "    }\n",
       "\n",
       "    .dataframe tbody tr th {\n",
       "        vertical-align: top;\n",
       "    }\n",
       "\n",
       "    .dataframe thead th {\n",
       "        text-align: right;\n",
       "    }\n",
       "</style>\n",
       "<table border=\"1\" class=\"dataframe\">\n",
       "  <thead>\n",
       "    <tr style=\"text-align: right;\">\n",
       "      <th></th>\n",
       "      <th>CourseName</th>\n",
       "      <th>Location</th>\n",
       "      <th>DateFrom</th>\n",
       "      <th>DateTo</th>\n",
       "      <th>Attendees</th>\n",
       "      <th>Unnamed: 5</th>\n",
       "      <th>Unnamed: 6</th>\n",
       "    </tr>\n",
       "  </thead>\n",
       "  <tbody>\n",
       "    <tr>\n",
       "      <th>0</th>\n",
       "      <td>Risk Assessment (Pest)</td>\n",
       "      <td>lisbon;Portugal</td>\n",
       "      <td>2015-01-12</td>\n",
       "      <td>2015-01-16</td>\n",
       "      <td>1</td>\n",
       "      <td>NaN</td>\n",
       "      <td>NaN</td>\n",
       "    </tr>\n",
       "    <tr>\n",
       "      <th>1</th>\n",
       "      <td>Organic Farming</td>\n",
       "      <td>Bristol</td>\n",
       "      <td>2015-01-19</td>\n",
       "      <td>2015-01-22</td>\n",
       "      <td>2</td>\n",
       "      <td>NaN</td>\n",
       "      <td>NaN</td>\n",
       "    </tr>\n",
       "    <tr>\n",
       "      <th>2</th>\n",
       "      <td>Prevention Control and Eradication of Transmis...</td>\n",
       "      <td>Ljubljana;Slovenia</td>\n",
       "      <td>2015-01-20</td>\n",
       "      <td>2015-01-23</td>\n",
       "      <td>2</td>\n",
       "      <td>NaN</td>\n",
       "      <td>NaN</td>\n",
       "    </tr>\n",
       "    <tr>\n",
       "      <th>3</th>\n",
       "      <td>Contingency Planning</td>\n",
       "      <td>Padua</td>\n",
       "      <td>2015-01-26</td>\n",
       "      <td>2015-01-30</td>\n",
       "      <td>2</td>\n",
       "      <td>NaN</td>\n",
       "      <td>NaN</td>\n",
       "    </tr>\n",
       "    <tr>\n",
       "      <th>4</th>\n",
       "      <td>HACCP</td>\n",
       "      <td>Rome</td>\n",
       "      <td>2015-02-02</td>\n",
       "      <td>2015-02-06</td>\n",
       "      <td>2</td>\n",
       "      <td>NaN</td>\n",
       "      <td>NaN</td>\n",
       "    </tr>\n",
       "  </tbody>\n",
       "</table>\n",
       "</div>"
      ],
      "text/plain": [
       "                                          CourseName            Location  \\\n",
       "0                             Risk Assessment (Pest)     lisbon;Portugal   \n",
       "1                                    Organic Farming             Bristol   \n",
       "2  Prevention Control and Eradication of Transmis...  Ljubljana;Slovenia   \n",
       "3                               Contingency Planning               Padua   \n",
       "4                                              HACCP                Rome   \n",
       "\n",
       "     DateFrom      DateTo  Attendees  Unnamed: 5  Unnamed: 6  \n",
       "0  2015-01-12  2015-01-16          1         NaN         NaN  \n",
       "1  2015-01-19  2015-01-22          2         NaN         NaN  \n",
       "2  2015-01-20  2015-01-23          2         NaN         NaN  \n",
       "3  2015-01-26  2015-01-30          2         NaN         NaN  \n",
       "4  2015-02-02  2015-02-06          2         NaN         NaN  "
      ]
     },
     "execution_count": 249,
     "metadata": {},
     "output_type": "execute_result"
    }
   ],
   "source": [
    "df_2014 = pd.read_csv(\"../data/food_training/training_2014.csv\", header=1)\n",
    "df_2014.head()"
   ]
  },
  {
   "cell_type": "code",
   "execution_count": 250,
   "metadata": {
    "jupyter": {
     "outputs_hidden": false
    }
   },
   "outputs": [],
   "source": [
    "# %load ../solutions/05_04.py\n",
    "df_2014 = pd.read_csv(\"../data/food_training/training_2014.csv\", header=1)"
   ]
  },
  {
   "cell_type": "markdown",
   "metadata": {},
   "source": [
    ">Have a look at the first rows of df_2014. Looks better, isn't it?"
   ]
  },
  {
   "cell_type": "code",
   "execution_count": null,
   "metadata": {
    "jupyter": {
     "outputs_hidden": false
    }
   },
   "outputs": [],
   "source": []
  },
  {
   "cell_type": "code",
   "execution_count": 251,
   "metadata": {
    "jupyter": {
     "outputs_hidden": false
    }
   },
   "outputs": [],
   "source": [
    "# %load ../solutions/05_05.py"
   ]
  },
  {
   "cell_type": "markdown",
   "metadata": {},
   "source": [
    ">Load the data for the years 2015 and 2016 and assign them to df_2015 and df_2016 (don't forget the parameter!)"
   ]
  },
  {
   "cell_type": "code",
   "execution_count": 252,
   "metadata": {
    "jupyter": {
     "outputs_hidden": false
    }
   },
   "outputs": [],
   "source": [
    "df_2015 = pd.read_csv(\"../data/food_training/training_2015.csv\", header=1)\n",
    "df_2016 = pd.read_csv(\"../data/food_training/training_2016.csv\", header=1)"
   ]
  },
  {
   "cell_type": "code",
   "execution_count": 253,
   "metadata": {
    "jupyter": {
     "outputs_hidden": false
    }
   },
   "outputs": [],
   "source": [
    "# %load ../solutions/05_06.py\n",
    "df_2015 = pd.read_csv(\"../data/food_training/training_2015.csv\", header=1)\n",
    "df_2016 = pd.read_csv(\"../data/food_training/training_2016.csv\", header=1)"
   ]
  },
  {
   "cell_type": "markdown",
   "metadata": {},
   "source": [
    "---\n",
    "\n",
    "<div class=\"alert alert-block alert-warning\" style=\"padding: 0px; padding-left: 20px; padding-top: 5px;\"><h2 style=\"color: #301E40\">\n",
    "Concatenate\n",
    "</h2><br>\n",
    "</div>"
   ]
  },
  {
   "cell_type": "markdown",
   "metadata": {},
   "source": [
    "Pandas have a good page with documentation about [merge, join and concatenation](https://pandas.pydata.org/pandas-docs/stable/user_guide/merging.html)."
   ]
  },
  {
   "cell_type": "markdown",
   "metadata": {},
   "source": [
    ">Using the documentation, concatenate the 3 dataframe into one, named df."
   ]
  },
  {
   "cell_type": "code",
   "execution_count": 254,
   "metadata": {
    "jupyter": {
     "outputs_hidden": false
    }
   },
   "outputs": [
    {
     "data": {
      "text/html": [
       "<div>\n",
       "<style scoped>\n",
       "    .dataframe tbody tr th:only-of-type {\n",
       "        vertical-align: middle;\n",
       "    }\n",
       "\n",
       "    .dataframe tbody tr th {\n",
       "        vertical-align: top;\n",
       "    }\n",
       "\n",
       "    .dataframe thead th {\n",
       "        text-align: right;\n",
       "    }\n",
       "</style>\n",
       "<table border=\"1\" class=\"dataframe\">\n",
       "  <thead>\n",
       "    <tr style=\"text-align: right;\">\n",
       "      <th></th>\n",
       "      <th>CourseName</th>\n",
       "      <th>Location</th>\n",
       "      <th>DateFrom</th>\n",
       "      <th>DateTo</th>\n",
       "      <th>Attendees</th>\n",
       "      <th>Unnamed: 5</th>\n",
       "      <th>Unnamed: 6</th>\n",
       "    </tr>\n",
       "  </thead>\n",
       "  <tbody>\n",
       "    <tr>\n",
       "      <th>0</th>\n",
       "      <td>Risk Assessment (Pest)</td>\n",
       "      <td>lisbon;Portugal</td>\n",
       "      <td>2015-01-12</td>\n",
       "      <td>2015-01-16</td>\n",
       "      <td>1</td>\n",
       "      <td>NaN</td>\n",
       "      <td>NaN</td>\n",
       "    </tr>\n",
       "    <tr>\n",
       "      <th>1</th>\n",
       "      <td>Organic Farming</td>\n",
       "      <td>Bristol</td>\n",
       "      <td>2015-01-19</td>\n",
       "      <td>2015-01-22</td>\n",
       "      <td>2</td>\n",
       "      <td>NaN</td>\n",
       "      <td>NaN</td>\n",
       "    </tr>\n",
       "    <tr>\n",
       "      <th>2</th>\n",
       "      <td>Prevention Control and Eradication of Transmis...</td>\n",
       "      <td>Ljubljana;Slovenia</td>\n",
       "      <td>2015-01-20</td>\n",
       "      <td>2015-01-23</td>\n",
       "      <td>2</td>\n",
       "      <td>NaN</td>\n",
       "      <td>NaN</td>\n",
       "    </tr>\n",
       "    <tr>\n",
       "      <th>3</th>\n",
       "      <td>Contingency Planning</td>\n",
       "      <td>Padua</td>\n",
       "      <td>2015-01-26</td>\n",
       "      <td>2015-01-30</td>\n",
       "      <td>2</td>\n",
       "      <td>NaN</td>\n",
       "      <td>NaN</td>\n",
       "    </tr>\n",
       "    <tr>\n",
       "      <th>4</th>\n",
       "      <td>HACCP</td>\n",
       "      <td>Rome</td>\n",
       "      <td>2015-02-02</td>\n",
       "      <td>2015-02-06</td>\n",
       "      <td>2</td>\n",
       "      <td>NaN</td>\n",
       "      <td>NaN</td>\n",
       "    </tr>\n",
       "  </tbody>\n",
       "</table>\n",
       "</div>"
      ],
      "text/plain": [
       "                                          CourseName            Location  \\\n",
       "0                             Risk Assessment (Pest)     lisbon;Portugal   \n",
       "1                                    Organic Farming             Bristol   \n",
       "2  Prevention Control and Eradication of Transmis...  Ljubljana;Slovenia   \n",
       "3                               Contingency Planning               Padua   \n",
       "4                                              HACCP                Rome   \n",
       "\n",
       "     DateFrom      DateTo  Attendees  Unnamed: 5  Unnamed: 6  \n",
       "0  2015-01-12  2015-01-16          1         NaN         NaN  \n",
       "1  2015-01-19  2015-01-22          2         NaN         NaN  \n",
       "2  2015-01-20  2015-01-23          2         NaN         NaN  \n",
       "3  2015-01-26  2015-01-30          2         NaN         NaN  \n",
       "4  2015-02-02  2015-02-06          2         NaN         NaN  "
      ]
     },
     "execution_count": 254,
     "metadata": {},
     "output_type": "execute_result"
    }
   ],
   "source": [
    "df = pd.concat([df_2014, df_2015, df_2016], axis=0)\n",
    "df.head()"
   ]
  },
  {
   "cell_type": "code",
   "execution_count": 255,
   "metadata": {
    "jupyter": {
     "outputs_hidden": false
    }
   },
   "outputs": [],
   "source": [
    "# %load ../solutions/05_07.py\n",
    "frames = [df_2014, df_2015, df_2016]\n",
    "df = pd.concat(frames)"
   ]
  },
  {
   "cell_type": "markdown",
   "metadata": {},
   "source": [
    ">check the shape of df"
   ]
  },
  {
   "cell_type": "code",
   "execution_count": 256,
   "metadata": {
    "jupyter": {
     "outputs_hidden": false
    }
   },
   "outputs": [
    {
     "data": {
      "text/plain": [
       "(266, 7)"
      ]
     },
     "execution_count": 256,
     "metadata": {},
     "output_type": "execute_result"
    }
   ],
   "source": [
    "df.shape"
   ]
  },
  {
   "cell_type": "code",
   "execution_count": 257,
   "metadata": {
    "jupyter": {
     "outputs_hidden": false
    }
   },
   "outputs": [],
   "source": [
    "# %load ../solutions/05_08.py"
   ]
  },
  {
   "cell_type": "markdown",
   "metadata": {},
   "source": [
    ">Look at the indices of df using the index attribute."
   ]
  },
  {
   "cell_type": "code",
   "execution_count": 258,
   "metadata": {
    "jupyter": {
     "outputs_hidden": false
    }
   },
   "outputs": [
    {
     "data": {
      "text/plain": [
       "Int64Index([  0,   1,   2,   3,   4,   5,   6,   7,   8,   9,\n",
       "            ...\n",
       "            106, 107, 108, 109, 110, 111, 112, 113, 114, 115],\n",
       "           dtype='int64', length=266)"
      ]
     },
     "execution_count": 258,
     "metadata": {},
     "output_type": "execute_result"
    }
   ],
   "source": [
    "df.index"
   ]
  },
  {
   "cell_type": "code",
   "execution_count": 259,
   "metadata": {
    "jupyter": {
     "outputs_hidden": false
    }
   },
   "outputs": [
    {
     "data": {
      "text/plain": [
       "Int64Index([  0,   1,   2,   3,   4,   5,   6,   7,   8,   9,\n",
       "            ...\n",
       "            106, 107, 108, 109, 110, 111, 112, 113, 114, 115],\n",
       "           dtype='int64', length=266)"
      ]
     },
     "execution_count": 259,
     "metadata": {},
     "output_type": "execute_result"
    }
   ],
   "source": [
    "# %load ../solutions/05_09.py\n",
    "df.index"
   ]
  },
  {
   "cell_type": "markdown",
   "metadata": {},
   "source": [
    "We can see that the index is not going from 0 to 265 with a step of 1... \n",
    "> Clear the existing index and reset it using the ***reset_index*** method.  \n",
    "> Check df's index."
   ]
  },
  {
   "cell_type": "code",
   "execution_count": 260,
   "metadata": {
    "jupyter": {
     "outputs_hidden": false
    }
   },
   "outputs": [
    {
     "data": {
      "text/plain": [
       "Int64Index([  0,   1,   2,   3,   4,   5,   6,   7,   8,   9,\n",
       "            ...\n",
       "            106, 107, 108, 109, 110, 111, 112, 113, 114, 115],\n",
       "           dtype='int64', length=266)"
      ]
     },
     "execution_count": 260,
     "metadata": {},
     "output_type": "execute_result"
    }
   ],
   "source": [
    "df.reset_index()\n",
    "# df.reset_index(drop=True)\n",
    "df.index"
   ]
  },
  {
   "cell_type": "code",
   "execution_count": 261,
   "metadata": {
    "jupyter": {
     "outputs_hidden": false
    }
   },
   "outputs": [
    {
     "data": {
      "text/plain": [
       "RangeIndex(start=0, stop=266, step=1)"
      ]
     },
     "execution_count": 261,
     "metadata": {},
     "output_type": "execute_result"
    }
   ],
   "source": [
    "# %load ../solutions/05_10.py\n",
    "df = df.reset_index()\n",
    "df.index\n",
    "\n",
    "# We could also have done the following when concatenating:\n",
    "# df = pd.concat(frames, ignore_index=True)"
   ]
  },
  {
   "cell_type": "markdown",
   "metadata": {},
   "source": [
    "---\n",
    "\n",
    "<div class=\"alert alert-block alert-warning\" style=\"padding: 0px; padding-left: 20px; padding-top: 5px;\"><h2 style=\"color: #301E40\">\n",
    "Dropping columns\n",
    "</h2><br>\n",
    "</div>"
   ]
  },
  {
   "cell_type": "markdown",
   "metadata": {},
   "source": [
    ">Show the information relative to df's columns."
   ]
  },
  {
   "cell_type": "code",
   "execution_count": 262,
   "metadata": {
    "jupyter": {
     "outputs_hidden": false
    }
   },
   "outputs": [
    {
     "name": "stdout",
     "output_type": "stream",
     "text": [
      "<class 'pandas.core.frame.DataFrame'>\n",
      "RangeIndex: 266 entries, 0 to 265\n",
      "Data columns (total 8 columns):\n",
      " #   Column      Non-Null Count  Dtype  \n",
      "---  ------      --------------  -----  \n",
      " 0   index       266 non-null    int64  \n",
      " 1   CourseName  266 non-null    object \n",
      " 2   Location    266 non-null    object \n",
      " 3   DateFrom    266 non-null    object \n",
      " 4   DateTo      266 non-null    object \n",
      " 5   Attendees   266 non-null    int64  \n",
      " 6   Unnamed: 5  0 non-null      float64\n",
      " 7   Unnamed: 6  0 non-null      float64\n",
      "dtypes: float64(2), int64(2), object(4)\n",
      "memory usage: 16.8+ KB\n"
     ]
    }
   ],
   "source": [
    "df.columns\n",
    "df.info()"
   ]
  },
  {
   "cell_type": "code",
   "execution_count": 263,
   "metadata": {
    "jupyter": {
     "outputs_hidden": false
    }
   },
   "outputs": [
    {
     "name": "stdout",
     "output_type": "stream",
     "text": [
      "<class 'pandas.core.frame.DataFrame'>\n",
      "RangeIndex: 266 entries, 0 to 265\n",
      "Data columns (total 8 columns):\n",
      " #   Column      Non-Null Count  Dtype  \n",
      "---  ------      --------------  -----  \n",
      " 0   index       266 non-null    int64  \n",
      " 1   CourseName  266 non-null    object \n",
      " 2   Location    266 non-null    object \n",
      " 3   DateFrom    266 non-null    object \n",
      " 4   DateTo      266 non-null    object \n",
      " 5   Attendees   266 non-null    int64  \n",
      " 6   Unnamed: 5  0 non-null      float64\n",
      " 7   Unnamed: 6  0 non-null      float64\n",
      "dtypes: float64(2), int64(2), object(4)\n",
      "memory usage: 16.8+ KB\n"
     ]
    }
   ],
   "source": [
    "# %load ../solutions/05_11.py\n",
    "df.info()"
   ]
  },
  {
   "cell_type": "markdown",
   "metadata": {},
   "source": [
    "We can see that the last two columns are completely empty, so we will drop them."
   ]
  },
  {
   "cell_type": "markdown",
   "metadata": {},
   "source": [
    ">Get the help for the drop method (if you prefer, you can search for the documentation on internet)."
   ]
  },
  {
   "cell_type": "code",
   "execution_count": 264,
   "metadata": {
    "jupyter": {
     "outputs_hidden": false
    }
   },
   "outputs": [
    {
     "name": "stdout",
     "output_type": "stream",
     "text": [
      "<class 'pandas.core.frame.DataFrame'>\n",
      "RangeIndex: 266 entries, 0 to 265\n",
      "Data columns (total 6 columns):\n",
      " #   Column      Non-Null Count  Dtype  \n",
      "---  ------      --------------  -----  \n",
      " 0   index       266 non-null    int64  \n",
      " 1   CourseName  266 non-null    object \n",
      " 2   Location    266 non-null    object \n",
      " 3   DateFrom    266 non-null    object \n",
      " 4   DateTo      266 non-null    object \n",
      " 5   Unnamed: 6  0 non-null      float64\n",
      "dtypes: float64(1), int64(1), object(4)\n",
      "memory usage: 12.6+ KB\n"
     ]
    }
   ],
   "source": [
    "df_1 = df.drop(df.columns[[5, 6]], axis=1)\n",
    "# df_1 = df.drop(['Unnamed: 5', 'Unnamed: 6'], axis=1)\n",
    "# df_1 = df.drop(df.columns[[-2, -1]], axis=1)\n",
    "df_1.info()"
   ]
  },
  {
   "cell_type": "code",
   "execution_count": 265,
   "metadata": {
    "jupyter": {
     "outputs_hidden": false
    },
    "scrolled": true
   },
   "outputs": [
    {
     "name": "stdout",
     "output_type": "stream",
     "text": [
      "\u001b[1;31mSignature:\u001b[0m\n",
      "\u001b[0mpd\u001b[0m\u001b[1;33m.\u001b[0m\u001b[0mDataFrame\u001b[0m\u001b[1;33m.\u001b[0m\u001b[0mdrop\u001b[0m\u001b[1;33m(\u001b[0m\u001b[1;33m\n",
      "\u001b[0m    \u001b[0mself\u001b[0m\u001b[1;33m,\u001b[0m\u001b[1;33m\n",
      "\u001b[0m    \u001b[0mlabels\u001b[0m\u001b[1;33m:\u001b[0m \u001b[1;34m'IndexLabel'\u001b[0m \u001b[1;33m=\u001b[0m \u001b[1;32mNone\u001b[0m\u001b[1;33m,\u001b[0m\u001b[1;33m\n",
      "\u001b[0m    \u001b[0maxis\u001b[0m\u001b[1;33m:\u001b[0m \u001b[1;34m'Axis'\u001b[0m \u001b[1;33m=\u001b[0m \u001b[1;36m0\u001b[0m\u001b[1;33m,\u001b[0m\u001b[1;33m\n",
      "\u001b[0m    \u001b[0mindex\u001b[0m\u001b[1;33m:\u001b[0m \u001b[1;34m'IndexLabel'\u001b[0m \u001b[1;33m=\u001b[0m \u001b[1;32mNone\u001b[0m\u001b[1;33m,\u001b[0m\u001b[1;33m\n",
      "\u001b[0m    \u001b[0mcolumns\u001b[0m\u001b[1;33m:\u001b[0m \u001b[1;34m'IndexLabel'\u001b[0m \u001b[1;33m=\u001b[0m \u001b[1;32mNone\u001b[0m\u001b[1;33m,\u001b[0m\u001b[1;33m\n",
      "\u001b[0m    \u001b[0mlevel\u001b[0m\u001b[1;33m:\u001b[0m \u001b[1;34m'Level'\u001b[0m \u001b[1;33m=\u001b[0m \u001b[1;32mNone\u001b[0m\u001b[1;33m,\u001b[0m\u001b[1;33m\n",
      "\u001b[0m    \u001b[0minplace\u001b[0m\u001b[1;33m:\u001b[0m \u001b[1;34m'bool'\u001b[0m \u001b[1;33m=\u001b[0m \u001b[1;32mFalse\u001b[0m\u001b[1;33m,\u001b[0m\u001b[1;33m\n",
      "\u001b[0m    \u001b[0merrors\u001b[0m\u001b[1;33m:\u001b[0m \u001b[1;34m'IgnoreRaise'\u001b[0m \u001b[1;33m=\u001b[0m \u001b[1;34m'raise'\u001b[0m\u001b[1;33m,\u001b[0m\u001b[1;33m\n",
      "\u001b[0m\u001b[1;33m)\u001b[0m \u001b[1;33m->\u001b[0m \u001b[1;34m'DataFrame | None'\u001b[0m\u001b[1;33m\u001b[0m\u001b[1;33m\u001b[0m\u001b[0m\n",
      "\u001b[1;31mDocstring:\u001b[0m\n",
      "Drop specified labels from rows or columns.\n",
      "\n",
      "Remove rows or columns by specifying label names and corresponding\n",
      "axis, or by specifying directly index or column names. When using a\n",
      "multi-index, labels on different levels can be removed by specifying\n",
      "the level. See the `user guide <advanced.shown_levels>`\n",
      "for more information about the now unused levels.\n",
      "\n",
      "Parameters\n",
      "----------\n",
      "labels : single label or list-like\n",
      "    Index or column labels to drop. A tuple will be used as a single\n",
      "    label and not treated as a list-like.\n",
      "axis : {0 or 'index', 1 or 'columns'}, default 0\n",
      "    Whether to drop labels from the index (0 or 'index') or\n",
      "    columns (1 or 'columns').\n",
      "index : single label or list-like\n",
      "    Alternative to specifying axis (``labels, axis=0``\n",
      "    is equivalent to ``index=labels``).\n",
      "columns : single label or list-like\n",
      "    Alternative to specifying axis (``labels, axis=1``\n",
      "    is equivalent to ``columns=labels``).\n",
      "level : int or level name, optional\n",
      "    For MultiIndex, level from which the labels will be removed.\n",
      "inplace : bool, default False\n",
      "    If False, return a copy. Otherwise, do operation\n",
      "    inplace and return None.\n",
      "errors : {'ignore', 'raise'}, default 'raise'\n",
      "    If 'ignore', suppress error and only existing labels are\n",
      "    dropped.\n",
      "\n",
      "Returns\n",
      "-------\n",
      "DataFrame or None\n",
      "    DataFrame without the removed index or column labels or\n",
      "    None if ``inplace=True``.\n",
      "\n",
      "Raises\n",
      "------\n",
      "KeyError\n",
      "    If any of the labels is not found in the selected axis.\n",
      "\n",
      "See Also\n",
      "--------\n",
      "DataFrame.loc : Label-location based indexer for selection by label.\n",
      "DataFrame.dropna : Return DataFrame with labels on given axis omitted\n",
      "    where (all or any) data are missing.\n",
      "DataFrame.drop_duplicates : Return DataFrame with duplicate rows\n",
      "    removed, optionally only considering certain columns.\n",
      "Series.drop : Return Series with specified index labels removed.\n",
      "\n",
      "Examples\n",
      "--------\n",
      ">>> df = pd.DataFrame(np.arange(12).reshape(3, 4),\n",
      "...                   columns=['A', 'B', 'C', 'D'])\n",
      ">>> df\n",
      "   A  B   C   D\n",
      "0  0  1   2   3\n",
      "1  4  5   6   7\n",
      "2  8  9  10  11\n",
      "\n",
      "Drop columns\n",
      "\n",
      ">>> df.drop(['B', 'C'], axis=1)\n",
      "   A   D\n",
      "0  0   3\n",
      "1  4   7\n",
      "2  8  11\n",
      "\n",
      ">>> df.drop(columns=['B', 'C'])\n",
      "   A   D\n",
      "0  0   3\n",
      "1  4   7\n",
      "2  8  11\n",
      "\n",
      "Drop a row by index\n",
      "\n",
      ">>> df.drop([0, 1])\n",
      "   A  B   C   D\n",
      "2  8  9  10  11\n",
      "\n",
      "Drop columns and/or rows of MultiIndex DataFrame\n",
      "\n",
      ">>> midx = pd.MultiIndex(levels=[['lama', 'cow', 'falcon'],\n",
      "...                              ['speed', 'weight', 'length']],\n",
      "...                      codes=[[0, 0, 0, 1, 1, 1, 2, 2, 2],\n",
      "...                             [0, 1, 2, 0, 1, 2, 0, 1, 2]])\n",
      ">>> df = pd.DataFrame(index=midx, columns=['big', 'small'],\n",
      "...                   data=[[45, 30], [200, 100], [1.5, 1], [30, 20],\n",
      "...                         [250, 150], [1.5, 0.8], [320, 250],\n",
      "...                         [1, 0.8], [0.3, 0.2]])\n",
      ">>> df\n",
      "                big     small\n",
      "lama    speed   45.0    30.0\n",
      "        weight  200.0   100.0\n",
      "        length  1.5     1.0\n",
      "cow     speed   30.0    20.0\n",
      "        weight  250.0   150.0\n",
      "        length  1.5     0.8\n",
      "falcon  speed   320.0   250.0\n",
      "        weight  1.0     0.8\n",
      "        length  0.3     0.2\n",
      "\n",
      "Drop a specific index combination from the MultiIndex\n",
      "DataFrame, i.e., drop the combination ``'falcon'`` and\n",
      "``'weight'``, which deletes only the corresponding row\n",
      "\n",
      ">>> df.drop(index=('falcon', 'weight'))\n",
      "                big     small\n",
      "lama    speed   45.0    30.0\n",
      "        weight  200.0   100.0\n",
      "        length  1.5     1.0\n",
      "cow     speed   30.0    20.0\n",
      "        weight  250.0   150.0\n",
      "        length  1.5     0.8\n",
      "falcon  speed   320.0   250.0\n",
      "        length  0.3     0.2\n",
      "\n",
      ">>> df.drop(index='cow', columns='small')\n",
      "                big\n",
      "lama    speed   45.0\n",
      "        weight  200.0\n",
      "        length  1.5\n",
      "falcon  speed   320.0\n",
      "        weight  1.0\n",
      "        length  0.3\n",
      "\n",
      ">>> df.drop(index='length', level=1)\n",
      "                big     small\n",
      "lama    speed   45.0    30.0\n",
      "        weight  200.0   100.0\n",
      "cow     speed   30.0    20.0\n",
      "        weight  250.0   150.0\n",
      "falcon  speed   320.0   250.0\n",
      "        weight  1.0     0.8\n",
      "\u001b[1;31mFile:\u001b[0m      c:\\users\\elena\\appdata\\local\\programs\\python\\python310\\lib\\site-packages\\pandas\\core\\frame.py\n",
      "\u001b[1;31mType:\u001b[0m      function"
     ]
    }
   ],
   "source": [
    "# %load ../solutions/05_12.py\n",
    "?pd.DataFrame.drop"
   ]
  },
  {
   "cell_type": "markdown",
   "metadata": {},
   "source": [
    "You can see that the default value for *axis* is *0*. When it is the case, the method will look at the rows (i.e. *axis 0*) of the dataframe.  \n",
    "In our case, we want to drop columns (i.e. *axis 1*)."
   ]
  },
  {
   "cell_type": "markdown",
   "metadata": {},
   "source": [
    ">Drop the last two columns of df.  \n",
    ">labels: provide a list with the column's names  \n",
    ">Don't forget the axis!"
   ]
  },
  {
   "cell_type": "code",
   "execution_count": 266,
   "metadata": {
    "jupyter": {
     "outputs_hidden": false
    }
   },
   "outputs": [
    {
     "name": "stdout",
     "output_type": "stream",
     "text": [
      "<class 'pandas.core.frame.DataFrame'>\n",
      "RangeIndex: 266 entries, 0 to 265\n",
      "Data columns (total 6 columns):\n",
      " #   Column      Non-Null Count  Dtype \n",
      "---  ------      --------------  ----- \n",
      " 0   index       266 non-null    int64 \n",
      " 1   CourseName  266 non-null    object\n",
      " 2   Location    266 non-null    object\n",
      " 3   DateFrom    266 non-null    object\n",
      " 4   DateTo      266 non-null    object\n",
      " 5   Attendees   266 non-null    int64 \n",
      "dtypes: int64(2), object(4)\n",
      "memory usage: 12.6+ KB\n"
     ]
    }
   ],
   "source": [
    "df_2 = df.drop(df.columns[[-2, -1]], axis=1)\n",
    "df_2.info()"
   ]
  },
  {
   "cell_type": "code",
   "execution_count": 267,
   "metadata": {
    "jupyter": {
     "outputs_hidden": false
    }
   },
   "outputs": [],
   "source": [
    "# %load ../solutions/05_13.py\n",
    "cols_to_remove = [\"Unnamed: 5\", \"Unnamed: 6\"]\n",
    "df = df.drop(cols_to_remove, axis=1)"
   ]
  },
  {
   "cell_type": "code",
   "execution_count": 268,
   "metadata": {
    "jupyter": {
     "outputs_hidden": false
    }
   },
   "outputs": [
    {
     "data": {
      "text/html": [
       "<div>\n",
       "<style scoped>\n",
       "    .dataframe tbody tr th:only-of-type {\n",
       "        vertical-align: middle;\n",
       "    }\n",
       "\n",
       "    .dataframe tbody tr th {\n",
       "        vertical-align: top;\n",
       "    }\n",
       "\n",
       "    .dataframe thead th {\n",
       "        text-align: right;\n",
       "    }\n",
       "</style>\n",
       "<table border=\"1\" class=\"dataframe\">\n",
       "  <thead>\n",
       "    <tr style=\"text-align: right;\">\n",
       "      <th></th>\n",
       "      <th>index</th>\n",
       "      <th>CourseName</th>\n",
       "      <th>Location</th>\n",
       "      <th>DateFrom</th>\n",
       "      <th>DateTo</th>\n",
       "      <th>Attendees</th>\n",
       "    </tr>\n",
       "  </thead>\n",
       "  <tbody>\n",
       "    <tr>\n",
       "      <th>0</th>\n",
       "      <td>0</td>\n",
       "      <td>Risk Assessment (Pest)</td>\n",
       "      <td>lisbon;Portugal</td>\n",
       "      <td>2015-01-12</td>\n",
       "      <td>2015-01-16</td>\n",
       "      <td>1</td>\n",
       "    </tr>\n",
       "    <tr>\n",
       "      <th>1</th>\n",
       "      <td>1</td>\n",
       "      <td>Organic Farming</td>\n",
       "      <td>Bristol</td>\n",
       "      <td>2015-01-19</td>\n",
       "      <td>2015-01-22</td>\n",
       "      <td>2</td>\n",
       "    </tr>\n",
       "    <tr>\n",
       "      <th>2</th>\n",
       "      <td>2</td>\n",
       "      <td>Prevention Control and Eradication of Transmis...</td>\n",
       "      <td>Ljubljana;Slovenia</td>\n",
       "      <td>2015-01-20</td>\n",
       "      <td>2015-01-23</td>\n",
       "      <td>2</td>\n",
       "    </tr>\n",
       "    <tr>\n",
       "      <th>3</th>\n",
       "      <td>3</td>\n",
       "      <td>Contingency Planning</td>\n",
       "      <td>Padua</td>\n",
       "      <td>2015-01-26</td>\n",
       "      <td>2015-01-30</td>\n",
       "      <td>2</td>\n",
       "    </tr>\n",
       "    <tr>\n",
       "      <th>4</th>\n",
       "      <td>4</td>\n",
       "      <td>HACCP</td>\n",
       "      <td>Rome</td>\n",
       "      <td>2015-02-02</td>\n",
       "      <td>2015-02-06</td>\n",
       "      <td>2</td>\n",
       "    </tr>\n",
       "  </tbody>\n",
       "</table>\n",
       "</div>"
      ],
      "text/plain": [
       "   index                                         CourseName  \\\n",
       "0      0                             Risk Assessment (Pest)   \n",
       "1      1                                    Organic Farming   \n",
       "2      2  Prevention Control and Eradication of Transmis...   \n",
       "3      3                               Contingency Planning   \n",
       "4      4                                              HACCP   \n",
       "\n",
       "             Location    DateFrom      DateTo  Attendees  \n",
       "0     lisbon;Portugal  2015-01-12  2015-01-16          1  \n",
       "1             Bristol  2015-01-19  2015-01-22          2  \n",
       "2  Ljubljana;Slovenia  2015-01-20  2015-01-23          2  \n",
       "3               Padua  2015-01-26  2015-01-30          2  \n",
       "4                Rome  2015-02-02  2015-02-06          2  "
      ]
     },
     "execution_count": 268,
     "metadata": {},
     "output_type": "execute_result"
    }
   ],
   "source": [
    "df.head()"
   ]
  },
  {
   "cell_type": "markdown",
   "metadata": {},
   "source": [
    "---\n",
    "\n",
    "<div class=\"alert alert-block alert-warning\" style=\"padding: 0px; padding-left: 20px; padding-top: 5px;\"><h2 style=\"color: #301E40\">\n",
    "Text data\n",
    "</h2><br>\n",
    "</div>"
   ]
  },
  {
   "cell_type": "markdown",
   "metadata": {},
   "source": [
    "To [work with text data](https://pandas.pydata.org/pandas-docs/version/0.23.4/text.html), We will have to use the ***str*** attribute to access the methods (e.g. df['col'].str.replace('-', ' ')).  \n",
    "We will have to use this attribute in different cases, but before that we will look at the Location column.  \n",
    ">Display the unique values of the Location column."
   ]
  },
  {
   "cell_type": "code",
   "execution_count": 269,
   "metadata": {
    "jupyter": {
     "outputs_hidden": false
    }
   },
   "outputs": [
    {
     "data": {
      "text/plain": [
       "<bound method Series.unique of 0         lisbon;Portugal\n",
       "1                 Bristol\n",
       "2      Ljubljana;Slovenia\n",
       "3                   Padua\n",
       "4                    Rome\n",
       "              ...        \n",
       "261             Venice;IT\n",
       "262              Valencia\n",
       "263            Bratislava\n",
       "264       Zagreb/Helsinki\n",
       "265               Antwerp\n",
       "Name: Location, Length: 266, dtype: object>"
      ]
     },
     "execution_count": 269,
     "metadata": {},
     "output_type": "execute_result"
    }
   ],
   "source": [
    "df['Location'].unique"
   ]
  },
  {
   "cell_type": "code",
   "execution_count": 270,
   "metadata": {
    "jupyter": {
     "outputs_hidden": false
    }
   },
   "outputs": [
    {
     "data": {
      "text/plain": [
       "array(['lisbon;Portugal', 'Bristol', 'Ljubljana;Slovenia', 'Padua',\n",
       "       'Rome', 'Parma', 'Lisbon', 'Munich', 'Murcia', 'Amsterdam',\n",
       "       'Venice', 'Athens', 'Warsaw', 'Berlin', 'Lyon', 'Antwerp', 'Graz',\n",
       "       'Barcelona', ' Budapest', 'Madrid', 'Vilnius', 'Milan;Italy',\n",
       "       'Budapest', 'Trim; Ireland ', 'Grange;Ireland', 'Riga',\n",
       "       'Zagreb;Croatia', 'Genoa', 'Tallinn', 'Padua;Italy',\n",
       "       'Coimbra;Portugal', 'Valencia', 'Bratislava;Slovakia',\n",
       "       'Felixstowe;United Kingdom', 'Maribor', 'Unknown;France', 'Krakow',\n",
       "       'Prague', 'Bremen', 'Rotterdam;Netherlands', 'Munich;Germany',\n",
       "       'Unknown;Denmark', 'Vienna;Austria', 'Trim;Ireland',\n",
       "       'Marseille;France', 'Venice/Udine; Italy ', 'Dusseldorf;Germany',\n",
       "       'Maribor;Slovenia', 'Cardiff', 'Brussels/Antwerp',\n",
       "       'Utrecht;Netherlands', 'Rome;IT', 'Malaga;Spain', 'Unknown;UK',\n",
       "       'Valencia;Spain', 'Warsaw;Poland', 'Tallinn;Estonia', 'Gothenburg',\n",
       "       'Unknown;Italy', 'Felixstowe', 'D?sseldorf', 'Barcelona;Spain',\n",
       "       'Sofia Bulgaria', 'London', 'Budapest;Hungary', 'Lisbon;Portugal',\n",
       "       'Alicante/Murcia;Spain', 'Vienna', 'Frankfurt;Switzerland',\n",
       "       'Brussels', 'Zagreb', ' Venice; Italy', 'Tarragona;Spain',\n",
       "       'Krakow;Poland', 'Athens ; Greece', 'Madrid;Spain',\n",
       "       'Bremen;Germany', 'Athens;Greece', 'Unknown;Spain', 'London ',\n",
       "       'Antwerp; Belgium', 'Torino;Italy', 'Lisbon ', 'Venice/Treviso',\n",
       "       'Genoa;Italy', 'Nantes;France', 'Dublin;Ireland',\n",
       "       'Vilnius;Lithuania', 'Alicante;Spain', 'Grange ; Ireland',\n",
       "       'Cardiff;UK', 'Treviso', 'Brussels;Belgium', 'Ljubljana', 'Poland',\n",
       "       'Malaga', 'Naples;Italy', 'Prague;CZ', 'Antwerp;Belgium', 'lisbon',\n",
       "       'Turin', 'Riga;Latvia', 'Trim', 'Uppsala;Sweden', 'Frankfurt',\n",
       "       'Dusseldorf', 'Trim;Ireland ', 'Milan', 'Coimbra', 'Naples',\n",
       "       'Sofia;BG', 'Rotterdam/Delft', 'Bratislava', 'Denmark',\n",
       "       'Thessaloniki;GR', 'Leipzig;Germany', 'Amsterdam;Netherlands',\n",
       "       'Turin;Italy', 'Berlin;Germany', 'Torino', 'Ljubljana;SI',\n",
       "       'Venice;IT', 'Seville;Spain', 'Treviso;Italy', 'Venice;Italy',\n",
       "       'Zagreb/Helsinki'], dtype=object)"
      ]
     },
     "execution_count": 270,
     "metadata": {},
     "output_type": "execute_result"
    }
   ],
   "source": [
    "# %load ../solutions/05_14.py\n",
    "df[\"Location\"].unique()"
   ]
  },
  {
   "cell_type": "markdown",
   "metadata": {},
   "source": [
    "You can see that the cities and countries are separated with a semi-column (even if some values are missing). We are going to split the ***Location*** column.\n",
    ">Try splitting the ***Location*** column on the semi-column.  \n",
    ">You can check the [link](https://pandas.pydata.org/pandas-docs/version/0.23.4/text.html) provided earlier or the [documentation](https://pandas.pydata.org/pandas-docs/stable/reference/api/pandas.Series.str.split.html)."
   ]
  },
  {
   "cell_type": "code",
   "execution_count": 271,
   "metadata": {
    "jupyter": {
     "outputs_hidden": false
    }
   },
   "outputs": [
    {
     "name": "stdout",
     "output_type": "stream",
     "text": [
      "<class 'pandas.core.frame.DataFrame'>\n",
      "RangeIndex: 266 entries, 0 to 265\n",
      "Data columns (total 8 columns):\n",
      " #   Column      Non-Null Count  Dtype \n",
      "---  ------      --------------  ----- \n",
      " 0   index       266 non-null    int64 \n",
      " 1   CourseName  266 non-null    object\n",
      " 2   Location    266 non-null    object\n",
      " 3   DateFrom    266 non-null    object\n",
      " 4   DateTo      266 non-null    object\n",
      " 5   Attendees   266 non-null    int64 \n",
      " 6   City        266 non-null    object\n",
      " 7   Country     101 non-null    object\n",
      "dtypes: int64(2), object(6)\n",
      "memory usage: 16.8+ KB\n"
     ]
    }
   ],
   "source": [
    "df[['City', 'Country']] = df['Location'].str.split(';', expand=True)\n",
    "df.info()"
   ]
  },
  {
   "cell_type": "code",
   "execution_count": 272,
   "metadata": {
    "jupyter": {
     "outputs_hidden": false
    }
   },
   "outputs": [
    {
     "data": {
      "text/plain": [
       "0         [lisbon, Portugal]\n",
       "1                  [Bristol]\n",
       "2      [Ljubljana, Slovenia]\n",
       "3                    [Padua]\n",
       "4                     [Rome]\n",
       "               ...          \n",
       "261             [Venice, IT]\n",
       "262               [Valencia]\n",
       "263             [Bratislava]\n",
       "264        [Zagreb/Helsinki]\n",
       "265                [Antwerp]\n",
       "Name: Location, Length: 266, dtype: object"
      ]
     },
     "execution_count": 272,
     "metadata": {},
     "output_type": "execute_result"
    }
   ],
   "source": [
    "# %load ../solutions/05_15.py\n",
    "df[\"Location\"].str.split(pat=\";\")"
   ]
  },
  {
   "cell_type": "markdown",
   "metadata": {},
   "source": [
    "This return a list with the items which were before and after the semi-column.  \n",
    ">Try again to split again the ***Location*** column, but expand expand the results to get it in different columns."
   ]
  },
  {
   "cell_type": "code",
   "execution_count": null,
   "metadata": {
    "jupyter": {
     "outputs_hidden": false
    }
   },
   "outputs": [],
   "source": []
  },
  {
   "cell_type": "code",
   "execution_count": 273,
   "metadata": {
    "jupyter": {
     "outputs_hidden": false
    },
    "scrolled": true
   },
   "outputs": [
    {
     "data": {
      "text/html": [
       "<div>\n",
       "<style scoped>\n",
       "    .dataframe tbody tr th:only-of-type {\n",
       "        vertical-align: middle;\n",
       "    }\n",
       "\n",
       "    .dataframe tbody tr th {\n",
       "        vertical-align: top;\n",
       "    }\n",
       "\n",
       "    .dataframe thead th {\n",
       "        text-align: right;\n",
       "    }\n",
       "</style>\n",
       "<table border=\"1\" class=\"dataframe\">\n",
       "  <thead>\n",
       "    <tr style=\"text-align: right;\">\n",
       "      <th></th>\n",
       "      <th>0</th>\n",
       "      <th>1</th>\n",
       "    </tr>\n",
       "  </thead>\n",
       "  <tbody>\n",
       "    <tr>\n",
       "      <th>0</th>\n",
       "      <td>lisbon</td>\n",
       "      <td>Portugal</td>\n",
       "    </tr>\n",
       "    <tr>\n",
       "      <th>1</th>\n",
       "      <td>Bristol</td>\n",
       "      <td>None</td>\n",
       "    </tr>\n",
       "    <tr>\n",
       "      <th>2</th>\n",
       "      <td>Ljubljana</td>\n",
       "      <td>Slovenia</td>\n",
       "    </tr>\n",
       "    <tr>\n",
       "      <th>3</th>\n",
       "      <td>Padua</td>\n",
       "      <td>None</td>\n",
       "    </tr>\n",
       "    <tr>\n",
       "      <th>4</th>\n",
       "      <td>Rome</td>\n",
       "      <td>None</td>\n",
       "    </tr>\n",
       "    <tr>\n",
       "      <th>...</th>\n",
       "      <td>...</td>\n",
       "      <td>...</td>\n",
       "    </tr>\n",
       "    <tr>\n",
       "      <th>261</th>\n",
       "      <td>Venice</td>\n",
       "      <td>IT</td>\n",
       "    </tr>\n",
       "    <tr>\n",
       "      <th>262</th>\n",
       "      <td>Valencia</td>\n",
       "      <td>None</td>\n",
       "    </tr>\n",
       "    <tr>\n",
       "      <th>263</th>\n",
       "      <td>Bratislava</td>\n",
       "      <td>None</td>\n",
       "    </tr>\n",
       "    <tr>\n",
       "      <th>264</th>\n",
       "      <td>Zagreb/Helsinki</td>\n",
       "      <td>None</td>\n",
       "    </tr>\n",
       "    <tr>\n",
       "      <th>265</th>\n",
       "      <td>Antwerp</td>\n",
       "      <td>None</td>\n",
       "    </tr>\n",
       "  </tbody>\n",
       "</table>\n",
       "<p>266 rows × 2 columns</p>\n",
       "</div>"
      ],
      "text/plain": [
       "                   0         1\n",
       "0             lisbon  Portugal\n",
       "1            Bristol      None\n",
       "2          Ljubljana  Slovenia\n",
       "3              Padua      None\n",
       "4               Rome      None\n",
       "..               ...       ...\n",
       "261           Venice        IT\n",
       "262         Valencia      None\n",
       "263       Bratislava      None\n",
       "264  Zagreb/Helsinki      None\n",
       "265          Antwerp      None\n",
       "\n",
       "[266 rows x 2 columns]"
      ]
     },
     "execution_count": 273,
     "metadata": {},
     "output_type": "execute_result"
    }
   ],
   "source": [
    "# %load ../solutions/05_16.py\n",
    "df[\"Location\"].str.split(pat=\";\", expand=True)"
   ]
  },
  {
   "cell_type": "markdown",
   "metadata": {},
   "source": [
    ">Create a ***city*** and a ***country*** columns in df using this split."
   ]
  },
  {
   "cell_type": "code",
   "execution_count": null,
   "metadata": {
    "jupyter": {
     "outputs_hidden": false
    }
   },
   "outputs": [],
   "source": []
  },
  {
   "cell_type": "code",
   "execution_count": 274,
   "metadata": {
    "jupyter": {
     "outputs_hidden": false
    }
   },
   "outputs": [],
   "source": [
    "# %load ../solutions/05_17.py\n",
    "df[[\"city\", \"country\"]] = df[\"Location\"].str.split(pat=\";\", expand=True)"
   ]
  },
  {
   "cell_type": "markdown",
   "metadata": {},
   "source": [
    ">Drop the ***Location*** column."
   ]
  },
  {
   "cell_type": "code",
   "execution_count": 275,
   "metadata": {
    "jupyter": {
     "outputs_hidden": false
    }
   },
   "outputs": [
    {
     "name": "stdout",
     "output_type": "stream",
     "text": [
      "<class 'pandas.core.frame.DataFrame'>\n",
      "RangeIndex: 266 entries, 0 to 265\n",
      "Data columns (total 7 columns):\n",
      " #   Column      Non-Null Count  Dtype \n",
      "---  ------      --------------  ----- \n",
      " 0   index       266 non-null    int64 \n",
      " 1   CourseName  266 non-null    object\n",
      " 2   DateFrom    266 non-null    object\n",
      " 3   DateTo      266 non-null    object\n",
      " 4   Attendees   266 non-null    int64 \n",
      " 5   City        266 non-null    object\n",
      " 6   Country     101 non-null    object\n",
      "dtypes: int64(2), object(5)\n",
      "memory usage: 14.7+ KB\n"
     ]
    }
   ],
   "source": [
    "df = df.drop(['Location', 'city', 'country'], axis=1)\n",
    "df.info()"
   ]
  },
  {
   "cell_type": "code",
   "execution_count": 276,
   "metadata": {
    "jupyter": {
     "outputs_hidden": false
    }
   },
   "outputs": [
    {
     "ename": "KeyError",
     "evalue": "\"['Location'] not found in axis\"",
     "output_type": "error",
     "traceback": [
      "\u001b[1;31m---------------------------------------------------------------------------\u001b[0m",
      "\u001b[1;31mKeyError\u001b[0m                                  Traceback (most recent call last)",
      "Cell \u001b[1;32mIn[276], line 2\u001b[0m\n\u001b[0;32m      1\u001b[0m \u001b[38;5;66;03m# %load ../solutions/05_18.py\u001b[39;00m\n\u001b[1;32m----> 2\u001b[0m df \u001b[38;5;241m=\u001b[39m \u001b[43mdf\u001b[49m\u001b[38;5;241;43m.\u001b[39;49m\u001b[43mdrop\u001b[49m\u001b[43m(\u001b[49m\u001b[38;5;124;43m\"\u001b[39;49m\u001b[38;5;124;43mLocation\u001b[39;49m\u001b[38;5;124;43m\"\u001b[39;49m\u001b[43m,\u001b[49m\u001b[43m \u001b[49m\u001b[43maxis\u001b[49m\u001b[38;5;241;43m=\u001b[39;49m\u001b[38;5;241;43m1\u001b[39;49m\u001b[43m)\u001b[49m\n",
      "File \u001b[1;32mc:\\Users\\elena\\AppData\\Local\\Programs\\Python\\Python310\\lib\\site-packages\\pandas\\util\\_decorators.py:317\u001b[0m, in \u001b[0;36mdeprecate_nonkeyword_arguments.<locals>.decorate.<locals>.wrapper\u001b[1;34m(*args, **kwargs)\u001b[0m\n\u001b[0;32m    311\u001b[0m \u001b[38;5;28;01mif\u001b[39;00m \u001b[38;5;28mlen\u001b[39m(args) \u001b[38;5;241m>\u001b[39m num_allow_args:\n\u001b[0;32m    312\u001b[0m     warnings\u001b[38;5;241m.\u001b[39mwarn(\n\u001b[0;32m    313\u001b[0m         msg\u001b[38;5;241m.\u001b[39mformat(arguments\u001b[38;5;241m=\u001b[39marguments),\n\u001b[0;32m    314\u001b[0m         \u001b[38;5;167;01mFutureWarning\u001b[39;00m,\n\u001b[0;32m    315\u001b[0m         stacklevel\u001b[38;5;241m=\u001b[39mfind_stack_level(inspect\u001b[38;5;241m.\u001b[39mcurrentframe()),\n\u001b[0;32m    316\u001b[0m     )\n\u001b[1;32m--> 317\u001b[0m \u001b[38;5;28;01mreturn\u001b[39;00m func(\u001b[38;5;241m*\u001b[39margs, \u001b[38;5;241m*\u001b[39m\u001b[38;5;241m*\u001b[39mkwargs)\n",
      "File \u001b[1;32mc:\\Users\\elena\\AppData\\Local\\Programs\\Python\\Python310\\lib\\site-packages\\pandas\\core\\frame.py:5391\u001b[0m, in \u001b[0;36mDataFrame.drop\u001b[1;34m(self, labels, axis, index, columns, level, inplace, errors)\u001b[0m\n\u001b[0;32m   5243\u001b[0m \u001b[38;5;129m@deprecate_nonkeyword_arguments\u001b[39m(version\u001b[38;5;241m=\u001b[39m\u001b[38;5;28;01mNone\u001b[39;00m, allowed_args\u001b[38;5;241m=\u001b[39m[\u001b[38;5;124m\"\u001b[39m\u001b[38;5;124mself\u001b[39m\u001b[38;5;124m\"\u001b[39m, \u001b[38;5;124m\"\u001b[39m\u001b[38;5;124mlabels\u001b[39m\u001b[38;5;124m\"\u001b[39m])\n\u001b[0;32m   5244\u001b[0m \u001b[38;5;28;01mdef\u001b[39;00m \u001b[38;5;21mdrop\u001b[39m(  \u001b[38;5;66;03m# type: ignore[override]\u001b[39;00m\n\u001b[0;32m   5245\u001b[0m     \u001b[38;5;28mself\u001b[39m,\n\u001b[1;32m   (...)\u001b[0m\n\u001b[0;32m   5252\u001b[0m     errors: IgnoreRaise \u001b[38;5;241m=\u001b[39m \u001b[38;5;124m\"\u001b[39m\u001b[38;5;124mraise\u001b[39m\u001b[38;5;124m\"\u001b[39m,\n\u001b[0;32m   5253\u001b[0m ) \u001b[38;5;241m-\u001b[39m\u001b[38;5;241m>\u001b[39m DataFrame \u001b[38;5;241m|\u001b[39m \u001b[38;5;28;01mNone\u001b[39;00m:\n\u001b[0;32m   5254\u001b[0m \u001b[38;5;250m    \u001b[39m\u001b[38;5;124;03m\"\"\"\u001b[39;00m\n\u001b[0;32m   5255\u001b[0m \u001b[38;5;124;03m    Drop specified labels from rows or columns.\u001b[39;00m\n\u001b[0;32m   5256\u001b[0m \n\u001b[1;32m   (...)\u001b[0m\n\u001b[0;32m   5389\u001b[0m \u001b[38;5;124;03m            weight  1.0     0.8\u001b[39;00m\n\u001b[0;32m   5390\u001b[0m \u001b[38;5;124;03m    \"\"\"\u001b[39;00m\n\u001b[1;32m-> 5391\u001b[0m     \u001b[38;5;28;01mreturn\u001b[39;00m \u001b[38;5;28;43msuper\u001b[39;49m\u001b[43m(\u001b[49m\u001b[43m)\u001b[49m\u001b[38;5;241;43m.\u001b[39;49m\u001b[43mdrop\u001b[49m\u001b[43m(\u001b[49m\n\u001b[0;32m   5392\u001b[0m \u001b[43m        \u001b[49m\u001b[43mlabels\u001b[49m\u001b[38;5;241;43m=\u001b[39;49m\u001b[43mlabels\u001b[49m\u001b[43m,\u001b[49m\n\u001b[0;32m   5393\u001b[0m \u001b[43m        \u001b[49m\u001b[43maxis\u001b[49m\u001b[38;5;241;43m=\u001b[39;49m\u001b[43maxis\u001b[49m\u001b[43m,\u001b[49m\n\u001b[0;32m   5394\u001b[0m \u001b[43m        \u001b[49m\u001b[43mindex\u001b[49m\u001b[38;5;241;43m=\u001b[39;49m\u001b[43mindex\u001b[49m\u001b[43m,\u001b[49m\n\u001b[0;32m   5395\u001b[0m \u001b[43m        \u001b[49m\u001b[43mcolumns\u001b[49m\u001b[38;5;241;43m=\u001b[39;49m\u001b[43mcolumns\u001b[49m\u001b[43m,\u001b[49m\n\u001b[0;32m   5396\u001b[0m \u001b[43m        \u001b[49m\u001b[43mlevel\u001b[49m\u001b[38;5;241;43m=\u001b[39;49m\u001b[43mlevel\u001b[49m\u001b[43m,\u001b[49m\n\u001b[0;32m   5397\u001b[0m \u001b[43m        \u001b[49m\u001b[43minplace\u001b[49m\u001b[38;5;241;43m=\u001b[39;49m\u001b[43minplace\u001b[49m\u001b[43m,\u001b[49m\n\u001b[0;32m   5398\u001b[0m \u001b[43m        \u001b[49m\u001b[43merrors\u001b[49m\u001b[38;5;241;43m=\u001b[39;49m\u001b[43merrors\u001b[49m\u001b[43m,\u001b[49m\n\u001b[0;32m   5399\u001b[0m \u001b[43m    \u001b[49m\u001b[43m)\u001b[49m\n",
      "File \u001b[1;32mc:\\Users\\elena\\AppData\\Local\\Programs\\Python\\Python310\\lib\\site-packages\\pandas\\util\\_decorators.py:317\u001b[0m, in \u001b[0;36mdeprecate_nonkeyword_arguments.<locals>.decorate.<locals>.wrapper\u001b[1;34m(*args, **kwargs)\u001b[0m\n\u001b[0;32m    311\u001b[0m \u001b[38;5;28;01mif\u001b[39;00m \u001b[38;5;28mlen\u001b[39m(args) \u001b[38;5;241m>\u001b[39m num_allow_args:\n\u001b[0;32m    312\u001b[0m     warnings\u001b[38;5;241m.\u001b[39mwarn(\n\u001b[0;32m    313\u001b[0m         msg\u001b[38;5;241m.\u001b[39mformat(arguments\u001b[38;5;241m=\u001b[39marguments),\n\u001b[0;32m    314\u001b[0m         \u001b[38;5;167;01mFutureWarning\u001b[39;00m,\n\u001b[0;32m    315\u001b[0m         stacklevel\u001b[38;5;241m=\u001b[39mfind_stack_level(inspect\u001b[38;5;241m.\u001b[39mcurrentframe()),\n\u001b[0;32m    316\u001b[0m     )\n\u001b[1;32m--> 317\u001b[0m \u001b[38;5;28;01mreturn\u001b[39;00m func(\u001b[38;5;241m*\u001b[39margs, \u001b[38;5;241m*\u001b[39m\u001b[38;5;241m*\u001b[39mkwargs)\n",
      "File \u001b[1;32mc:\\Users\\elena\\AppData\\Local\\Programs\\Python\\Python310\\lib\\site-packages\\pandas\\core\\generic.py:4510\u001b[0m, in \u001b[0;36mNDFrame.drop\u001b[1;34m(self, labels, axis, index, columns, level, inplace, errors)\u001b[0m\n\u001b[0;32m   4508\u001b[0m \u001b[38;5;28;01mfor\u001b[39;00m axis, labels \u001b[38;5;129;01min\u001b[39;00m axes\u001b[38;5;241m.\u001b[39mitems():\n\u001b[0;32m   4509\u001b[0m     \u001b[38;5;28;01mif\u001b[39;00m labels \u001b[38;5;129;01mis\u001b[39;00m \u001b[38;5;129;01mnot\u001b[39;00m \u001b[38;5;28;01mNone\u001b[39;00m:\n\u001b[1;32m-> 4510\u001b[0m         obj \u001b[38;5;241m=\u001b[39m \u001b[43mobj\u001b[49m\u001b[38;5;241;43m.\u001b[39;49m\u001b[43m_drop_axis\u001b[49m\u001b[43m(\u001b[49m\u001b[43mlabels\u001b[49m\u001b[43m,\u001b[49m\u001b[43m \u001b[49m\u001b[43maxis\u001b[49m\u001b[43m,\u001b[49m\u001b[43m \u001b[49m\u001b[43mlevel\u001b[49m\u001b[38;5;241;43m=\u001b[39;49m\u001b[43mlevel\u001b[49m\u001b[43m,\u001b[49m\u001b[43m \u001b[49m\u001b[43merrors\u001b[49m\u001b[38;5;241;43m=\u001b[39;49m\u001b[43merrors\u001b[49m\u001b[43m)\u001b[49m\n\u001b[0;32m   4512\u001b[0m \u001b[38;5;28;01mif\u001b[39;00m inplace:\n\u001b[0;32m   4513\u001b[0m     \u001b[38;5;28mself\u001b[39m\u001b[38;5;241m.\u001b[39m_update_inplace(obj)\n",
      "File \u001b[1;32mc:\\Users\\elena\\AppData\\Local\\Programs\\Python\\Python310\\lib\\site-packages\\pandas\\core\\generic.py:4551\u001b[0m, in \u001b[0;36mNDFrame._drop_axis\u001b[1;34m(self, labels, axis, level, errors, only_slice)\u001b[0m\n\u001b[0;32m   4549\u001b[0m         new_axis \u001b[38;5;241m=\u001b[39m axis\u001b[38;5;241m.\u001b[39mdrop(labels, level\u001b[38;5;241m=\u001b[39mlevel, errors\u001b[38;5;241m=\u001b[39merrors)\n\u001b[0;32m   4550\u001b[0m     \u001b[38;5;28;01melse\u001b[39;00m:\n\u001b[1;32m-> 4551\u001b[0m         new_axis \u001b[38;5;241m=\u001b[39m \u001b[43maxis\u001b[49m\u001b[38;5;241;43m.\u001b[39;49m\u001b[43mdrop\u001b[49m\u001b[43m(\u001b[49m\u001b[43mlabels\u001b[49m\u001b[43m,\u001b[49m\u001b[43m \u001b[49m\u001b[43merrors\u001b[49m\u001b[38;5;241;43m=\u001b[39;49m\u001b[43merrors\u001b[49m\u001b[43m)\u001b[49m\n\u001b[0;32m   4552\u001b[0m     indexer \u001b[38;5;241m=\u001b[39m axis\u001b[38;5;241m.\u001b[39mget_indexer(new_axis)\n\u001b[0;32m   4554\u001b[0m \u001b[38;5;66;03m# Case for non-unique axis\u001b[39;00m\n\u001b[0;32m   4555\u001b[0m \u001b[38;5;28;01melse\u001b[39;00m:\n",
      "File \u001b[1;32mc:\\Users\\elena\\AppData\\Local\\Programs\\Python\\Python310\\lib\\site-packages\\pandas\\core\\indexes\\base.py:6972\u001b[0m, in \u001b[0;36mIndex.drop\u001b[1;34m(self, labels, errors)\u001b[0m\n\u001b[0;32m   6970\u001b[0m \u001b[38;5;28;01mif\u001b[39;00m mask\u001b[38;5;241m.\u001b[39many():\n\u001b[0;32m   6971\u001b[0m     \u001b[38;5;28;01mif\u001b[39;00m errors \u001b[38;5;241m!=\u001b[39m \u001b[38;5;124m\"\u001b[39m\u001b[38;5;124mignore\u001b[39m\u001b[38;5;124m\"\u001b[39m:\n\u001b[1;32m-> 6972\u001b[0m         \u001b[38;5;28;01mraise\u001b[39;00m \u001b[38;5;167;01mKeyError\u001b[39;00m(\u001b[38;5;124mf\u001b[39m\u001b[38;5;124m\"\u001b[39m\u001b[38;5;132;01m{\u001b[39;00m\u001b[38;5;28mlist\u001b[39m(labels[mask])\u001b[38;5;132;01m}\u001b[39;00m\u001b[38;5;124m not found in axis\u001b[39m\u001b[38;5;124m\"\u001b[39m)\n\u001b[0;32m   6973\u001b[0m     indexer \u001b[38;5;241m=\u001b[39m indexer[\u001b[38;5;241m~\u001b[39mmask]\n\u001b[0;32m   6974\u001b[0m \u001b[38;5;28;01mreturn\u001b[39;00m \u001b[38;5;28mself\u001b[39m\u001b[38;5;241m.\u001b[39mdelete(indexer)\n",
      "\u001b[1;31mKeyError\u001b[0m: \"['Location'] not found in axis\""
     ]
    }
   ],
   "source": [
    "# %load ../solutions/05_18.py\n",
    "df = df.drop(\"Location\", axis=1)"
   ]
  },
  {
   "cell_type": "code",
   "execution_count": null,
   "metadata": {
    "jupyter": {
     "outputs_hidden": false
    }
   },
   "outputs": [],
   "source": [
    "df.head()"
   ]
  },
  {
   "cell_type": "markdown",
   "metadata": {},
   "source": [
    ">Get the number of unique values in the ***country*** column."
   ]
  },
  {
   "cell_type": "code",
   "execution_count": null,
   "metadata": {
    "jupyter": {
     "outputs_hidden": false
    }
   },
   "outputs": [
    {
     "data": {
      "text/plain": [
       "35"
      ]
     },
     "execution_count": 150,
     "metadata": {},
     "output_type": "execute_result"
    }
   ],
   "source": [
    "df['Country'].nunique()"
   ]
  },
  {
   "cell_type": "code",
   "execution_count": null,
   "metadata": {
    "jupyter": {
     "outputs_hidden": false
    }
   },
   "outputs": [],
   "source": [
    "# %load ../solutions/05_19.py\n",
    "df[\"country\"].nunique()"
   ]
  },
  {
   "cell_type": "markdown",
   "metadata": {},
   "source": [
    ">Check the count of each unique values in the ***country*** column."
   ]
  },
  {
   "cell_type": "code",
   "execution_count": null,
   "metadata": {
    "jupyter": {
     "outputs_hidden": false
    }
   },
   "outputs": [
    {
     "data": {
      "text/plain": [
       "Ireland           16\n",
       "Italy             13\n",
       "Spain             13\n",
       "IT                 5\n",
       "Germany            5\n",
       "Portugal           4\n",
       "Greece             4\n",
       "Slovenia           4\n",
       "UK                 4\n",
       "Belgium            3\n",
       "France             3\n",
       "Netherlands        3\n",
       "Poland             2\n",
       " Italy             1\n",
       "Austria            1\n",
       "GR                 1\n",
       "BG                 1\n",
       "Ireland            1\n",
       "Sweden             1\n",
       "Latvia             1\n",
       "CZ                 1\n",
       " Ireland           1\n",
       " Ireland           1\n",
       "Lithuania          1\n",
       " Belgium           1\n",
       "Croatia            1\n",
       " Greece            1\n",
       " Italy             1\n",
       "Switzerland        1\n",
       "Hungary            1\n",
       "Estonia            1\n",
       "Slovakia           1\n",
       "United Kingdom     1\n",
       "Denmark            1\n",
       "SI                 1\n",
       "Name: Country, dtype: int64"
      ]
     },
     "execution_count": 159,
     "metadata": {},
     "output_type": "execute_result"
    }
   ],
   "source": [
    "df['Country'].value_counts()"
   ]
  },
  {
   "cell_type": "code",
   "execution_count": null,
   "metadata": {
    "jupyter": {
     "outputs_hidden": false
    }
   },
   "outputs": [],
   "source": [
    "# %load ../solutions/05_20.py\n",
    "df[\"country\"].value_counts()"
   ]
  },
  {
   "cell_type": "markdown",
   "metadata": {},
   "source": [
    "We can see that some countries (e.g. Italy) seems to appear several times with some variations.\n",
    ">Use the strip method to remove the (potential) extra spaces at the beginning and the end of the cities and countries."
   ]
  },
  {
   "cell_type": "code",
   "execution_count": null,
   "metadata": {
    "jupyter": {
     "outputs_hidden": false
    }
   },
   "outputs": [
    {
     "data": {
      "text/plain": [
       "Lisbon             14\n",
       "Trim               12\n",
       "Riga               11\n",
       "Rome               11\n",
       "Unknown            11\n",
       "                   ..\n",
       "D?sseldorf          1\n",
       "Gothenburg          1\n",
       "Utrecht             1\n",
       "Rotterdam           1\n",
       "Zagreb/Helsinki     1\n",
       "Name: City, Length: 71, dtype: int64"
      ]
     },
     "execution_count": 200,
     "metadata": {},
     "output_type": "execute_result"
    }
   ],
   "source": [
    "df['Country'] = df['Country'].str.strip()\n",
    "df['City'] = df['City'].str.strip()\n",
    "df['City'].value_counts()"
   ]
  },
  {
   "cell_type": "code",
   "execution_count": null,
   "metadata": {
    "jupyter": {
     "outputs_hidden": false
    }
   },
   "outputs": [],
   "source": [
    "# %load ../solutions/05_21.py\n",
    "df[\"country\"] = df[\"country\"].str.strip()\n",
    "df[\"city\"] = df[\"city\"].str.strip()"
   ]
  },
  {
   "cell_type": "markdown",
   "metadata": {},
   "source": [
    "   >Check again the number of unique values in the country column"
   ]
  },
  {
   "cell_type": "code",
   "execution_count": null,
   "metadata": {
    "jupyter": {
     "outputs_hidden": false
    }
   },
   "outputs": [],
   "source": []
  },
  {
   "cell_type": "code",
   "execution_count": null,
   "metadata": {
    "jupyter": {
     "outputs_hidden": false
    }
   },
   "outputs": [],
   "source": [
    "# %load ../solutions/05_22.py"
   ]
  },
  {
   "cell_type": "markdown",
   "metadata": {},
   "source": [
    ">Have a look at the rows where the ***country*** is Portugal.  \n",
    "What do you notice about the ***city***?"
   ]
  },
  {
   "cell_type": "code",
   "execution_count": null,
   "metadata": {
    "jupyter": {
     "outputs_hidden": false
    }
   },
   "outputs": [
    {
     "data": {
      "text/html": [
       "<div>\n",
       "<style scoped>\n",
       "    .dataframe tbody tr th:only-of-type {\n",
       "        vertical-align: middle;\n",
       "    }\n",
       "\n",
       "    .dataframe tbody tr th {\n",
       "        vertical-align: top;\n",
       "    }\n",
       "\n",
       "    .dataframe thead th {\n",
       "        text-align: right;\n",
       "    }\n",
       "</style>\n",
       "<table border=\"1\" class=\"dataframe\">\n",
       "  <thead>\n",
       "    <tr style=\"text-align: right;\">\n",
       "      <th></th>\n",
       "      <th>index</th>\n",
       "      <th>CourseName</th>\n",
       "      <th>DateFrom</th>\n",
       "      <th>DateTo</th>\n",
       "      <th>Attendees</th>\n",
       "      <th>City</th>\n",
       "      <th>Country</th>\n",
       "    </tr>\n",
       "  </thead>\n",
       "  <tbody>\n",
       "    <tr>\n",
       "      <th>0</th>\n",
       "      <td>0</td>\n",
       "      <td>Risk Assessment (Pest)</td>\n",
       "      <td>2015-01-12</td>\n",
       "      <td>2015-01-16</td>\n",
       "      <td>1</td>\n",
       "      <td>Lisbon</td>\n",
       "      <td>Portugal</td>\n",
       "    </tr>\n",
       "    <tr>\n",
       "      <th>44</th>\n",
       "      <td>16</td>\n",
       "      <td>Food Hygiene and Flexibility</td>\n",
       "      <td>2015-05-10</td>\n",
       "      <td>2015-05-15</td>\n",
       "      <td>2</td>\n",
       "      <td>Coimbra</td>\n",
       "      <td>Portugal</td>\n",
       "    </tr>\n",
       "    <tr>\n",
       "      <th>117</th>\n",
       "      <td>89</td>\n",
       "      <td>Plant Health Controls</td>\n",
       "      <td>2015-11-16</td>\n",
       "      <td>2015-11-19</td>\n",
       "      <td>1</td>\n",
       "      <td>Lisbon</td>\n",
       "      <td>Portugal</td>\n",
       "    </tr>\n",
       "    <tr>\n",
       "      <th>254</th>\n",
       "      <td>104</td>\n",
       "      <td>Animal identification registration and traceab...</td>\n",
       "      <td>2016-12-05</td>\n",
       "      <td>2016-12-09</td>\n",
       "      <td>1</td>\n",
       "      <td>Lisbon</td>\n",
       "      <td>Portugal</td>\n",
       "    </tr>\n",
       "  </tbody>\n",
       "</table>\n",
       "</div>"
      ],
      "text/plain": [
       "     index                                         CourseName    DateFrom  \\\n",
       "0        0                             Risk Assessment (Pest)  2015-01-12   \n",
       "44      16                       Food Hygiene and Flexibility  2015-05-10   \n",
       "117     89                              Plant Health Controls  2015-11-16   \n",
       "254    104  Animal identification registration and traceab...  2016-12-05   \n",
       "\n",
       "         DateTo  Attendees     City   Country  \n",
       "0    2015-01-16          1   Lisbon  Portugal  \n",
       "44   2015-05-15          2  Coimbra  Portugal  \n",
       "117  2015-11-19          1   Lisbon  Portugal  \n",
       "254  2016-12-09          1   Lisbon  Portugal  "
      ]
     },
     "execution_count": 211,
     "metadata": {},
     "output_type": "execute_result"
    }
   ],
   "source": [
    "df[df['Country'] == 'Portugal']"
   ]
  },
  {
   "cell_type": "code",
   "execution_count": null,
   "metadata": {
    "jupyter": {
     "outputs_hidden": false
    }
   },
   "outputs": [
    {
     "ename": "KeyError",
     "evalue": "'country'",
     "output_type": "error",
     "traceback": [
      "\u001b[1;31m---------------------------------------------------------------------------\u001b[0m",
      "\u001b[1;31mKeyError\u001b[0m                                  Traceback (most recent call last)",
      "File \u001b[1;32mc:\\Users\\elena\\AppData\\Local\\Programs\\Python\\Python310\\lib\\site-packages\\pandas\\core\\indexes\\base.py:3800\u001b[0m, in \u001b[0;36mIndex.get_loc\u001b[1;34m(self, key, method, tolerance)\u001b[0m\n\u001b[0;32m   3799\u001b[0m \u001b[38;5;28;01mtry\u001b[39;00m:\n\u001b[1;32m-> 3800\u001b[0m     \u001b[38;5;28;01mreturn\u001b[39;00m \u001b[38;5;28;43mself\u001b[39;49m\u001b[38;5;241;43m.\u001b[39;49m\u001b[43m_engine\u001b[49m\u001b[38;5;241;43m.\u001b[39;49m\u001b[43mget_loc\u001b[49m\u001b[43m(\u001b[49m\u001b[43mcasted_key\u001b[49m\u001b[43m)\u001b[49m\n\u001b[0;32m   3801\u001b[0m \u001b[38;5;28;01mexcept\u001b[39;00m \u001b[38;5;167;01mKeyError\u001b[39;00m \u001b[38;5;28;01mas\u001b[39;00m err:\n",
      "File \u001b[1;32mc:\\Users\\elena\\AppData\\Local\\Programs\\Python\\Python310\\lib\\site-packages\\pandas\\_libs\\index.pyx:138\u001b[0m, in \u001b[0;36mpandas._libs.index.IndexEngine.get_loc\u001b[1;34m()\u001b[0m\n",
      "File \u001b[1;32mc:\\Users\\elena\\AppData\\Local\\Programs\\Python\\Python310\\lib\\site-packages\\pandas\\_libs\\index.pyx:165\u001b[0m, in \u001b[0;36mpandas._libs.index.IndexEngine.get_loc\u001b[1;34m()\u001b[0m\n",
      "File \u001b[1;32mpandas\\_libs\\hashtable_class_helper.pxi:5745\u001b[0m, in \u001b[0;36mpandas._libs.hashtable.PyObjectHashTable.get_item\u001b[1;34m()\u001b[0m\n",
      "File \u001b[1;32mpandas\\_libs\\hashtable_class_helper.pxi:5753\u001b[0m, in \u001b[0;36mpandas._libs.hashtable.PyObjectHashTable.get_item\u001b[1;34m()\u001b[0m\n",
      "\u001b[1;31mKeyError\u001b[0m: 'country'",
      "\nThe above exception was the direct cause of the following exception:\n",
      "\u001b[1;31mKeyError\u001b[0m                                  Traceback (most recent call last)",
      "Cell \u001b[1;32mIn[208], line 2\u001b[0m\n\u001b[0;32m      1\u001b[0m \u001b[38;5;66;03m# %load ../solutions/05_23.py\u001b[39;00m\n\u001b[1;32m----> 2\u001b[0m df[\u001b[43mdf\u001b[49m\u001b[43m[\u001b[49m\u001b[38;5;124;43m\"\u001b[39;49m\u001b[38;5;124;43mcountry\u001b[39;49m\u001b[38;5;124;43m\"\u001b[39;49m\u001b[43m]\u001b[49m \u001b[38;5;241m==\u001b[39m \u001b[38;5;124m\"\u001b[39m\u001b[38;5;124mPortugal\u001b[39m\u001b[38;5;124m\"\u001b[39m]\n",
      "File \u001b[1;32mc:\\Users\\elena\\AppData\\Local\\Programs\\Python\\Python310\\lib\\site-packages\\pandas\\core\\frame.py:3805\u001b[0m, in \u001b[0;36mDataFrame.__getitem__\u001b[1;34m(self, key)\u001b[0m\n\u001b[0;32m   3803\u001b[0m \u001b[38;5;28;01mif\u001b[39;00m \u001b[38;5;28mself\u001b[39m\u001b[38;5;241m.\u001b[39mcolumns\u001b[38;5;241m.\u001b[39mnlevels \u001b[38;5;241m>\u001b[39m \u001b[38;5;241m1\u001b[39m:\n\u001b[0;32m   3804\u001b[0m     \u001b[38;5;28;01mreturn\u001b[39;00m \u001b[38;5;28mself\u001b[39m\u001b[38;5;241m.\u001b[39m_getitem_multilevel(key)\n\u001b[1;32m-> 3805\u001b[0m indexer \u001b[38;5;241m=\u001b[39m \u001b[38;5;28;43mself\u001b[39;49m\u001b[38;5;241;43m.\u001b[39;49m\u001b[43mcolumns\u001b[49m\u001b[38;5;241;43m.\u001b[39;49m\u001b[43mget_loc\u001b[49m\u001b[43m(\u001b[49m\u001b[43mkey\u001b[49m\u001b[43m)\u001b[49m\n\u001b[0;32m   3806\u001b[0m \u001b[38;5;28;01mif\u001b[39;00m is_integer(indexer):\n\u001b[0;32m   3807\u001b[0m     indexer \u001b[38;5;241m=\u001b[39m [indexer]\n",
      "File \u001b[1;32mc:\\Users\\elena\\AppData\\Local\\Programs\\Python\\Python310\\lib\\site-packages\\pandas\\core\\indexes\\base.py:3802\u001b[0m, in \u001b[0;36mIndex.get_loc\u001b[1;34m(self, key, method, tolerance)\u001b[0m\n\u001b[0;32m   3800\u001b[0m     \u001b[38;5;28;01mreturn\u001b[39;00m \u001b[38;5;28mself\u001b[39m\u001b[38;5;241m.\u001b[39m_engine\u001b[38;5;241m.\u001b[39mget_loc(casted_key)\n\u001b[0;32m   3801\u001b[0m \u001b[38;5;28;01mexcept\u001b[39;00m \u001b[38;5;167;01mKeyError\u001b[39;00m \u001b[38;5;28;01mas\u001b[39;00m err:\n\u001b[1;32m-> 3802\u001b[0m     \u001b[38;5;28;01mraise\u001b[39;00m \u001b[38;5;167;01mKeyError\u001b[39;00m(key) \u001b[38;5;28;01mfrom\u001b[39;00m \u001b[38;5;21;01merr\u001b[39;00m\n\u001b[0;32m   3803\u001b[0m \u001b[38;5;28;01mexcept\u001b[39;00m \u001b[38;5;167;01mTypeError\u001b[39;00m:\n\u001b[0;32m   3804\u001b[0m     \u001b[38;5;66;03m# If we have a listlike key, _check_indexing_error will raise\u001b[39;00m\n\u001b[0;32m   3805\u001b[0m     \u001b[38;5;66;03m#  InvalidIndexError. Otherwise we fall through and re-raise\u001b[39;00m\n\u001b[0;32m   3806\u001b[0m     \u001b[38;5;66;03m#  the TypeError.\u001b[39;00m\n\u001b[0;32m   3807\u001b[0m     \u001b[38;5;28mself\u001b[39m\u001b[38;5;241m.\u001b[39m_check_indexing_error(key)\n",
      "\u001b[1;31mKeyError\u001b[0m: 'country'"
     ]
    }
   ],
   "source": [
    "# %load ../solutions/05_23.py\n",
    "df[df[\"country\"] == \"Portugal\"]"
   ]
  },
  {
   "cell_type": "markdown",
   "metadata": {},
   "source": [
    ">Put the ***city*** column into lower case (don't forget to re-assign it to the **city** column)."
   ]
  },
  {
   "cell_type": "code",
   "execution_count": null,
   "metadata": {
    "jupyter": {
     "outputs_hidden": false
    }
   },
   "outputs": [],
   "source": [
    "df['City'] = df['City'].str.capitalize()"
   ]
  },
  {
   "cell_type": "code",
   "execution_count": null,
   "metadata": {
    "jupyter": {
     "outputs_hidden": false
    }
   },
   "outputs": [],
   "source": [
    "# %load ../solutions/05_24.py\n",
    "df[\"city\"] = df[\"city\"].str.lower()"
   ]
  },
  {
   "cell_type": "markdown",
   "metadata": {},
   "source": [
    ">Have a look at the rows where the ***city*** contains ' ***/*** '."
   ]
  },
  {
   "cell_type": "code",
   "execution_count": null,
   "metadata": {
    "jupyter": {
     "outputs_hidden": false
    }
   },
   "outputs": [
    {
     "data": {
      "text/plain": [
       "69         Venice/udine\n",
       "79     Brussels/antwerp\n",
       "118     Alicante/murcia\n",
       "145      Venice/treviso\n",
       "159      Venice/treviso\n",
       "174    Brussels/antwerp\n",
       "216     Rotterdam/delft\n",
       "264     Zagreb/helsinki\n",
       "Name: City, dtype: object"
      ]
     },
     "execution_count": 215,
     "metadata": {},
     "output_type": "execute_result"
    }
   ],
   "source": [
    "df[\"City\"][df[\"City\"].str.contains(\"/\")]\n"
   ]
  },
  {
   "cell_type": "code",
   "execution_count": null,
   "metadata": {
    "jupyter": {
     "outputs_hidden": false
    }
   },
   "outputs": [],
   "source": [
    "# %load ../solutions/05_25.py\n",
    "df[\"city\"][df[\"city\"].str.contains(\"/\")]"
   ]
  },
  {
   "cell_type": "markdown",
   "metadata": {},
   "source": [
    "Let's decide we only want to have one city for each row. We can decide to keep only the city before the forward slash.  \n",
    ">Replace the string with a forward slash (i.e. ***/***) with the city appearing before the slash in the ***city*** column.  \n",
    ">You will have to use a [regular expression](https://docs.python.org/3/howto/regex.html#repeating-things).      \n",
    ">You can test your regular expression [here](https://regex101.com)."
   ]
  },
  {
   "cell_type": "code",
   "execution_count": null,
   "metadata": {},
   "outputs": [
    {
     "data": {
      "text/html": [
       "<div>\n",
       "<style scoped>\n",
       "    .dataframe tbody tr th:only-of-type {\n",
       "        vertical-align: middle;\n",
       "    }\n",
       "\n",
       "    .dataframe tbody tr th {\n",
       "        vertical-align: top;\n",
       "    }\n",
       "\n",
       "    .dataframe thead th {\n",
       "        text-align: right;\n",
       "    }\n",
       "</style>\n",
       "<table border=\"1\" class=\"dataframe\">\n",
       "  <thead>\n",
       "    <tr style=\"text-align: right;\">\n",
       "      <th></th>\n",
       "      <th>index</th>\n",
       "      <th>CourseName</th>\n",
       "      <th>DateFrom</th>\n",
       "      <th>DateTo</th>\n",
       "      <th>Attendees</th>\n",
       "      <th>City</th>\n",
       "      <th>Country</th>\n",
       "    </tr>\n",
       "  </thead>\n",
       "  <tbody>\n",
       "    <tr>\n",
       "      <th>0</th>\n",
       "      <td>0</td>\n",
       "      <td>Risk Assessment (Pest)</td>\n",
       "      <td>2015-01-12</td>\n",
       "      <td>2015-01-16</td>\n",
       "      <td>1</td>\n",
       "      <td>Lisbon</td>\n",
       "      <td>Portugal</td>\n",
       "    </tr>\n",
       "    <tr>\n",
       "      <th>1</th>\n",
       "      <td>1</td>\n",
       "      <td>Organic Farming</td>\n",
       "      <td>2015-01-19</td>\n",
       "      <td>2015-01-22</td>\n",
       "      <td>2</td>\n",
       "      <td>Bristol</td>\n",
       "      <td>None</td>\n",
       "    </tr>\n",
       "    <tr>\n",
       "      <th>2</th>\n",
       "      <td>2</td>\n",
       "      <td>Prevention Control and Eradication of Transmis...</td>\n",
       "      <td>2015-01-20</td>\n",
       "      <td>2015-01-23</td>\n",
       "      <td>2</td>\n",
       "      <td>Ljubljana</td>\n",
       "      <td>Slovenia</td>\n",
       "    </tr>\n",
       "    <tr>\n",
       "      <th>3</th>\n",
       "      <td>3</td>\n",
       "      <td>Contingency Planning</td>\n",
       "      <td>2015-01-26</td>\n",
       "      <td>2015-01-30</td>\n",
       "      <td>2</td>\n",
       "      <td>Padua</td>\n",
       "      <td>None</td>\n",
       "    </tr>\n",
       "    <tr>\n",
       "      <th>4</th>\n",
       "      <td>4</td>\n",
       "      <td>HACCP</td>\n",
       "      <td>2015-02-02</td>\n",
       "      <td>2015-02-06</td>\n",
       "      <td>2</td>\n",
       "      <td>Rome</td>\n",
       "      <td>None</td>\n",
       "    </tr>\n",
       "    <tr>\n",
       "      <th>...</th>\n",
       "      <td>...</td>\n",
       "      <td>...</td>\n",
       "      <td>...</td>\n",
       "      <td>...</td>\n",
       "      <td>...</td>\n",
       "      <td>...</td>\n",
       "      <td>...</td>\n",
       "    </tr>\n",
       "    <tr>\n",
       "      <th>261</th>\n",
       "      <td>111</td>\n",
       "      <td>Contingency Planning</td>\n",
       "      <td>2017-03-06</td>\n",
       "      <td>2017-03-10</td>\n",
       "      <td>3</td>\n",
       "      <td>Venice</td>\n",
       "      <td>IT</td>\n",
       "    </tr>\n",
       "    <tr>\n",
       "      <th>262</th>\n",
       "      <td>112</td>\n",
       "      <td>Audit B1 - Standard Level</td>\n",
       "      <td>2017-03-06</td>\n",
       "      <td>2017-03-10</td>\n",
       "      <td>2</td>\n",
       "      <td>Valencia</td>\n",
       "      <td>None</td>\n",
       "    </tr>\n",
       "    <tr>\n",
       "      <th>263</th>\n",
       "      <td>113</td>\n",
       "      <td>Audit A</td>\n",
       "      <td>2017-03-20</td>\n",
       "      <td>2017-03-24</td>\n",
       "      <td>1</td>\n",
       "      <td>Bratislava</td>\n",
       "      <td>None</td>\n",
       "    </tr>\n",
       "    <tr>\n",
       "      <th>264</th>\n",
       "      <td>114</td>\n",
       "      <td>Food Hygiene and Flexibility</td>\n",
       "      <td>2017-03-20</td>\n",
       "      <td>2017-03-24</td>\n",
       "      <td>2</td>\n",
       "      <td>Zagreb</td>\n",
       "      <td>None</td>\n",
       "    </tr>\n",
       "    <tr>\n",
       "      <th>265</th>\n",
       "      <td>115</td>\n",
       "      <td>Animal Health and Disease Prevention for Bees ...</td>\n",
       "      <td>2017-03-28</td>\n",
       "      <td>2017-03-31</td>\n",
       "      <td>2</td>\n",
       "      <td>Antwerp</td>\n",
       "      <td>None</td>\n",
       "    </tr>\n",
       "  </tbody>\n",
       "</table>\n",
       "<p>266 rows × 7 columns</p>\n",
       "</div>"
      ],
      "text/plain": [
       "     index                                         CourseName    DateFrom  \\\n",
       "0        0                             Risk Assessment (Pest)  2015-01-12   \n",
       "1        1                                    Organic Farming  2015-01-19   \n",
       "2        2  Prevention Control and Eradication of Transmis...  2015-01-20   \n",
       "3        3                               Contingency Planning  2015-01-26   \n",
       "4        4                                              HACCP  2015-02-02   \n",
       "..     ...                                                ...         ...   \n",
       "261    111                               Contingency Planning  2017-03-06   \n",
       "262    112                          Audit B1 - Standard Level  2017-03-06   \n",
       "263    113                                            Audit A  2017-03-20   \n",
       "264    114                       Food Hygiene and Flexibility  2017-03-20   \n",
       "265    115  Animal Health and Disease Prevention for Bees ...  2017-03-28   \n",
       "\n",
       "         DateTo  Attendees        City   Country  \n",
       "0    2015-01-16          1      Lisbon  Portugal  \n",
       "1    2015-01-22          2     Bristol      None  \n",
       "2    2015-01-23          2   Ljubljana  Slovenia  \n",
       "3    2015-01-30          2       Padua      None  \n",
       "4    2015-02-06          2        Rome      None  \n",
       "..          ...        ...         ...       ...  \n",
       "261  2017-03-10          3      Venice        IT  \n",
       "262  2017-03-10          2    Valencia      None  \n",
       "263  2017-03-24          1  Bratislava      None  \n",
       "264  2017-03-24          2      Zagreb      None  \n",
       "265  2017-03-31          2     Antwerp      None  \n",
       "\n",
       "[266 rows x 7 columns]"
      ]
     },
     "execution_count": 216,
     "metadata": {},
     "output_type": "execute_result"
    }
   ],
   "source": [
    "df['City'] = df['City'].str.split('/').str[0]\n",
    "df"
   ]
  },
  {
   "cell_type": "code",
   "execution_count": null,
   "metadata": {},
   "outputs": [],
   "source": [
    "# %load ../solutions/05_26.py\n",
    "df[\"city\"] = df[\"city\"].str.replace(r\"/\\w*\", \"\", regex=True)"
   ]
  },
  {
   "cell_type": "markdown",
   "metadata": {},
   "source": [
    "---\n",
    "\n",
    "<div class=\"alert alert-block alert-warning\" style=\"padding: 0px; padding-left: 20px; padding-top: 5px;\"><h2 style=\"color: #301E40\">\n",
    "Map\n",
    "</h2><br>\n",
    "</div>"
   ]
  },
  {
   "cell_type": "code",
   "execution_count": null,
   "metadata": {
    "jupyter": {
     "outputs_hidden": false
    }
   },
   "outputs": [
    {
     "data": {
      "text/plain": [
       "Ireland           19\n",
       "Italy             15\n",
       "Spain             13\n",
       "Germany            5\n",
       "Greece             5\n",
       "IT                 5\n",
       "Portugal           4\n",
       "Belgium            4\n",
       "Slovenia           4\n",
       "UK                 4\n",
       "Netherlands        3\n",
       "France             3\n",
       "Poland             2\n",
       "Denmark            1\n",
       "Lithuania          1\n",
       "GR                 1\n",
       "BG                 1\n",
       "Sweden             1\n",
       "Latvia             1\n",
       "CZ                 1\n",
       "Slovakia           1\n",
       "Croatia            1\n",
       "Austria            1\n",
       "Switzerland        1\n",
       "Hungary            1\n",
       "Estonia            1\n",
       "United Kingdom     1\n",
       "SI                 1\n",
       "Name: Country, dtype: int64"
      ]
     },
     "execution_count": 219,
     "metadata": {},
     "output_type": "execute_result"
    }
   ],
   "source": [
    "df['Country'].value_counts()"
   ]
  },
  {
   "cell_type": "markdown",
   "metadata": {},
   "source": [
    "We saw that some countries were filled with their country code, and others with their name. We are going to move everything to the same format.  \n",
    "We can do that by mapping a dictionary to a column. It will then replace the ***key*** with the corresponding ***value***.  \n",
    ">Complete the code below to replace the country codes with the country name.  \n",
    ">Note that we use a mask as we want to replace only certain values of the series."
   ]
  },
  {
   "cell_type": "code",
   "execution_count": null,
   "metadata": {
    "jupyter": {
     "outputs_hidden": false
    }
   },
   "outputs": [
    {
     "data": {
      "text/plain": [
       "Italy             20\n",
       "Ireland           19\n",
       "Spain             13\n",
       "Greece             6\n",
       "Germany            5\n",
       "United Kingdom     5\n",
       "Slovenia           5\n",
       "Belgium            4\n",
       "Portugal           4\n",
       "Netherlands        3\n",
       "France             3\n",
       "Poland             2\n",
       "Denmark            1\n",
       "Austria            1\n",
       "Estonia            1\n",
       "Hungary            1\n",
       "Switzerland        1\n",
       "Slovakia           1\n",
       "Croatia            1\n",
       "Lithuania          1\n",
       "Czech Republic     1\n",
       "Latvia             1\n",
       "Sweden             1\n",
       "Bulgaria           1\n",
       "Name: Country, dtype: int64"
      ]
     },
     "execution_count": 230,
     "metadata": {},
     "output_type": "execute_result"
    }
   ],
   "source": [
    "dict_codes = {'BG':'Bulgaria', 'CZ':'Czech Republic', 'IT':'Italy', 'GR':'Greece', 'SI':'Slovenia', 'UK':'United Kingdom'}\n",
    "\n",
    "country_in_codes = df[\"Country\"].isin(dict_codes.keys())\n",
    "df.loc[country_in_codes, \"Country\"] = df.loc[country_in_codes, \"Country\"].map(dict_codes)"
   ]
  },
  {
   "cell_type": "code",
   "execution_count": null,
   "metadata": {
    "jupyter": {
     "outputs_hidden": false
    }
   },
   "outputs": [
    {
     "ename": "KeyError",
     "evalue": "'country'",
     "output_type": "error",
     "traceback": [
      "\u001b[1;31m---------------------------------------------------------------------------\u001b[0m",
      "\u001b[1;31mKeyError\u001b[0m                                  Traceback (most recent call last)",
      "File \u001b[1;32mc:\\Users\\elena\\AppData\\Local\\Programs\\Python\\Python310\\lib\\site-packages\\pandas\\core\\indexes\\base.py:3800\u001b[0m, in \u001b[0;36mIndex.get_loc\u001b[1;34m(self, key, method, tolerance)\u001b[0m\n\u001b[0;32m   3799\u001b[0m \u001b[38;5;28;01mtry\u001b[39;00m:\n\u001b[1;32m-> 3800\u001b[0m     \u001b[38;5;28;01mreturn\u001b[39;00m \u001b[38;5;28;43mself\u001b[39;49m\u001b[38;5;241;43m.\u001b[39;49m\u001b[43m_engine\u001b[49m\u001b[38;5;241;43m.\u001b[39;49m\u001b[43mget_loc\u001b[49m\u001b[43m(\u001b[49m\u001b[43mcasted_key\u001b[49m\u001b[43m)\u001b[49m\n\u001b[0;32m   3801\u001b[0m \u001b[38;5;28;01mexcept\u001b[39;00m \u001b[38;5;167;01mKeyError\u001b[39;00m \u001b[38;5;28;01mas\u001b[39;00m err:\n",
      "File \u001b[1;32mc:\\Users\\elena\\AppData\\Local\\Programs\\Python\\Python310\\lib\\site-packages\\pandas\\_libs\\index.pyx:138\u001b[0m, in \u001b[0;36mpandas._libs.index.IndexEngine.get_loc\u001b[1;34m()\u001b[0m\n",
      "File \u001b[1;32mc:\\Users\\elena\\AppData\\Local\\Programs\\Python\\Python310\\lib\\site-packages\\pandas\\_libs\\index.pyx:165\u001b[0m, in \u001b[0;36mpandas._libs.index.IndexEngine.get_loc\u001b[1;34m()\u001b[0m\n",
      "File \u001b[1;32mpandas\\_libs\\hashtable_class_helper.pxi:5745\u001b[0m, in \u001b[0;36mpandas._libs.hashtable.PyObjectHashTable.get_item\u001b[1;34m()\u001b[0m\n",
      "File \u001b[1;32mpandas\\_libs\\hashtable_class_helper.pxi:5753\u001b[0m, in \u001b[0;36mpandas._libs.hashtable.PyObjectHashTable.get_item\u001b[1;34m()\u001b[0m\n",
      "\u001b[1;31mKeyError\u001b[0m: 'country'",
      "\nThe above exception was the direct cause of the following exception:\n",
      "\u001b[1;31mKeyError\u001b[0m                                  Traceback (most recent call last)",
      "Cell \u001b[1;32mIn[221], line 11\u001b[0m\n\u001b[0;32m      1\u001b[0m \u001b[38;5;66;03m# %load ../solutions/05_27.py\u001b[39;00m\n\u001b[0;32m      2\u001b[0m dict_codes \u001b[38;5;241m=\u001b[39m {\n\u001b[0;32m      3\u001b[0m     \u001b[38;5;124m\"\u001b[39m\u001b[38;5;124mBG\u001b[39m\u001b[38;5;124m\"\u001b[39m: \u001b[38;5;124m\"\u001b[39m\u001b[38;5;124mBulgaria\u001b[39m\u001b[38;5;124m\"\u001b[39m,\n\u001b[0;32m      4\u001b[0m     \u001b[38;5;124m\"\u001b[39m\u001b[38;5;124mCZ\u001b[39m\u001b[38;5;124m\"\u001b[39m: \u001b[38;5;124m\"\u001b[39m\u001b[38;5;124mCzech Republic\u001b[39m\u001b[38;5;124m\"\u001b[39m,\n\u001b[1;32m   (...)\u001b[0m\n\u001b[0;32m      8\u001b[0m     \u001b[38;5;124m\"\u001b[39m\u001b[38;5;124mUK\u001b[39m\u001b[38;5;124m\"\u001b[39m: \u001b[38;5;124m\"\u001b[39m\u001b[38;5;124mUnited Kingdom\u001b[39m\u001b[38;5;124m\"\u001b[39m,\n\u001b[0;32m      9\u001b[0m }\n\u001b[1;32m---> 11\u001b[0m country_in_codes \u001b[38;5;241m=\u001b[39m \u001b[43mdf\u001b[49m\u001b[43m[\u001b[49m\u001b[38;5;124;43m\"\u001b[39;49m\u001b[38;5;124;43mcountry\u001b[39;49m\u001b[38;5;124;43m\"\u001b[39;49m\u001b[43m]\u001b[49m\u001b[38;5;241m.\u001b[39misin(dict_codes\u001b[38;5;241m.\u001b[39mkeys())\n\u001b[0;32m     12\u001b[0m df\u001b[38;5;241m.\u001b[39mloc[country_in_codes, \u001b[38;5;124m\"\u001b[39m\u001b[38;5;124mcountry\u001b[39m\u001b[38;5;124m\"\u001b[39m] \u001b[38;5;241m=\u001b[39m df\u001b[38;5;241m.\u001b[39mloc[country_in_codes, \u001b[38;5;124m\"\u001b[39m\u001b[38;5;124mcountry\u001b[39m\u001b[38;5;124m\"\u001b[39m]\u001b[38;5;241m.\u001b[39mmap(dict_codes)\n",
      "File \u001b[1;32mc:\\Users\\elena\\AppData\\Local\\Programs\\Python\\Python310\\lib\\site-packages\\pandas\\core\\frame.py:3805\u001b[0m, in \u001b[0;36mDataFrame.__getitem__\u001b[1;34m(self, key)\u001b[0m\n\u001b[0;32m   3803\u001b[0m \u001b[38;5;28;01mif\u001b[39;00m \u001b[38;5;28mself\u001b[39m\u001b[38;5;241m.\u001b[39mcolumns\u001b[38;5;241m.\u001b[39mnlevels \u001b[38;5;241m>\u001b[39m \u001b[38;5;241m1\u001b[39m:\n\u001b[0;32m   3804\u001b[0m     \u001b[38;5;28;01mreturn\u001b[39;00m \u001b[38;5;28mself\u001b[39m\u001b[38;5;241m.\u001b[39m_getitem_multilevel(key)\n\u001b[1;32m-> 3805\u001b[0m indexer \u001b[38;5;241m=\u001b[39m \u001b[38;5;28;43mself\u001b[39;49m\u001b[38;5;241;43m.\u001b[39;49m\u001b[43mcolumns\u001b[49m\u001b[38;5;241;43m.\u001b[39;49m\u001b[43mget_loc\u001b[49m\u001b[43m(\u001b[49m\u001b[43mkey\u001b[49m\u001b[43m)\u001b[49m\n\u001b[0;32m   3806\u001b[0m \u001b[38;5;28;01mif\u001b[39;00m is_integer(indexer):\n\u001b[0;32m   3807\u001b[0m     indexer \u001b[38;5;241m=\u001b[39m [indexer]\n",
      "File \u001b[1;32mc:\\Users\\elena\\AppData\\Local\\Programs\\Python\\Python310\\lib\\site-packages\\pandas\\core\\indexes\\base.py:3802\u001b[0m, in \u001b[0;36mIndex.get_loc\u001b[1;34m(self, key, method, tolerance)\u001b[0m\n\u001b[0;32m   3800\u001b[0m     \u001b[38;5;28;01mreturn\u001b[39;00m \u001b[38;5;28mself\u001b[39m\u001b[38;5;241m.\u001b[39m_engine\u001b[38;5;241m.\u001b[39mget_loc(casted_key)\n\u001b[0;32m   3801\u001b[0m \u001b[38;5;28;01mexcept\u001b[39;00m \u001b[38;5;167;01mKeyError\u001b[39;00m \u001b[38;5;28;01mas\u001b[39;00m err:\n\u001b[1;32m-> 3802\u001b[0m     \u001b[38;5;28;01mraise\u001b[39;00m \u001b[38;5;167;01mKeyError\u001b[39;00m(key) \u001b[38;5;28;01mfrom\u001b[39;00m \u001b[38;5;21;01merr\u001b[39;00m\n\u001b[0;32m   3803\u001b[0m \u001b[38;5;28;01mexcept\u001b[39;00m \u001b[38;5;167;01mTypeError\u001b[39;00m:\n\u001b[0;32m   3804\u001b[0m     \u001b[38;5;66;03m# If we have a listlike key, _check_indexing_error will raise\u001b[39;00m\n\u001b[0;32m   3805\u001b[0m     \u001b[38;5;66;03m#  InvalidIndexError. Otherwise we fall through and re-raise\u001b[39;00m\n\u001b[0;32m   3806\u001b[0m     \u001b[38;5;66;03m#  the TypeError.\u001b[39;00m\n\u001b[0;32m   3807\u001b[0m     \u001b[38;5;28mself\u001b[39m\u001b[38;5;241m.\u001b[39m_check_indexing_error(key)\n",
      "\u001b[1;31mKeyError\u001b[0m: 'country'"
     ]
    }
   ],
   "source": [
    "# %load ../solutions/05_27.py\n",
    "dict_codes = {\n",
    "    \"BG\": \"Bulgaria\",\n",
    "    \"CZ\": \"Czech Republic\",\n",
    "    \"IT\": \"Italy\",\n",
    "    \"GR\": \"Greece\",\n",
    "    \"SI\": \"Slovenia\",\n",
    "    \"UK\": \"United Kingdom\",\n",
    "}\n",
    "\n",
    "country_in_codes = df[\"country\"].isin(dict_codes.keys())\n",
    "df.loc[country_in_codes, \"country\"] = df.loc[country_in_codes, \"country\"].map(dict_codes)"
   ]
  },
  {
   "cell_type": "code",
   "execution_count": null,
   "metadata": {
    "jupyter": {
     "outputs_hidden": false
    }
   },
   "outputs": [
    {
     "data": {
      "text/plain": [
       "None              165\n",
       "Italy              20\n",
       "Ireland            19\n",
       "Spain              13\n",
       "Greece              6\n",
       "Germany             5\n",
       "Slovenia            5\n",
       "United Kingdom      5\n",
       "Portugal            4\n",
       "Belgium             4\n",
       "Netherlands         3\n",
       "France              3\n",
       "Poland              2\n",
       "Czech Republic      1\n",
       "Latvia              1\n",
       "Sweden              1\n",
       "Lithuania           1\n",
       "Austria             1\n",
       "Switzerland         1\n",
       "Hungary             1\n",
       "Estonia             1\n",
       "Denmark             1\n",
       "Slovakia            1\n",
       "Croatia             1\n",
       "Bulgaria            1\n",
       "Name: Country, dtype: int64"
      ]
     },
     "execution_count": 232,
     "metadata": {},
     "output_type": "execute_result"
    }
   ],
   "source": [
    "df['Country'].value_counts(dropna=False)"
   ]
  },
  {
   "cell_type": "markdown",
   "metadata": {},
   "source": [
    "Certain city values are unknown.  \n",
    ">Have a look at the ***country*** values where the ***city*** is ***unknown***."
   ]
  },
  {
   "cell_type": "code",
   "execution_count": null,
   "metadata": {},
   "outputs": [
    {
     "data": {
      "text/plain": [
       "Lisbon       16\n",
       "Trim         12\n",
       "Budapest     11\n",
       "Riga         11\n",
       "Unknown      11\n",
       "             ..\n",
       "Utrecht       1\n",
       "Marseille     1\n",
       "Bristol       1\n",
       "Murcia        1\n",
       "Seville       1\n",
       "Name: City, Length: 64, dtype: int64"
      ]
     },
     "execution_count": 233,
     "metadata": {},
     "output_type": "execute_result"
    }
   ],
   "source": [
    "df['City'].value_counts()"
   ]
  },
  {
   "cell_type": "code",
   "execution_count": null,
   "metadata": {},
   "outputs": [],
   "source": [
    "# %load ../solutions/05_28.py"
   ]
  },
  {
   "cell_type": "markdown",
   "metadata": {},
   "source": [
    ">Complete the code bellow to replace the value ***unknown*** in the ***city*** column with the capital of the corresponding ***country***. "
   ]
  },
  {
   "cell_type": "code",
   "execution_count": 279,
   "metadata": {},
   "outputs": [],
   "source": [
    "dict_capitals = {'Denmark':'Copenhagen', 'France':'Paris', 'Italy':'Rome', 'Spain':'Madrid', 'United Kingdom':'London'}\n",
    "\n",
    "country_in_codes = df[\"Country\"].isin(dict_capitals.keys())\n",
    "df.loc[country_in_codes, \"Country\"] = df.loc[country_in_codes, \"Country\"].map(dict_codes)\n"
   ]
  },
  {
   "cell_type": "code",
   "execution_count": 281,
   "metadata": {},
   "outputs": [
    {
     "data": {
      "text/html": [
       "<div>\n",
       "<style scoped>\n",
       "    .dataframe tbody tr th:only-of-type {\n",
       "        vertical-align: middle;\n",
       "    }\n",
       "\n",
       "    .dataframe tbody tr th {\n",
       "        vertical-align: top;\n",
       "    }\n",
       "\n",
       "    .dataframe thead th {\n",
       "        text-align: right;\n",
       "    }\n",
       "</style>\n",
       "<table border=\"1\" class=\"dataframe\">\n",
       "  <thead>\n",
       "    <tr style=\"text-align: right;\">\n",
       "      <th></th>\n",
       "      <th>index</th>\n",
       "      <th>CourseName</th>\n",
       "      <th>DateFrom</th>\n",
       "      <th>DateTo</th>\n",
       "      <th>Attendees</th>\n",
       "      <th>City</th>\n",
       "      <th>Country</th>\n",
       "    </tr>\n",
       "  </thead>\n",
       "  <tbody>\n",
       "    <tr>\n",
       "      <th>53</th>\n",
       "      <td>25</td>\n",
       "      <td>Animal Welfare (During Transport)</td>\n",
       "      <td>2015-05-26</td>\n",
       "      <td>2015-05-29</td>\n",
       "      <td>2</td>\n",
       "      <td>Unknown</td>\n",
       "      <td>NaN</td>\n",
       "    </tr>\n",
       "    <tr>\n",
       "      <th>65</th>\n",
       "      <td>37</td>\n",
       "      <td>Animal Welfare (Pig Production)</td>\n",
       "      <td>2015-06-16</td>\n",
       "      <td>2015-06-19</td>\n",
       "      <td>1</td>\n",
       "      <td>Unknown</td>\n",
       "      <td>NaN</td>\n",
       "    </tr>\n",
       "    <tr>\n",
       "      <th>87</th>\n",
       "      <td>59</td>\n",
       "      <td>Animal Welfare (In Hen Laying)</td>\n",
       "      <td>2015-09-22</td>\n",
       "      <td>2015-09-25</td>\n",
       "      <td>2</td>\n",
       "      <td>Unknown</td>\n",
       "      <td>UK</td>\n",
       "    </tr>\n",
       "    <tr>\n",
       "      <th>99</th>\n",
       "      <td>71</td>\n",
       "      <td>Animal Welfare (Killing For Disease Control)</td>\n",
       "      <td>2015-10-06</td>\n",
       "      <td>2015-10-09</td>\n",
       "      <td>1</td>\n",
       "      <td>Unknown</td>\n",
       "      <td>NaN</td>\n",
       "    </tr>\n",
       "    <tr>\n",
       "      <th>109</th>\n",
       "      <td>81</td>\n",
       "      <td>Animal Welfare (At Slaughter Cattle pigs sheep...</td>\n",
       "      <td>2015-10-20</td>\n",
       "      <td>2015-10-23</td>\n",
       "      <td>1</td>\n",
       "      <td>Unknown</td>\n",
       "      <td>NaN</td>\n",
       "    </tr>\n",
       "    <tr>\n",
       "      <th>120</th>\n",
       "      <td>92</td>\n",
       "      <td>Plant Health Controls</td>\n",
       "      <td>2015-11-17</td>\n",
       "      <td>2015-11-20</td>\n",
       "      <td>1</td>\n",
       "      <td>Unknown</td>\n",
       "      <td>NaN</td>\n",
       "    </tr>\n",
       "    <tr>\n",
       "      <th>132</th>\n",
       "      <td>104</td>\n",
       "      <td>Animal Welfare (Broiler Production)</td>\n",
       "      <td>2016-03-08</td>\n",
       "      <td>2016-03-11</td>\n",
       "      <td>1</td>\n",
       "      <td>Unknown</td>\n",
       "      <td>NaN</td>\n",
       "    </tr>\n",
       "    <tr>\n",
       "      <th>138</th>\n",
       "      <td>110</td>\n",
       "      <td>Animal Welfare (Cattle pigs sheep and goats: A...</td>\n",
       "      <td>2016-02-02</td>\n",
       "      <td>2016-02-05</td>\n",
       "      <td>2</td>\n",
       "      <td>Unknown</td>\n",
       "      <td>NaN</td>\n",
       "    </tr>\n",
       "    <tr>\n",
       "      <th>194</th>\n",
       "      <td>44</td>\n",
       "      <td>Animal Welfare (Poultry at Slaughter: Advanced...</td>\n",
       "      <td>2016-06-14</td>\n",
       "      <td>2016-06-17</td>\n",
       "      <td>2</td>\n",
       "      <td>Unknown</td>\n",
       "      <td>NaN</td>\n",
       "    </tr>\n",
       "    <tr>\n",
       "      <th>237</th>\n",
       "      <td>87</td>\n",
       "      <td>Animal Welfare (In Hen Laying)</td>\n",
       "      <td>2016-10-25</td>\n",
       "      <td>2016-10-28</td>\n",
       "      <td>2</td>\n",
       "      <td>Unknown</td>\n",
       "      <td>UK</td>\n",
       "    </tr>\n",
       "    <tr>\n",
       "      <th>247</th>\n",
       "      <td>97</td>\n",
       "      <td>Animal Welfare (In Pig Production)</td>\n",
       "      <td>2016-11-15</td>\n",
       "      <td>2016-11-18</td>\n",
       "      <td>1</td>\n",
       "      <td>Unknown</td>\n",
       "      <td>NaN</td>\n",
       "    </tr>\n",
       "  </tbody>\n",
       "</table>\n",
       "</div>"
      ],
      "text/plain": [
       "     index                                         CourseName    DateFrom  \\\n",
       "53      25                  Animal Welfare (During Transport)  2015-05-26   \n",
       "65      37                    Animal Welfare (Pig Production)  2015-06-16   \n",
       "87      59                     Animal Welfare (In Hen Laying)  2015-09-22   \n",
       "99      71       Animal Welfare (Killing For Disease Control)  2015-10-06   \n",
       "109     81  Animal Welfare (At Slaughter Cattle pigs sheep...  2015-10-20   \n",
       "120     92                              Plant Health Controls  2015-11-17   \n",
       "132    104                Animal Welfare (Broiler Production)  2016-03-08   \n",
       "138    110  Animal Welfare (Cattle pigs sheep and goats: A...  2016-02-02   \n",
       "194     44  Animal Welfare (Poultry at Slaughter: Advanced...  2016-06-14   \n",
       "237     87                     Animal Welfare (In Hen Laying)  2016-10-25   \n",
       "247     97                 Animal Welfare (In Pig Production)  2016-11-15   \n",
       "\n",
       "         DateTo  Attendees     City Country  \n",
       "53   2015-05-29          2  Unknown     NaN  \n",
       "65   2015-06-19          1  Unknown     NaN  \n",
       "87   2015-09-25          2  Unknown      UK  \n",
       "99   2015-10-09          1  Unknown     NaN  \n",
       "109  2015-10-23          1  Unknown     NaN  \n",
       "120  2015-11-20          1  Unknown     NaN  \n",
       "132  2016-03-11          1  Unknown     NaN  \n",
       "138  2016-02-05          2  Unknown     NaN  \n",
       "194  2016-06-17          2  Unknown     NaN  \n",
       "237  2016-10-28          2  Unknown      UK  \n",
       "247  2016-11-18          1  Unknown     NaN  "
      ]
     },
     "execution_count": 281,
     "metadata": {},
     "output_type": "execute_result"
    }
   ],
   "source": [
    "df[df['City'] == 'Unknown']"
   ]
  },
  {
   "cell_type": "code",
   "execution_count": 235,
   "metadata": {},
   "outputs": [],
   "source": [
    "# %load ../solutions/05_29.py\n",
    "dict_capitals = {\n",
    "    \"Denmark\": \"copenhague\",\n",
    "    \"France\": \"paris\",\n",
    "    \"Italy\": \"rome\",\n",
    "    \"Spain\": \"madrid\",\n",
    "    \"United Kingdom\": \"london\",\n",
    "}\n",
    "\n",
    "unknown_city = df[\"city\"] == \"unknown\"\n",
    "df.loc[unknown_city, \"city\"] = df.loc[unknown_city, \"country\"].map(dict_capitals)"
   ]
  },
  {
   "cell_type": "markdown",
   "metadata": {},
   "source": [
    "Lots of countries are missing, but we can fill them using the cities.  \n",
    "We can create a dictionary of cities and their corresponding countries using the rows where the ***country*** is not null."
   ]
  },
  {
   "cell_type": "code",
   "execution_count": null,
   "metadata": {},
   "outputs": [],
   "source": [
    "dict_cities = df.loc[df['country'].notnull(), ['city', 'country']].set_index('city').to_dict()['country']"
   ]
  },
  {
   "cell_type": "markdown",
   "metadata": {},
   "source": [
    "We now want to check if all the cities we need are in our dictionary.  \n",
    ">Subtracting the dictionary keys to the set of the ***city*** values, find which cities are in the ***city*** column but not in the dictionary ***keys***."
   ]
  },
  {
   "cell_type": "code",
   "execution_count": null,
   "metadata": {},
   "outputs": [],
   "source": []
  },
  {
   "cell_type": "code",
   "execution_count": null,
   "metadata": {},
   "outputs": [],
   "source": [
    "# %load ../solutions/05_30.py"
   ]
  },
  {
   "cell_type": "markdown",
   "metadata": {},
   "source": [
    ">Knowing that Bristol is in the United Kingdom, Gothenburg in Sweden, Graz in Austria, Lyon in France, Murcia in Spain and Parma in Italy, add some key-value pair to the dictionary ***dict_cities***.    \n",
    ">You can either add each key-value pair or you can [update](https://python-reference.readthedocs.io/en/latest/docs/dict/update.html) dict_cities with another dictionary. "
   ]
  },
  {
   "cell_type": "code",
   "execution_count": null,
   "metadata": {},
   "outputs": [],
   "source": []
  },
  {
   "cell_type": "code",
   "execution_count": null,
   "metadata": {},
   "outputs": [],
   "source": [
    "# %load ../solutions/05_31.py"
   ]
  },
  {
   "cell_type": "markdown",
   "metadata": {},
   "source": [
    ">Use this dictionary to fill in some of the missing countries."
   ]
  },
  {
   "cell_type": "code",
   "execution_count": null,
   "metadata": {},
   "outputs": [],
   "source": []
  },
  {
   "cell_type": "code",
   "execution_count": null,
   "metadata": {},
   "outputs": [],
   "source": [
    "# %load ../solutions/05_32.py"
   ]
  },
  {
   "cell_type": "markdown",
   "metadata": {},
   "source": [
    ">Get the count of the different values of the ***country*** column, showing the NaN values."
   ]
  },
  {
   "cell_type": "code",
   "execution_count": null,
   "metadata": {},
   "outputs": [],
   "source": []
  },
  {
   "cell_type": "code",
   "execution_count": null,
   "metadata": {},
   "outputs": [],
   "source": [
    "# %load ../solutions/05_33.py"
   ]
  },
  {
   "cell_type": "markdown",
   "metadata": {},
   "source": [
    "We can see that there are only 4 NaN values. They correspond to bad data entries that we could \"manually\" correct. Feel free to add a few calls below and give it a try if you feel like it!"
   ]
  },
  {
   "cell_type": "markdown",
   "metadata": {},
   "source": [
    "---\n",
    "\n",
    "<div class=\"alert alert-block alert-warning\" style=\"padding: 0px; padding-left: 20px; padding-top: 5px;\"><h2 style=\"color: #301E40\">\n",
    "Apply\n",
    "</h2><br>\n",
    "</div>"
   ]
  },
  {
   "cell_type": "markdown",
   "metadata": {},
   "source": [
    ">Write a function that returns ***single*** if the value passed is 1, and ***multiple*** otherwise."
   ]
  },
  {
   "cell_type": "code",
   "execution_count": 285,
   "metadata": {
    "jupyter": {
     "outputs_hidden": false
    }
   },
   "outputs": [],
   "source": [
    "def is_single(value):\n",
    "    if value == 1:\n",
    "        return 'single'\n",
    "    else:\n",
    "        return 'multiple'"
   ]
  },
  {
   "cell_type": "code",
   "execution_count": 282,
   "metadata": {
    "jupyter": {
     "outputs_hidden": false
    }
   },
   "outputs": [],
   "source": [
    "# %load ../solutions/05_34.py\n",
    "def f(x):\n",
    "    if x == 1:\n",
    "        return \"single\"\n",
    "    else:\n",
    "        return \"multiple\""
   ]
  },
  {
   "cell_type": "markdown",
   "metadata": {},
   "source": [
    ">Apply this function to the ***Attendees*** column."
   ]
  },
  {
   "cell_type": "code",
   "execution_count": 286,
   "metadata": {
    "jupyter": {
     "outputs_hidden": false
    }
   },
   "outputs": [
    {
     "name": "stdout",
     "output_type": "stream",
     "text": [
      "single\n",
      "multiple\n",
      "multiple\n",
      "multiple\n",
      "multiple\n",
      "single\n",
      "single\n",
      "single\n",
      "multiple\n",
      "multiple\n",
      "single\n",
      "single\n",
      "single\n",
      "multiple\n",
      "multiple\n",
      "single\n",
      "multiple\n",
      "single\n",
      "single\n",
      "single\n",
      "multiple\n",
      "single\n",
      "single\n",
      "single\n",
      "single\n",
      "single\n",
      "single\n",
      "multiple\n",
      "multiple\n",
      "single\n",
      "multiple\n",
      "multiple\n",
      "multiple\n",
      "multiple\n",
      "multiple\n",
      "single\n",
      "multiple\n",
      "single\n",
      "multiple\n",
      "multiple\n",
      "multiple\n",
      "single\n",
      "multiple\n",
      "multiple\n",
      "multiple\n",
      "single\n",
      "multiple\n",
      "multiple\n",
      "multiple\n",
      "single\n",
      "single\n",
      "multiple\n",
      "multiple\n",
      "multiple\n",
      "single\n",
      "multiple\n",
      "multiple\n",
      "multiple\n",
      "single\n",
      "multiple\n",
      "multiple\n",
      "single\n",
      "single\n",
      "multiple\n",
      "single\n",
      "single\n",
      "multiple\n",
      "multiple\n",
      "single\n",
      "single\n",
      "single\n",
      "single\n",
      "single\n",
      "multiple\n",
      "single\n",
      "single\n",
      "multiple\n",
      "multiple\n",
      "multiple\n",
      "single\n",
      "multiple\n",
      "single\n",
      "multiple\n",
      "single\n",
      "single\n",
      "multiple\n",
      "multiple\n",
      "multiple\n",
      "multiple\n",
      "single\n",
      "single\n",
      "multiple\n",
      "single\n",
      "single\n",
      "multiple\n",
      "single\n",
      "single\n",
      "multiple\n",
      "single\n",
      "single\n",
      "multiple\n",
      "multiple\n",
      "multiple\n",
      "multiple\n",
      "multiple\n",
      "multiple\n",
      "multiple\n",
      "multiple\n",
      "single\n",
      "single\n",
      "multiple\n",
      "single\n",
      "multiple\n",
      "multiple\n",
      "multiple\n",
      "single\n",
      "single\n",
      "single\n",
      "single\n",
      "multiple\n",
      "single\n",
      "multiple\n",
      "multiple\n",
      "multiple\n",
      "multiple\n",
      "multiple\n",
      "multiple\n",
      "single\n",
      "single\n",
      "multiple\n",
      "single\n",
      "single\n",
      "single\n",
      "single\n",
      "single\n",
      "multiple\n",
      "multiple\n",
      "single\n",
      "multiple\n",
      "multiple\n",
      "multiple\n",
      "multiple\n",
      "single\n",
      "multiple\n",
      "single\n",
      "multiple\n",
      "multiple\n",
      "multiple\n",
      "multiple\n",
      "multiple\n",
      "multiple\n",
      "multiple\n",
      "multiple\n",
      "multiple\n",
      "single\n",
      "single\n",
      "multiple\n",
      "single\n",
      "multiple\n",
      "multiple\n",
      "multiple\n",
      "multiple\n",
      "single\n",
      "multiple\n",
      "single\n",
      "multiple\n",
      "multiple\n",
      "single\n",
      "multiple\n",
      "single\n",
      "single\n",
      "single\n",
      "single\n",
      "multiple\n",
      "multiple\n",
      "single\n",
      "multiple\n",
      "multiple\n",
      "multiple\n",
      "single\n",
      "multiple\n",
      "multiple\n",
      "multiple\n",
      "multiple\n",
      "single\n",
      "multiple\n",
      "multiple\n",
      "multiple\n",
      "single\n",
      "multiple\n",
      "single\n",
      "multiple\n",
      "multiple\n",
      "multiple\n",
      "multiple\n",
      "single\n",
      "multiple\n",
      "multiple\n",
      "single\n",
      "multiple\n",
      "multiple\n",
      "multiple\n",
      "single\n",
      "single\n",
      "single\n",
      "single\n",
      "single\n",
      "single\n",
      "multiple\n",
      "single\n",
      "multiple\n",
      "multiple\n",
      "multiple\n",
      "single\n",
      "multiple\n",
      "multiple\n",
      "multiple\n",
      "single\n",
      "multiple\n",
      "multiple\n",
      "multiple\n",
      "multiple\n",
      "multiple\n",
      "multiple\n",
      "multiple\n",
      "multiple\n",
      "multiple\n",
      "multiple\n",
      "multiple\n",
      "multiple\n",
      "multiple\n",
      "multiple\n",
      "multiple\n",
      "multiple\n",
      "single\n",
      "multiple\n",
      "single\n",
      "multiple\n",
      "multiple\n",
      "multiple\n",
      "multiple\n",
      "multiple\n",
      "single\n",
      "single\n",
      "multiple\n",
      "single\n",
      "multiple\n",
      "single\n",
      "multiple\n",
      "multiple\n",
      "multiple\n",
      "multiple\n",
      "multiple\n",
      "multiple\n",
      "single\n",
      "single\n",
      "single\n",
      "multiple\n",
      "single\n",
      "multiple\n",
      "single\n",
      "multiple\n",
      "multiple\n",
      "single\n",
      "multiple\n",
      "multiple\n"
     ]
    }
   ],
   "source": [
    "for index, i in df.iterrows():\n",
    "    print(is_single(i['Attendees']))    "
   ]
  },
  {
   "cell_type": "code",
   "execution_count": 288,
   "metadata": {},
   "outputs": [
    {
     "data": {
      "text/plain": [
       "0        single\n",
       "1      multiple\n",
       "2      multiple\n",
       "3      multiple\n",
       "4      multiple\n",
       "         ...   \n",
       "261    multiple\n",
       "262    multiple\n",
       "263      single\n",
       "264    multiple\n",
       "265    multiple\n",
       "Name: Attendees, Length: 266, dtype: object"
      ]
     },
     "execution_count": 288,
     "metadata": {},
     "output_type": "execute_result"
    }
   ],
   "source": [
    "df[\"Attendees\"].apply(is_single)"
   ]
  },
  {
   "cell_type": "code",
   "execution_count": 287,
   "metadata": {
    "jupyter": {
     "outputs_hidden": false
    }
   },
   "outputs": [],
   "source": [
    "# %load ../solutions/05_35.py\n",
    "df[\"Attendees\"].apply(f)"
   ]
  },
  {
   "cell_type": "markdown",
   "metadata": {},
   "source": [
    "---\n",
    "\n",
    "<div class=\"alert alert-block alert-warning\" style=\"padding: 0px; padding-left: 20px; padding-top: 5px;\"><h2 style=\"color: #301E40\">\n",
    "Join\n",
    "</h2><br>\n",
    "</div>"
   ]
  },
  {
   "cell_type": "markdown",
   "metadata": {},
   "source": [
    ">Load the language data and assign it to languages (path: '../data/food_training/languages.csv')"
   ]
  },
  {
   "cell_type": "code",
   "execution_count": 289,
   "metadata": {},
   "outputs": [],
   "source": [
    "languages = pd.read_csv('../data/food_training/languages.csv')"
   ]
  },
  {
   "cell_type": "code",
   "execution_count": 290,
   "metadata": {},
   "outputs": [],
   "source": [
    "# %load ../solutions/05_36.py\n",
    "languages = pd.read_csv(\"../data/food_training/languages.csv\")"
   ]
  },
  {
   "cell_type": "code",
   "execution_count": 291,
   "metadata": {},
   "outputs": [
    {
     "data": {
      "text/html": [
       "<div>\n",
       "<style scoped>\n",
       "    .dataframe tbody tr th:only-of-type {\n",
       "        vertical-align: middle;\n",
       "    }\n",
       "\n",
       "    .dataframe tbody tr th {\n",
       "        vertical-align: top;\n",
       "    }\n",
       "\n",
       "    .dataframe thead th {\n",
       "        text-align: right;\n",
       "    }\n",
       "</style>\n",
       "<table border=\"1\" class=\"dataframe\">\n",
       "  <thead>\n",
       "    <tr style=\"text-align: right;\">\n",
       "      <th></th>\n",
       "      <th>Country</th>\n",
       "      <th>Official and national Languages</th>\n",
       "    </tr>\n",
       "  </thead>\n",
       "  <tbody>\n",
       "    <tr>\n",
       "      <th>0</th>\n",
       "      <td>Albania</td>\n",
       "      <td>Albanian</td>\n",
       "    </tr>\n",
       "    <tr>\n",
       "      <th>1</th>\n",
       "      <td>Andorra</td>\n",
       "      <td>Catalan</td>\n",
       "    </tr>\n",
       "    <tr>\n",
       "      <th>2</th>\n",
       "      <td>Austria</td>\n",
       "      <td>German/Slovene/Croatian/Hungarian</td>\n",
       "    </tr>\n",
       "    <tr>\n",
       "      <th>3</th>\n",
       "      <td>Belarus</td>\n",
       "      <td>Belarusian/Russian</td>\n",
       "    </tr>\n",
       "    <tr>\n",
       "      <th>4</th>\n",
       "      <td>Belgium</td>\n",
       "      <td>Dutch/French/German</td>\n",
       "    </tr>\n",
       "  </tbody>\n",
       "</table>\n",
       "</div>"
      ],
      "text/plain": [
       "   Country    Official and national Languages\n",
       "0  Albania                           Albanian\n",
       "1  Andorra                            Catalan\n",
       "2  Austria  German/Slovene/Croatian/Hungarian\n",
       "3  Belarus                 Belarusian/Russian\n",
       "4  Belgium                Dutch/French/German"
      ]
     },
     "execution_count": 291,
     "metadata": {},
     "output_type": "execute_result"
    }
   ],
   "source": [
    "languages.head()"
   ]
  },
  {
   "cell_type": "markdown",
   "metadata": {},
   "source": [
    ">Join df and languages to add the language information to df.  \n",
    ">You can check the page about [merge, join and concatenation](https://pandas.pydata.org/pandas-docs/stable/user_guide/merging.html) or the merge method [documentation](https://pandas.pydata.org/pandas-docs/stable/reference/api/pandas.DataFrame.merge.html)."
   ]
  },
  {
   "cell_type": "code",
   "execution_count": 292,
   "metadata": {},
   "outputs": [
    {
     "data": {
      "text/html": [
       "<div>\n",
       "<style scoped>\n",
       "    .dataframe tbody tr th:only-of-type {\n",
       "        vertical-align: middle;\n",
       "    }\n",
       "\n",
       "    .dataframe tbody tr th {\n",
       "        vertical-align: top;\n",
       "    }\n",
       "\n",
       "    .dataframe thead th {\n",
       "        text-align: right;\n",
       "    }\n",
       "</style>\n",
       "<table border=\"1\" class=\"dataframe\">\n",
       "  <thead>\n",
       "    <tr style=\"text-align: right;\">\n",
       "      <th></th>\n",
       "      <th>index</th>\n",
       "      <th>CourseName</th>\n",
       "      <th>DateFrom</th>\n",
       "      <th>DateTo</th>\n",
       "      <th>Attendees</th>\n",
       "      <th>City</th>\n",
       "      <th>Country</th>\n",
       "      <th>Official and national Languages</th>\n",
       "    </tr>\n",
       "  </thead>\n",
       "  <tbody>\n",
       "    <tr>\n",
       "      <th>0</th>\n",
       "      <td>0</td>\n",
       "      <td>Risk Assessment (Pest)</td>\n",
       "      <td>2015-01-12</td>\n",
       "      <td>2015-01-16</td>\n",
       "      <td>1</td>\n",
       "      <td>lisbon</td>\n",
       "      <td>Portugal</td>\n",
       "      <td>Portuguese</td>\n",
       "    </tr>\n",
       "    <tr>\n",
       "      <th>1</th>\n",
       "      <td>1</td>\n",
       "      <td>Organic Farming</td>\n",
       "      <td>2015-01-19</td>\n",
       "      <td>2015-01-22</td>\n",
       "      <td>2</td>\n",
       "      <td>Bristol</td>\n",
       "      <td>None</td>\n",
       "      <td>NaN</td>\n",
       "    </tr>\n",
       "    <tr>\n",
       "      <th>2</th>\n",
       "      <td>2</td>\n",
       "      <td>Prevention Control and Eradication of Transmis...</td>\n",
       "      <td>2015-01-20</td>\n",
       "      <td>2015-01-23</td>\n",
       "      <td>2</td>\n",
       "      <td>Ljubljana</td>\n",
       "      <td>Slovenia</td>\n",
       "      <td>Slovenian</td>\n",
       "    </tr>\n",
       "    <tr>\n",
       "      <th>3</th>\n",
       "      <td>3</td>\n",
       "      <td>Contingency Planning</td>\n",
       "      <td>2015-01-26</td>\n",
       "      <td>2015-01-30</td>\n",
       "      <td>2</td>\n",
       "      <td>Padua</td>\n",
       "      <td>None</td>\n",
       "      <td>NaN</td>\n",
       "    </tr>\n",
       "    <tr>\n",
       "      <th>4</th>\n",
       "      <td>4</td>\n",
       "      <td>HACCP</td>\n",
       "      <td>2015-02-02</td>\n",
       "      <td>2015-02-06</td>\n",
       "      <td>2</td>\n",
       "      <td>Rome</td>\n",
       "      <td>None</td>\n",
       "      <td>NaN</td>\n",
       "    </tr>\n",
       "    <tr>\n",
       "      <th>...</th>\n",
       "      <td>...</td>\n",
       "      <td>...</td>\n",
       "      <td>...</td>\n",
       "      <td>...</td>\n",
       "      <td>...</td>\n",
       "      <td>...</td>\n",
       "      <td>...</td>\n",
       "      <td>...</td>\n",
       "    </tr>\n",
       "    <tr>\n",
       "      <th>261</th>\n",
       "      <td>111</td>\n",
       "      <td>Contingency Planning</td>\n",
       "      <td>2017-03-06</td>\n",
       "      <td>2017-03-10</td>\n",
       "      <td>3</td>\n",
       "      <td>Venice</td>\n",
       "      <td>IT</td>\n",
       "      <td>NaN</td>\n",
       "    </tr>\n",
       "    <tr>\n",
       "      <th>262</th>\n",
       "      <td>112</td>\n",
       "      <td>Audit B1 - Standard Level</td>\n",
       "      <td>2017-03-06</td>\n",
       "      <td>2017-03-10</td>\n",
       "      <td>2</td>\n",
       "      <td>Valencia</td>\n",
       "      <td>None</td>\n",
       "      <td>NaN</td>\n",
       "    </tr>\n",
       "    <tr>\n",
       "      <th>263</th>\n",
       "      <td>113</td>\n",
       "      <td>Audit A</td>\n",
       "      <td>2017-03-20</td>\n",
       "      <td>2017-03-24</td>\n",
       "      <td>1</td>\n",
       "      <td>Bratislava</td>\n",
       "      <td>None</td>\n",
       "      <td>NaN</td>\n",
       "    </tr>\n",
       "    <tr>\n",
       "      <th>264</th>\n",
       "      <td>114</td>\n",
       "      <td>Food Hygiene and Flexibility</td>\n",
       "      <td>2017-03-20</td>\n",
       "      <td>2017-03-24</td>\n",
       "      <td>2</td>\n",
       "      <td>Zagreb/Helsinki</td>\n",
       "      <td>None</td>\n",
       "      <td>NaN</td>\n",
       "    </tr>\n",
       "    <tr>\n",
       "      <th>265</th>\n",
       "      <td>115</td>\n",
       "      <td>Animal Health and Disease Prevention for Bees ...</td>\n",
       "      <td>2017-03-28</td>\n",
       "      <td>2017-03-31</td>\n",
       "      <td>2</td>\n",
       "      <td>Antwerp</td>\n",
       "      <td>None</td>\n",
       "      <td>NaN</td>\n",
       "    </tr>\n",
       "  </tbody>\n",
       "</table>\n",
       "<p>266 rows × 8 columns</p>\n",
       "</div>"
      ],
      "text/plain": [
       "     index                                         CourseName    DateFrom  \\\n",
       "0        0                             Risk Assessment (Pest)  2015-01-12   \n",
       "1        1                                    Organic Farming  2015-01-19   \n",
       "2        2  Prevention Control and Eradication of Transmis...  2015-01-20   \n",
       "3        3                               Contingency Planning  2015-01-26   \n",
       "4        4                                              HACCP  2015-02-02   \n",
       "..     ...                                                ...         ...   \n",
       "261    111                               Contingency Planning  2017-03-06   \n",
       "262    112                          Audit B1 - Standard Level  2017-03-06   \n",
       "263    113                                            Audit A  2017-03-20   \n",
       "264    114                       Food Hygiene and Flexibility  2017-03-20   \n",
       "265    115  Animal Health and Disease Prevention for Bees ...  2017-03-28   \n",
       "\n",
       "         DateTo  Attendees             City   Country  \\\n",
       "0    2015-01-16          1           lisbon  Portugal   \n",
       "1    2015-01-22          2          Bristol      None   \n",
       "2    2015-01-23          2        Ljubljana  Slovenia   \n",
       "3    2015-01-30          2            Padua      None   \n",
       "4    2015-02-06          2             Rome      None   \n",
       "..          ...        ...              ...       ...   \n",
       "261  2017-03-10          3           Venice        IT   \n",
       "262  2017-03-10          2         Valencia      None   \n",
       "263  2017-03-24          1       Bratislava      None   \n",
       "264  2017-03-24          2  Zagreb/Helsinki      None   \n",
       "265  2017-03-31          2          Antwerp      None   \n",
       "\n",
       "    Official and national Languages  \n",
       "0                        Portuguese  \n",
       "1                               NaN  \n",
       "2                         Slovenian  \n",
       "3                               NaN  \n",
       "4                               NaN  \n",
       "..                              ...  \n",
       "261                             NaN  \n",
       "262                             NaN  \n",
       "263                             NaN  \n",
       "264                             NaN  \n",
       "265                             NaN  \n",
       "\n",
       "[266 rows x 8 columns]"
      ]
     },
     "execution_count": 292,
     "metadata": {},
     "output_type": "execute_result"
    }
   ],
   "source": [
    "merged_df = pd.merge(df, languages, on='Country', how='left')\n",
    "merged_df"
   ]
  },
  {
   "cell_type": "code",
   "execution_count": 297,
   "metadata": {},
   "outputs": [
    {
     "data": {
      "text/html": [
       "<div>\n",
       "<style scoped>\n",
       "    .dataframe tbody tr th:only-of-type {\n",
       "        vertical-align: middle;\n",
       "    }\n",
       "\n",
       "    .dataframe tbody tr th {\n",
       "        vertical-align: top;\n",
       "    }\n",
       "\n",
       "    .dataframe thead th {\n",
       "        text-align: right;\n",
       "    }\n",
       "</style>\n",
       "<table border=\"1\" class=\"dataframe\">\n",
       "  <thead>\n",
       "    <tr style=\"text-align: right;\">\n",
       "      <th></th>\n",
       "      <th>index</th>\n",
       "      <th>CourseName</th>\n",
       "      <th>DateFrom</th>\n",
       "      <th>DateTo</th>\n",
       "      <th>Attendees</th>\n",
       "      <th>City</th>\n",
       "      <th>Country</th>\n",
       "      <th>Official and national Languages_x</th>\n",
       "      <th>Official and national Languages_y</th>\n",
       "      <th>Official and national Languages</th>\n",
       "    </tr>\n",
       "  </thead>\n",
       "  <tbody>\n",
       "    <tr>\n",
       "      <th>0</th>\n",
       "      <td>0</td>\n",
       "      <td>Risk Assessment (Pest)</td>\n",
       "      <td>2015-01-12</td>\n",
       "      <td>2015-01-16</td>\n",
       "      <td>1</td>\n",
       "      <td>lisbon</td>\n",
       "      <td>Portugal</td>\n",
       "      <td>Portuguese</td>\n",
       "      <td>Portuguese</td>\n",
       "      <td>Portuguese</td>\n",
       "    </tr>\n",
       "    <tr>\n",
       "      <th>1</th>\n",
       "      <td>1</td>\n",
       "      <td>Organic Farming</td>\n",
       "      <td>2015-01-19</td>\n",
       "      <td>2015-01-22</td>\n",
       "      <td>2</td>\n",
       "      <td>Bristol</td>\n",
       "      <td>None</td>\n",
       "      <td>NaN</td>\n",
       "      <td>NaN</td>\n",
       "      <td>NaN</td>\n",
       "    </tr>\n",
       "    <tr>\n",
       "      <th>2</th>\n",
       "      <td>2</td>\n",
       "      <td>Prevention Control and Eradication of Transmis...</td>\n",
       "      <td>2015-01-20</td>\n",
       "      <td>2015-01-23</td>\n",
       "      <td>2</td>\n",
       "      <td>Ljubljana</td>\n",
       "      <td>Slovenia</td>\n",
       "      <td>Slovenian</td>\n",
       "      <td>Slovenian</td>\n",
       "      <td>Slovenian</td>\n",
       "    </tr>\n",
       "    <tr>\n",
       "      <th>3</th>\n",
       "      <td>3</td>\n",
       "      <td>Contingency Planning</td>\n",
       "      <td>2015-01-26</td>\n",
       "      <td>2015-01-30</td>\n",
       "      <td>2</td>\n",
       "      <td>Padua</td>\n",
       "      <td>None</td>\n",
       "      <td>NaN</td>\n",
       "      <td>NaN</td>\n",
       "      <td>NaN</td>\n",
       "    </tr>\n",
       "    <tr>\n",
       "      <th>4</th>\n",
       "      <td>4</td>\n",
       "      <td>HACCP</td>\n",
       "      <td>2015-02-02</td>\n",
       "      <td>2015-02-06</td>\n",
       "      <td>2</td>\n",
       "      <td>Rome</td>\n",
       "      <td>None</td>\n",
       "      <td>NaN</td>\n",
       "      <td>NaN</td>\n",
       "      <td>NaN</td>\n",
       "    </tr>\n",
       "    <tr>\n",
       "      <th>...</th>\n",
       "      <td>...</td>\n",
       "      <td>...</td>\n",
       "      <td>...</td>\n",
       "      <td>...</td>\n",
       "      <td>...</td>\n",
       "      <td>...</td>\n",
       "      <td>...</td>\n",
       "      <td>...</td>\n",
       "      <td>...</td>\n",
       "      <td>...</td>\n",
       "    </tr>\n",
       "    <tr>\n",
       "      <th>261</th>\n",
       "      <td>111</td>\n",
       "      <td>Contingency Planning</td>\n",
       "      <td>2017-03-06</td>\n",
       "      <td>2017-03-10</td>\n",
       "      <td>3</td>\n",
       "      <td>Venice</td>\n",
       "      <td>IT</td>\n",
       "      <td>NaN</td>\n",
       "      <td>NaN</td>\n",
       "      <td>NaN</td>\n",
       "    </tr>\n",
       "    <tr>\n",
       "      <th>262</th>\n",
       "      <td>112</td>\n",
       "      <td>Audit B1 - Standard Level</td>\n",
       "      <td>2017-03-06</td>\n",
       "      <td>2017-03-10</td>\n",
       "      <td>2</td>\n",
       "      <td>Valencia</td>\n",
       "      <td>None</td>\n",
       "      <td>NaN</td>\n",
       "      <td>NaN</td>\n",
       "      <td>NaN</td>\n",
       "    </tr>\n",
       "    <tr>\n",
       "      <th>263</th>\n",
       "      <td>113</td>\n",
       "      <td>Audit A</td>\n",
       "      <td>2017-03-20</td>\n",
       "      <td>2017-03-24</td>\n",
       "      <td>1</td>\n",
       "      <td>Bratislava</td>\n",
       "      <td>None</td>\n",
       "      <td>NaN</td>\n",
       "      <td>NaN</td>\n",
       "      <td>NaN</td>\n",
       "    </tr>\n",
       "    <tr>\n",
       "      <th>264</th>\n",
       "      <td>114</td>\n",
       "      <td>Food Hygiene and Flexibility</td>\n",
       "      <td>2017-03-20</td>\n",
       "      <td>2017-03-24</td>\n",
       "      <td>2</td>\n",
       "      <td>Zagreb/Helsinki</td>\n",
       "      <td>None</td>\n",
       "      <td>NaN</td>\n",
       "      <td>NaN</td>\n",
       "      <td>NaN</td>\n",
       "    </tr>\n",
       "    <tr>\n",
       "      <th>265</th>\n",
       "      <td>115</td>\n",
       "      <td>Animal Health and Disease Prevention for Bees ...</td>\n",
       "      <td>2017-03-28</td>\n",
       "      <td>2017-03-31</td>\n",
       "      <td>2</td>\n",
       "      <td>Antwerp</td>\n",
       "      <td>None</td>\n",
       "      <td>NaN</td>\n",
       "      <td>NaN</td>\n",
       "      <td>NaN</td>\n",
       "    </tr>\n",
       "  </tbody>\n",
       "</table>\n",
       "<p>266 rows × 10 columns</p>\n",
       "</div>"
      ],
      "text/plain": [
       "     index                                         CourseName    DateFrom  \\\n",
       "0        0                             Risk Assessment (Pest)  2015-01-12   \n",
       "1        1                                    Organic Farming  2015-01-19   \n",
       "2        2  Prevention Control and Eradication of Transmis...  2015-01-20   \n",
       "3        3                               Contingency Planning  2015-01-26   \n",
       "4        4                                              HACCP  2015-02-02   \n",
       "..     ...                                                ...         ...   \n",
       "261    111                               Contingency Planning  2017-03-06   \n",
       "262    112                          Audit B1 - Standard Level  2017-03-06   \n",
       "263    113                                            Audit A  2017-03-20   \n",
       "264    114                       Food Hygiene and Flexibility  2017-03-20   \n",
       "265    115  Animal Health and Disease Prevention for Bees ...  2017-03-28   \n",
       "\n",
       "         DateTo  Attendees             City   Country  \\\n",
       "0    2015-01-16          1           lisbon  Portugal   \n",
       "1    2015-01-22          2          Bristol      None   \n",
       "2    2015-01-23          2        Ljubljana  Slovenia   \n",
       "3    2015-01-30          2            Padua      None   \n",
       "4    2015-02-06          2             Rome      None   \n",
       "..          ...        ...              ...       ...   \n",
       "261  2017-03-10          3           Venice        IT   \n",
       "262  2017-03-10          2         Valencia      None   \n",
       "263  2017-03-24          1       Bratislava      None   \n",
       "264  2017-03-24          2  Zagreb/Helsinki      None   \n",
       "265  2017-03-31          2          Antwerp      None   \n",
       "\n",
       "    Official and national Languages_x Official and national Languages_y  \\\n",
       "0                          Portuguese                        Portuguese   \n",
       "1                                 NaN                               NaN   \n",
       "2                           Slovenian                         Slovenian   \n",
       "3                                 NaN                               NaN   \n",
       "4                                 NaN                               NaN   \n",
       "..                                ...                               ...   \n",
       "261                               NaN                               NaN   \n",
       "262                               NaN                               NaN   \n",
       "263                               NaN                               NaN   \n",
       "264                               NaN                               NaN   \n",
       "265                               NaN                               NaN   \n",
       "\n",
       "    Official and national Languages  \n",
       "0                        Portuguese  \n",
       "1                               NaN  \n",
       "2                         Slovenian  \n",
       "3                               NaN  \n",
       "4                               NaN  \n",
       "..                              ...  \n",
       "261                             NaN  \n",
       "262                             NaN  \n",
       "263                             NaN  \n",
       "264                             NaN  \n",
       "265                             NaN  \n",
       "\n",
       "[266 rows x 10 columns]"
      ]
     },
     "execution_count": 297,
     "metadata": {},
     "output_type": "execute_result"
    }
   ],
   "source": [
    "# %load ../solutions/05_37.py\n",
    "df = df.merge(languages, how=\"left\", left_on=\"Country\", right_on=\"Country\")\n",
    "df"
   ]
  },
  {
   "cell_type": "markdown",
   "metadata": {},
   "source": [
    ">Drop the ***Country*** column from df."
   ]
  },
  {
   "cell_type": "code",
   "execution_count": null,
   "metadata": {},
   "outputs": [],
   "source": []
  },
  {
   "cell_type": "code",
   "execution_count": 298,
   "metadata": {},
   "outputs": [],
   "source": [
    "# %load ../solutions/05_38.py\n",
    "df = df.drop(\"Country\", axis=1)\n",
    "\n",
    "# N.B. You can only run this cell once! If you try run it again, it will throw an error!\n",
    "#      Why? Because if you drop the Country column, it will be removed...so you can't\n",
    "#      drop it a second time as the column isn't there to drop!"
   ]
  },
  {
   "cell_type": "markdown",
   "metadata": {},
   "source": [
    "---\n",
    "\n",
    "<div class=\"alert alert-block alert-warning\" style=\"padding: 0px; padding-left: 20px; padding-top: 5px;\"><h2 style=\"color: #301E40\">\n",
    "Date time\n",
    "</h2><br>\n",
    "</div>"
   ]
  },
  {
   "cell_type": "markdown",
   "metadata": {},
   "source": [
    ">Check the dtype of the ***DateFrom***."
   ]
  },
  {
   "cell_type": "code",
   "execution_count": 303,
   "metadata": {
    "jupyter": {
     "outputs_hidden": false
    }
   },
   "outputs": [
    {
     "data": {
      "text/plain": [
       "dtype('O')"
      ]
     },
     "execution_count": 303,
     "metadata": {},
     "output_type": "execute_result"
    }
   ],
   "source": [
    "df[\"DateTo\"].dtype"
   ]
  },
  {
   "cell_type": "code",
   "execution_count": 301,
   "metadata": {
    "jupyter": {
     "outputs_hidden": false
    }
   },
   "outputs": [],
   "source": [
    "# %load ../solutions/05_39.py\n",
    "df[\"DateFrom\"].dtype"
   ]
  },
  {
   "cell_type": "markdown",
   "metadata": {},
   "source": [
    "***DateFrom*** and ***DateTo*** are objects.  \n",
    ">Convert these two columns to ***datetime*** format."
   ]
  },
  {
   "cell_type": "markdown",
   "metadata": {},
   "source": [
    "# .apply(pd.to_datetime) -- or any other function"
   ]
  },
  {
   "cell_type": "code",
   "execution_count": 311,
   "metadata": {
    "jupyter": {
     "outputs_hidden": false
    }
   },
   "outputs": [
    {
     "data": {
      "text/html": [
       "<div>\n",
       "<style scoped>\n",
       "    .dataframe tbody tr th:only-of-type {\n",
       "        vertical-align: middle;\n",
       "    }\n",
       "\n",
       "    .dataframe tbody tr th {\n",
       "        vertical-align: top;\n",
       "    }\n",
       "\n",
       "    .dataframe thead th {\n",
       "        text-align: right;\n",
       "    }\n",
       "</style>\n",
       "<table border=\"1\" class=\"dataframe\">\n",
       "  <thead>\n",
       "    <tr style=\"text-align: right;\">\n",
       "      <th></th>\n",
       "      <th>index</th>\n",
       "      <th>CourseName</th>\n",
       "      <th>DateFrom</th>\n",
       "      <th>DateTo</th>\n",
       "      <th>Attendees</th>\n",
       "      <th>City</th>\n",
       "      <th>Country</th>\n",
       "      <th>Official and national Languages_x</th>\n",
       "      <th>Official and national Languages_y</th>\n",
       "      <th>Official and national Languages</th>\n",
       "    </tr>\n",
       "  </thead>\n",
       "  <tbody>\n",
       "    <tr>\n",
       "      <th>0</th>\n",
       "      <td>0</td>\n",
       "      <td>Risk Assessment (Pest)</td>\n",
       "      <td>2015-01-12</td>\n",
       "      <td>2015-01-16</td>\n",
       "      <td>1</td>\n",
       "      <td>lisbon</td>\n",
       "      <td>Portugal</td>\n",
       "      <td>Portuguese</td>\n",
       "      <td>Portuguese</td>\n",
       "      <td>Portuguese</td>\n",
       "    </tr>\n",
       "    <tr>\n",
       "      <th>1</th>\n",
       "      <td>1</td>\n",
       "      <td>Organic Farming</td>\n",
       "      <td>2015-01-19</td>\n",
       "      <td>2015-01-22</td>\n",
       "      <td>2</td>\n",
       "      <td>Bristol</td>\n",
       "      <td>None</td>\n",
       "      <td>NaN</td>\n",
       "      <td>NaN</td>\n",
       "      <td>NaN</td>\n",
       "    </tr>\n",
       "    <tr>\n",
       "      <th>2</th>\n",
       "      <td>2</td>\n",
       "      <td>Prevention Control and Eradication of Transmis...</td>\n",
       "      <td>2015-01-20</td>\n",
       "      <td>2015-01-23</td>\n",
       "      <td>2</td>\n",
       "      <td>Ljubljana</td>\n",
       "      <td>Slovenia</td>\n",
       "      <td>Slovenian</td>\n",
       "      <td>Slovenian</td>\n",
       "      <td>Slovenian</td>\n",
       "    </tr>\n",
       "    <tr>\n",
       "      <th>3</th>\n",
       "      <td>3</td>\n",
       "      <td>Contingency Planning</td>\n",
       "      <td>2015-01-26</td>\n",
       "      <td>2015-01-30</td>\n",
       "      <td>2</td>\n",
       "      <td>Padua</td>\n",
       "      <td>None</td>\n",
       "      <td>NaN</td>\n",
       "      <td>NaN</td>\n",
       "      <td>NaN</td>\n",
       "    </tr>\n",
       "    <tr>\n",
       "      <th>4</th>\n",
       "      <td>4</td>\n",
       "      <td>HACCP</td>\n",
       "      <td>2015-02-02</td>\n",
       "      <td>2015-02-06</td>\n",
       "      <td>2</td>\n",
       "      <td>Rome</td>\n",
       "      <td>None</td>\n",
       "      <td>NaN</td>\n",
       "      <td>NaN</td>\n",
       "      <td>NaN</td>\n",
       "    </tr>\n",
       "    <tr>\n",
       "      <th>...</th>\n",
       "      <td>...</td>\n",
       "      <td>...</td>\n",
       "      <td>...</td>\n",
       "      <td>...</td>\n",
       "      <td>...</td>\n",
       "      <td>...</td>\n",
       "      <td>...</td>\n",
       "      <td>...</td>\n",
       "      <td>...</td>\n",
       "      <td>...</td>\n",
       "    </tr>\n",
       "    <tr>\n",
       "      <th>261</th>\n",
       "      <td>111</td>\n",
       "      <td>Contingency Planning</td>\n",
       "      <td>2017-03-06</td>\n",
       "      <td>2017-03-10</td>\n",
       "      <td>3</td>\n",
       "      <td>Venice</td>\n",
       "      <td>IT</td>\n",
       "      <td>NaN</td>\n",
       "      <td>NaN</td>\n",
       "      <td>NaN</td>\n",
       "    </tr>\n",
       "    <tr>\n",
       "      <th>262</th>\n",
       "      <td>112</td>\n",
       "      <td>Audit B1 - Standard Level</td>\n",
       "      <td>2017-03-06</td>\n",
       "      <td>2017-03-10</td>\n",
       "      <td>2</td>\n",
       "      <td>Valencia</td>\n",
       "      <td>None</td>\n",
       "      <td>NaN</td>\n",
       "      <td>NaN</td>\n",
       "      <td>NaN</td>\n",
       "    </tr>\n",
       "    <tr>\n",
       "      <th>263</th>\n",
       "      <td>113</td>\n",
       "      <td>Audit A</td>\n",
       "      <td>2017-03-20</td>\n",
       "      <td>2017-03-24</td>\n",
       "      <td>1</td>\n",
       "      <td>Bratislava</td>\n",
       "      <td>None</td>\n",
       "      <td>NaN</td>\n",
       "      <td>NaN</td>\n",
       "      <td>NaN</td>\n",
       "    </tr>\n",
       "    <tr>\n",
       "      <th>264</th>\n",
       "      <td>114</td>\n",
       "      <td>Food Hygiene and Flexibility</td>\n",
       "      <td>2017-03-20</td>\n",
       "      <td>2017-03-24</td>\n",
       "      <td>2</td>\n",
       "      <td>Zagreb/Helsinki</td>\n",
       "      <td>None</td>\n",
       "      <td>NaN</td>\n",
       "      <td>NaN</td>\n",
       "      <td>NaN</td>\n",
       "    </tr>\n",
       "    <tr>\n",
       "      <th>265</th>\n",
       "      <td>115</td>\n",
       "      <td>Animal Health and Disease Prevention for Bees ...</td>\n",
       "      <td>2017-03-28</td>\n",
       "      <td>2017-03-31</td>\n",
       "      <td>2</td>\n",
       "      <td>Antwerp</td>\n",
       "      <td>None</td>\n",
       "      <td>NaN</td>\n",
       "      <td>NaN</td>\n",
       "      <td>NaN</td>\n",
       "    </tr>\n",
       "  </tbody>\n",
       "</table>\n",
       "<p>266 rows × 10 columns</p>\n",
       "</div>"
      ],
      "text/plain": [
       "     index                                         CourseName   DateFrom  \\\n",
       "0        0                             Risk Assessment (Pest) 2015-01-12   \n",
       "1        1                                    Organic Farming 2015-01-19   \n",
       "2        2  Prevention Control and Eradication of Transmis... 2015-01-20   \n",
       "3        3                               Contingency Planning 2015-01-26   \n",
       "4        4                                              HACCP 2015-02-02   \n",
       "..     ...                                                ...        ...   \n",
       "261    111                               Contingency Planning 2017-03-06   \n",
       "262    112                          Audit B1 - Standard Level 2017-03-06   \n",
       "263    113                                            Audit A 2017-03-20   \n",
       "264    114                       Food Hygiene and Flexibility 2017-03-20   \n",
       "265    115  Animal Health and Disease Prevention for Bees ... 2017-03-28   \n",
       "\n",
       "        DateTo  Attendees             City   Country  \\\n",
       "0   2015-01-16          1           lisbon  Portugal   \n",
       "1   2015-01-22          2          Bristol      None   \n",
       "2   2015-01-23          2        Ljubljana  Slovenia   \n",
       "3   2015-01-30          2            Padua      None   \n",
       "4   2015-02-06          2             Rome      None   \n",
       "..         ...        ...              ...       ...   \n",
       "261 2017-03-10          3           Venice        IT   \n",
       "262 2017-03-10          2         Valencia      None   \n",
       "263 2017-03-24          1       Bratislava      None   \n",
       "264 2017-03-24          2  Zagreb/Helsinki      None   \n",
       "265 2017-03-31          2          Antwerp      None   \n",
       "\n",
       "    Official and national Languages_x Official and national Languages_y  \\\n",
       "0                          Portuguese                        Portuguese   \n",
       "1                                 NaN                               NaN   \n",
       "2                           Slovenian                         Slovenian   \n",
       "3                                 NaN                               NaN   \n",
       "4                                 NaN                               NaN   \n",
       "..                                ...                               ...   \n",
       "261                               NaN                               NaN   \n",
       "262                               NaN                               NaN   \n",
       "263                               NaN                               NaN   \n",
       "264                               NaN                               NaN   \n",
       "265                               NaN                               NaN   \n",
       "\n",
       "    Official and national Languages  \n",
       "0                        Portuguese  \n",
       "1                               NaN  \n",
       "2                         Slovenian  \n",
       "3                               NaN  \n",
       "4                               NaN  \n",
       "..                              ...  \n",
       "261                             NaN  \n",
       "262                             NaN  \n",
       "263                             NaN  \n",
       "264                             NaN  \n",
       "265                             NaN  \n",
       "\n",
       "[266 rows x 10 columns]"
      ]
     },
     "execution_count": 311,
     "metadata": {},
     "output_type": "execute_result"
    }
   ],
   "source": [
    "df[['DateFrom', 'DateTo']] = df[['DateFrom', 'DateTo']].apply(pd.to_datetime)\n",
    "df"
   ]
  },
  {
   "cell_type": "code",
   "execution_count": 310,
   "metadata": {
    "jupyter": {
     "outputs_hidden": false
    }
   },
   "outputs": [],
   "source": [
    "# %load ../solutions/05_40.py\n",
    "df[\"DateFrom\"] = pd.to_datetime(df[\"DateFrom\"], format=\"%Y-%m-%d\")\n",
    "df[\"DateTo\"] = pd.to_datetime(df[\"DateTo\"], format=\"%Y-%m-%d\")"
   ]
  },
  {
   "cell_type": "markdown",
   "metadata": {},
   "source": [
    "Note: We could have used the parameter *parse_dates* when loading data.  \n",
    "We can now use these columns to filter or do some calculation.\n",
    ">Display the rows where the training started after the first February 2017."
   ]
  },
  {
   "cell_type": "code",
   "execution_count": 313,
   "metadata": {
    "jupyter": {
     "outputs_hidden": false
    }
   },
   "outputs": [
    {
     "data": {
      "text/html": [
       "<div>\n",
       "<style scoped>\n",
       "    .dataframe tbody tr th:only-of-type {\n",
       "        vertical-align: middle;\n",
       "    }\n",
       "\n",
       "    .dataframe tbody tr th {\n",
       "        vertical-align: top;\n",
       "    }\n",
       "\n",
       "    .dataframe thead th {\n",
       "        text-align: right;\n",
       "    }\n",
       "</style>\n",
       "<table border=\"1\" class=\"dataframe\">\n",
       "  <thead>\n",
       "    <tr style=\"text-align: right;\">\n",
       "      <th></th>\n",
       "      <th>index</th>\n",
       "      <th>CourseName</th>\n",
       "      <th>DateFrom</th>\n",
       "      <th>DateTo</th>\n",
       "      <th>Attendees</th>\n",
       "      <th>City</th>\n",
       "      <th>Country</th>\n",
       "      <th>Official and national Languages_x</th>\n",
       "      <th>Official and national Languages_y</th>\n",
       "      <th>Official and national Languages</th>\n",
       "    </tr>\n",
       "  </thead>\n",
       "  <tbody>\n",
       "    <tr>\n",
       "      <th>129</th>\n",
       "      <td>101</td>\n",
       "      <td>Food Hygiene at Primary Production (Aquatic An...</td>\n",
       "      <td>2016-02-08</td>\n",
       "      <td>2016-02-12</td>\n",
       "      <td>3</td>\n",
       "      <td>Tarragona</td>\n",
       "      <td>NaN</td>\n",
       "      <td>NaN</td>\n",
       "      <td>NaN</td>\n",
       "      <td>NaN</td>\n",
       "    </tr>\n",
       "    <tr>\n",
       "      <th>130</th>\n",
       "      <td>102</td>\n",
       "      <td>CONTROL OF ZOONOSES AND PREVENTION AND MONITOR...</td>\n",
       "      <td>2016-02-09</td>\n",
       "      <td>2016-02-12</td>\n",
       "      <td>1</td>\n",
       "      <td>Krakow</td>\n",
       "      <td>Poland</td>\n",
       "      <td>Polish</td>\n",
       "      <td>Polish</td>\n",
       "      <td>Polish</td>\n",
       "    </tr>\n",
       "    <tr>\n",
       "      <th>131</th>\n",
       "      <td>103</td>\n",
       "      <td>Food Composition and Information</td>\n",
       "      <td>2016-03-07</td>\n",
       "      <td>2016-03-11</td>\n",
       "      <td>1</td>\n",
       "      <td>Athens</td>\n",
       "      <td>Greece</td>\n",
       "      <td>NaN</td>\n",
       "      <td>NaN</td>\n",
       "      <td>NaN</td>\n",
       "    </tr>\n",
       "    <tr>\n",
       "      <th>132</th>\n",
       "      <td>104</td>\n",
       "      <td>Animal Welfare (Broiler Production)</td>\n",
       "      <td>2016-03-08</td>\n",
       "      <td>2016-03-11</td>\n",
       "      <td>1</td>\n",
       "      <td>Unknown</td>\n",
       "      <td>NaN</td>\n",
       "      <td>NaN</td>\n",
       "      <td>NaN</td>\n",
       "      <td>NaN</td>\n",
       "    </tr>\n",
       "    <tr>\n",
       "      <th>138</th>\n",
       "      <td>110</td>\n",
       "      <td>Animal Welfare (Cattle pigs sheep and goats: A...</td>\n",
       "      <td>2016-02-02</td>\n",
       "      <td>2016-02-05</td>\n",
       "      <td>2</td>\n",
       "      <td>Unknown</td>\n",
       "      <td>NaN</td>\n",
       "      <td>NaN</td>\n",
       "      <td>NaN</td>\n",
       "      <td>NaN</td>\n",
       "    </tr>\n",
       "    <tr>\n",
       "      <th>...</th>\n",
       "      <td>...</td>\n",
       "      <td>...</td>\n",
       "      <td>...</td>\n",
       "      <td>...</td>\n",
       "      <td>...</td>\n",
       "      <td>...</td>\n",
       "      <td>...</td>\n",
       "      <td>...</td>\n",
       "      <td>...</td>\n",
       "      <td>...</td>\n",
       "    </tr>\n",
       "    <tr>\n",
       "      <th>261</th>\n",
       "      <td>111</td>\n",
       "      <td>Contingency Planning</td>\n",
       "      <td>2017-03-06</td>\n",
       "      <td>2017-03-10</td>\n",
       "      <td>3</td>\n",
       "      <td>Venice</td>\n",
       "      <td>IT</td>\n",
       "      <td>NaN</td>\n",
       "      <td>NaN</td>\n",
       "      <td>NaN</td>\n",
       "    </tr>\n",
       "    <tr>\n",
       "      <th>262</th>\n",
       "      <td>112</td>\n",
       "      <td>Audit B1 - Standard Level</td>\n",
       "      <td>2017-03-06</td>\n",
       "      <td>2017-03-10</td>\n",
       "      <td>2</td>\n",
       "      <td>Valencia</td>\n",
       "      <td>None</td>\n",
       "      <td>NaN</td>\n",
       "      <td>NaN</td>\n",
       "      <td>NaN</td>\n",
       "    </tr>\n",
       "    <tr>\n",
       "      <th>263</th>\n",
       "      <td>113</td>\n",
       "      <td>Audit A</td>\n",
       "      <td>2017-03-20</td>\n",
       "      <td>2017-03-24</td>\n",
       "      <td>1</td>\n",
       "      <td>Bratislava</td>\n",
       "      <td>None</td>\n",
       "      <td>NaN</td>\n",
       "      <td>NaN</td>\n",
       "      <td>NaN</td>\n",
       "    </tr>\n",
       "    <tr>\n",
       "      <th>264</th>\n",
       "      <td>114</td>\n",
       "      <td>Food Hygiene and Flexibility</td>\n",
       "      <td>2017-03-20</td>\n",
       "      <td>2017-03-24</td>\n",
       "      <td>2</td>\n",
       "      <td>Zagreb/Helsinki</td>\n",
       "      <td>None</td>\n",
       "      <td>NaN</td>\n",
       "      <td>NaN</td>\n",
       "      <td>NaN</td>\n",
       "    </tr>\n",
       "    <tr>\n",
       "      <th>265</th>\n",
       "      <td>115</td>\n",
       "      <td>Animal Health and Disease Prevention for Bees ...</td>\n",
       "      <td>2017-03-28</td>\n",
       "      <td>2017-03-31</td>\n",
       "      <td>2</td>\n",
       "      <td>Antwerp</td>\n",
       "      <td>None</td>\n",
       "      <td>NaN</td>\n",
       "      <td>NaN</td>\n",
       "      <td>NaN</td>\n",
       "    </tr>\n",
       "  </tbody>\n",
       "</table>\n",
       "<p>132 rows × 10 columns</p>\n",
       "</div>"
      ],
      "text/plain": [
       "     index                                         CourseName   DateFrom  \\\n",
       "129    101  Food Hygiene at Primary Production (Aquatic An... 2016-02-08   \n",
       "130    102  CONTROL OF ZOONOSES AND PREVENTION AND MONITOR... 2016-02-09   \n",
       "131    103                   Food Composition and Information 2016-03-07   \n",
       "132    104                Animal Welfare (Broiler Production) 2016-03-08   \n",
       "138    110  Animal Welfare (Cattle pigs sheep and goats: A... 2016-02-02   \n",
       "..     ...                                                ...        ...   \n",
       "261    111                               Contingency Planning 2017-03-06   \n",
       "262    112                          Audit B1 - Standard Level 2017-03-06   \n",
       "263    113                                            Audit A 2017-03-20   \n",
       "264    114                       Food Hygiene and Flexibility 2017-03-20   \n",
       "265    115  Animal Health and Disease Prevention for Bees ... 2017-03-28   \n",
       "\n",
       "        DateTo  Attendees             City  Country  \\\n",
       "129 2016-02-12          3        Tarragona      NaN   \n",
       "130 2016-02-12          1           Krakow   Poland   \n",
       "131 2016-03-11          1          Athens    Greece   \n",
       "132 2016-03-11          1          Unknown      NaN   \n",
       "138 2016-02-05          2          Unknown      NaN   \n",
       "..         ...        ...              ...      ...   \n",
       "261 2017-03-10          3           Venice       IT   \n",
       "262 2017-03-10          2         Valencia     None   \n",
       "263 2017-03-24          1       Bratislava     None   \n",
       "264 2017-03-24          2  Zagreb/Helsinki     None   \n",
       "265 2017-03-31          2          Antwerp     None   \n",
       "\n",
       "    Official and national Languages_x Official and national Languages_y  \\\n",
       "129                               NaN                               NaN   \n",
       "130                            Polish                            Polish   \n",
       "131                               NaN                               NaN   \n",
       "132                               NaN                               NaN   \n",
       "138                               NaN                               NaN   \n",
       "..                                ...                               ...   \n",
       "261                               NaN                               NaN   \n",
       "262                               NaN                               NaN   \n",
       "263                               NaN                               NaN   \n",
       "264                               NaN                               NaN   \n",
       "265                               NaN                               NaN   \n",
       "\n",
       "    Official and national Languages  \n",
       "129                             NaN  \n",
       "130                          Polish  \n",
       "131                             NaN  \n",
       "132                             NaN  \n",
       "138                             NaN  \n",
       "..                              ...  \n",
       "261                             NaN  \n",
       "262                             NaN  \n",
       "263                             NaN  \n",
       "264                             NaN  \n",
       "265                             NaN  \n",
       "\n",
       "[132 rows x 10 columns]"
      ]
     },
     "execution_count": 313,
     "metadata": {},
     "output_type": "execute_result"
    }
   ],
   "source": [
    "df[df['DateFrom'] > '2017-02-01']\n"
   ]
  },
  {
   "cell_type": "code",
   "execution_count": 314,
   "metadata": {
    "jupyter": {
     "outputs_hidden": false
    }
   },
   "outputs": [],
   "source": [
    "# %load ../solutions/05_41.py\n",
    "df[df[\"DateFrom\"] > \"2017-02-01\"]"
   ]
  },
  {
   "cell_type": "markdown",
   "metadata": {},
   "source": [
    ">Create a ***duration*** column with the duration of the training."
   ]
  },
  {
   "cell_type": "code",
   "execution_count": 315,
   "metadata": {
    "jupyter": {
     "outputs_hidden": false
    }
   },
   "outputs": [
    {
     "data": {
      "text/html": [
       "<div>\n",
       "<style scoped>\n",
       "    .dataframe tbody tr th:only-of-type {\n",
       "        vertical-align: middle;\n",
       "    }\n",
       "\n",
       "    .dataframe tbody tr th {\n",
       "        vertical-align: top;\n",
       "    }\n",
       "\n",
       "    .dataframe thead th {\n",
       "        text-align: right;\n",
       "    }\n",
       "</style>\n",
       "<table border=\"1\" class=\"dataframe\">\n",
       "  <thead>\n",
       "    <tr style=\"text-align: right;\">\n",
       "      <th></th>\n",
       "      <th>index</th>\n",
       "      <th>CourseName</th>\n",
       "      <th>DateFrom</th>\n",
       "      <th>DateTo</th>\n",
       "      <th>Attendees</th>\n",
       "      <th>City</th>\n",
       "      <th>Country</th>\n",
       "      <th>Official and national Languages_x</th>\n",
       "      <th>Official and national Languages_y</th>\n",
       "      <th>Official and national Languages</th>\n",
       "      <th>Duration</th>\n",
       "    </tr>\n",
       "  </thead>\n",
       "  <tbody>\n",
       "    <tr>\n",
       "      <th>0</th>\n",
       "      <td>0</td>\n",
       "      <td>Risk Assessment (Pest)</td>\n",
       "      <td>2015-01-12</td>\n",
       "      <td>2015-01-16</td>\n",
       "      <td>1</td>\n",
       "      <td>lisbon</td>\n",
       "      <td>Portugal</td>\n",
       "      <td>Portuguese</td>\n",
       "      <td>Portuguese</td>\n",
       "      <td>Portuguese</td>\n",
       "      <td>4 days</td>\n",
       "    </tr>\n",
       "    <tr>\n",
       "      <th>1</th>\n",
       "      <td>1</td>\n",
       "      <td>Organic Farming</td>\n",
       "      <td>2015-01-19</td>\n",
       "      <td>2015-01-22</td>\n",
       "      <td>2</td>\n",
       "      <td>Bristol</td>\n",
       "      <td>None</td>\n",
       "      <td>NaN</td>\n",
       "      <td>NaN</td>\n",
       "      <td>NaN</td>\n",
       "      <td>3 days</td>\n",
       "    </tr>\n",
       "    <tr>\n",
       "      <th>2</th>\n",
       "      <td>2</td>\n",
       "      <td>Prevention Control and Eradication of Transmis...</td>\n",
       "      <td>2015-01-20</td>\n",
       "      <td>2015-01-23</td>\n",
       "      <td>2</td>\n",
       "      <td>Ljubljana</td>\n",
       "      <td>Slovenia</td>\n",
       "      <td>Slovenian</td>\n",
       "      <td>Slovenian</td>\n",
       "      <td>Slovenian</td>\n",
       "      <td>3 days</td>\n",
       "    </tr>\n",
       "    <tr>\n",
       "      <th>3</th>\n",
       "      <td>3</td>\n",
       "      <td>Contingency Planning</td>\n",
       "      <td>2015-01-26</td>\n",
       "      <td>2015-01-30</td>\n",
       "      <td>2</td>\n",
       "      <td>Padua</td>\n",
       "      <td>None</td>\n",
       "      <td>NaN</td>\n",
       "      <td>NaN</td>\n",
       "      <td>NaN</td>\n",
       "      <td>4 days</td>\n",
       "    </tr>\n",
       "    <tr>\n",
       "      <th>4</th>\n",
       "      <td>4</td>\n",
       "      <td>HACCP</td>\n",
       "      <td>2015-02-02</td>\n",
       "      <td>2015-02-06</td>\n",
       "      <td>2</td>\n",
       "      <td>Rome</td>\n",
       "      <td>None</td>\n",
       "      <td>NaN</td>\n",
       "      <td>NaN</td>\n",
       "      <td>NaN</td>\n",
       "      <td>4 days</td>\n",
       "    </tr>\n",
       "    <tr>\n",
       "      <th>...</th>\n",
       "      <td>...</td>\n",
       "      <td>...</td>\n",
       "      <td>...</td>\n",
       "      <td>...</td>\n",
       "      <td>...</td>\n",
       "      <td>...</td>\n",
       "      <td>...</td>\n",
       "      <td>...</td>\n",
       "      <td>...</td>\n",
       "      <td>...</td>\n",
       "      <td>...</td>\n",
       "    </tr>\n",
       "    <tr>\n",
       "      <th>261</th>\n",
       "      <td>111</td>\n",
       "      <td>Contingency Planning</td>\n",
       "      <td>2017-03-06</td>\n",
       "      <td>2017-03-10</td>\n",
       "      <td>3</td>\n",
       "      <td>Venice</td>\n",
       "      <td>IT</td>\n",
       "      <td>NaN</td>\n",
       "      <td>NaN</td>\n",
       "      <td>NaN</td>\n",
       "      <td>4 days</td>\n",
       "    </tr>\n",
       "    <tr>\n",
       "      <th>262</th>\n",
       "      <td>112</td>\n",
       "      <td>Audit B1 - Standard Level</td>\n",
       "      <td>2017-03-06</td>\n",
       "      <td>2017-03-10</td>\n",
       "      <td>2</td>\n",
       "      <td>Valencia</td>\n",
       "      <td>None</td>\n",
       "      <td>NaN</td>\n",
       "      <td>NaN</td>\n",
       "      <td>NaN</td>\n",
       "      <td>4 days</td>\n",
       "    </tr>\n",
       "    <tr>\n",
       "      <th>263</th>\n",
       "      <td>113</td>\n",
       "      <td>Audit A</td>\n",
       "      <td>2017-03-20</td>\n",
       "      <td>2017-03-24</td>\n",
       "      <td>1</td>\n",
       "      <td>Bratislava</td>\n",
       "      <td>None</td>\n",
       "      <td>NaN</td>\n",
       "      <td>NaN</td>\n",
       "      <td>NaN</td>\n",
       "      <td>4 days</td>\n",
       "    </tr>\n",
       "    <tr>\n",
       "      <th>264</th>\n",
       "      <td>114</td>\n",
       "      <td>Food Hygiene and Flexibility</td>\n",
       "      <td>2017-03-20</td>\n",
       "      <td>2017-03-24</td>\n",
       "      <td>2</td>\n",
       "      <td>Zagreb/Helsinki</td>\n",
       "      <td>None</td>\n",
       "      <td>NaN</td>\n",
       "      <td>NaN</td>\n",
       "      <td>NaN</td>\n",
       "      <td>4 days</td>\n",
       "    </tr>\n",
       "    <tr>\n",
       "      <th>265</th>\n",
       "      <td>115</td>\n",
       "      <td>Animal Health and Disease Prevention for Bees ...</td>\n",
       "      <td>2017-03-28</td>\n",
       "      <td>2017-03-31</td>\n",
       "      <td>2</td>\n",
       "      <td>Antwerp</td>\n",
       "      <td>None</td>\n",
       "      <td>NaN</td>\n",
       "      <td>NaN</td>\n",
       "      <td>NaN</td>\n",
       "      <td>3 days</td>\n",
       "    </tr>\n",
       "  </tbody>\n",
       "</table>\n",
       "<p>266 rows × 11 columns</p>\n",
       "</div>"
      ],
      "text/plain": [
       "     index                                         CourseName   DateFrom  \\\n",
       "0        0                             Risk Assessment (Pest) 2015-01-12   \n",
       "1        1                                    Organic Farming 2015-01-19   \n",
       "2        2  Prevention Control and Eradication of Transmis... 2015-01-20   \n",
       "3        3                               Contingency Planning 2015-01-26   \n",
       "4        4                                              HACCP 2015-02-02   \n",
       "..     ...                                                ...        ...   \n",
       "261    111                               Contingency Planning 2017-03-06   \n",
       "262    112                          Audit B1 - Standard Level 2017-03-06   \n",
       "263    113                                            Audit A 2017-03-20   \n",
       "264    114                       Food Hygiene and Flexibility 2017-03-20   \n",
       "265    115  Animal Health and Disease Prevention for Bees ... 2017-03-28   \n",
       "\n",
       "        DateTo  Attendees             City   Country  \\\n",
       "0   2015-01-16          1           lisbon  Portugal   \n",
       "1   2015-01-22          2          Bristol      None   \n",
       "2   2015-01-23          2        Ljubljana  Slovenia   \n",
       "3   2015-01-30          2            Padua      None   \n",
       "4   2015-02-06          2             Rome      None   \n",
       "..         ...        ...              ...       ...   \n",
       "261 2017-03-10          3           Venice        IT   \n",
       "262 2017-03-10          2         Valencia      None   \n",
       "263 2017-03-24          1       Bratislava      None   \n",
       "264 2017-03-24          2  Zagreb/Helsinki      None   \n",
       "265 2017-03-31          2          Antwerp      None   \n",
       "\n",
       "    Official and national Languages_x Official and national Languages_y  \\\n",
       "0                          Portuguese                        Portuguese   \n",
       "1                                 NaN                               NaN   \n",
       "2                           Slovenian                         Slovenian   \n",
       "3                                 NaN                               NaN   \n",
       "4                                 NaN                               NaN   \n",
       "..                                ...                               ...   \n",
       "261                               NaN                               NaN   \n",
       "262                               NaN                               NaN   \n",
       "263                               NaN                               NaN   \n",
       "264                               NaN                               NaN   \n",
       "265                               NaN                               NaN   \n",
       "\n",
       "    Official and national Languages Duration  \n",
       "0                        Portuguese   4 days  \n",
       "1                               NaN   3 days  \n",
       "2                         Slovenian   3 days  \n",
       "3                               NaN   4 days  \n",
       "4                               NaN   4 days  \n",
       "..                              ...      ...  \n",
       "261                             NaN   4 days  \n",
       "262                             NaN   4 days  \n",
       "263                             NaN   4 days  \n",
       "264                             NaN   4 days  \n",
       "265                             NaN   3 days  \n",
       "\n",
       "[266 rows x 11 columns]"
      ]
     },
     "execution_count": 315,
     "metadata": {},
     "output_type": "execute_result"
    }
   ],
   "source": [
    "df['Duration'] = df['DateTo'] - df['DateFrom']\n",
    "df"
   ]
  },
  {
   "cell_type": "markdown",
   "metadata": {},
   "source": [
    "# datetime.timedelta(days=1)\n",
    "ensures that the duration will include both starting and ending days"
   ]
  },
  {
   "cell_type": "code",
   "execution_count": 319,
   "metadata": {
    "jupyter": {
     "outputs_hidden": false
    }
   },
   "outputs": [
    {
     "data": {
      "text/html": [
       "<div>\n",
       "<style scoped>\n",
       "    .dataframe tbody tr th:only-of-type {\n",
       "        vertical-align: middle;\n",
       "    }\n",
       "\n",
       "    .dataframe tbody tr th {\n",
       "        vertical-align: top;\n",
       "    }\n",
       "\n",
       "    .dataframe thead th {\n",
       "        text-align: right;\n",
       "    }\n",
       "</style>\n",
       "<table border=\"1\" class=\"dataframe\">\n",
       "  <thead>\n",
       "    <tr style=\"text-align: right;\">\n",
       "      <th></th>\n",
       "      <th>index</th>\n",
       "      <th>CourseName</th>\n",
       "      <th>DateFrom</th>\n",
       "      <th>DateTo</th>\n",
       "      <th>Attendees</th>\n",
       "      <th>City</th>\n",
       "      <th>Country</th>\n",
       "      <th>Official and national Languages_x</th>\n",
       "      <th>Official and national Languages_y</th>\n",
       "      <th>Official and national Languages</th>\n",
       "      <th>Duration</th>\n",
       "      <th>duration</th>\n",
       "    </tr>\n",
       "  </thead>\n",
       "  <tbody>\n",
       "    <tr>\n",
       "      <th>0</th>\n",
       "      <td>0</td>\n",
       "      <td>Risk Assessment (Pest)</td>\n",
       "      <td>2015-01-12</td>\n",
       "      <td>2015-01-16</td>\n",
       "      <td>1</td>\n",
       "      <td>lisbon</td>\n",
       "      <td>Portugal</td>\n",
       "      <td>Portuguese</td>\n",
       "      <td>Portuguese</td>\n",
       "      <td>Portuguese</td>\n",
       "      <td>4 days</td>\n",
       "      <td>5 days</td>\n",
       "    </tr>\n",
       "    <tr>\n",
       "      <th>1</th>\n",
       "      <td>1</td>\n",
       "      <td>Organic Farming</td>\n",
       "      <td>2015-01-19</td>\n",
       "      <td>2015-01-22</td>\n",
       "      <td>2</td>\n",
       "      <td>Bristol</td>\n",
       "      <td>None</td>\n",
       "      <td>NaN</td>\n",
       "      <td>NaN</td>\n",
       "      <td>NaN</td>\n",
       "      <td>3 days</td>\n",
       "      <td>4 days</td>\n",
       "    </tr>\n",
       "    <tr>\n",
       "      <th>2</th>\n",
       "      <td>2</td>\n",
       "      <td>Prevention Control and Eradication of Transmis...</td>\n",
       "      <td>2015-01-20</td>\n",
       "      <td>2015-01-23</td>\n",
       "      <td>2</td>\n",
       "      <td>Ljubljana</td>\n",
       "      <td>Slovenia</td>\n",
       "      <td>Slovenian</td>\n",
       "      <td>Slovenian</td>\n",
       "      <td>Slovenian</td>\n",
       "      <td>3 days</td>\n",
       "      <td>4 days</td>\n",
       "    </tr>\n",
       "    <tr>\n",
       "      <th>3</th>\n",
       "      <td>3</td>\n",
       "      <td>Contingency Planning</td>\n",
       "      <td>2015-01-26</td>\n",
       "      <td>2015-01-30</td>\n",
       "      <td>2</td>\n",
       "      <td>Padua</td>\n",
       "      <td>None</td>\n",
       "      <td>NaN</td>\n",
       "      <td>NaN</td>\n",
       "      <td>NaN</td>\n",
       "      <td>4 days</td>\n",
       "      <td>5 days</td>\n",
       "    </tr>\n",
       "    <tr>\n",
       "      <th>4</th>\n",
       "      <td>4</td>\n",
       "      <td>HACCP</td>\n",
       "      <td>2015-02-02</td>\n",
       "      <td>2015-02-06</td>\n",
       "      <td>2</td>\n",
       "      <td>Rome</td>\n",
       "      <td>None</td>\n",
       "      <td>NaN</td>\n",
       "      <td>NaN</td>\n",
       "      <td>NaN</td>\n",
       "      <td>4 days</td>\n",
       "      <td>5 days</td>\n",
       "    </tr>\n",
       "    <tr>\n",
       "      <th>...</th>\n",
       "      <td>...</td>\n",
       "      <td>...</td>\n",
       "      <td>...</td>\n",
       "      <td>...</td>\n",
       "      <td>...</td>\n",
       "      <td>...</td>\n",
       "      <td>...</td>\n",
       "      <td>...</td>\n",
       "      <td>...</td>\n",
       "      <td>...</td>\n",
       "      <td>...</td>\n",
       "      <td>...</td>\n",
       "    </tr>\n",
       "    <tr>\n",
       "      <th>261</th>\n",
       "      <td>111</td>\n",
       "      <td>Contingency Planning</td>\n",
       "      <td>2017-03-06</td>\n",
       "      <td>2017-03-10</td>\n",
       "      <td>3</td>\n",
       "      <td>Venice</td>\n",
       "      <td>IT</td>\n",
       "      <td>NaN</td>\n",
       "      <td>NaN</td>\n",
       "      <td>NaN</td>\n",
       "      <td>4 days</td>\n",
       "      <td>5 days</td>\n",
       "    </tr>\n",
       "    <tr>\n",
       "      <th>262</th>\n",
       "      <td>112</td>\n",
       "      <td>Audit B1 - Standard Level</td>\n",
       "      <td>2017-03-06</td>\n",
       "      <td>2017-03-10</td>\n",
       "      <td>2</td>\n",
       "      <td>Valencia</td>\n",
       "      <td>None</td>\n",
       "      <td>NaN</td>\n",
       "      <td>NaN</td>\n",
       "      <td>NaN</td>\n",
       "      <td>4 days</td>\n",
       "      <td>5 days</td>\n",
       "    </tr>\n",
       "    <tr>\n",
       "      <th>263</th>\n",
       "      <td>113</td>\n",
       "      <td>Audit A</td>\n",
       "      <td>2017-03-20</td>\n",
       "      <td>2017-03-24</td>\n",
       "      <td>1</td>\n",
       "      <td>Bratislava</td>\n",
       "      <td>None</td>\n",
       "      <td>NaN</td>\n",
       "      <td>NaN</td>\n",
       "      <td>NaN</td>\n",
       "      <td>4 days</td>\n",
       "      <td>5 days</td>\n",
       "    </tr>\n",
       "    <tr>\n",
       "      <th>264</th>\n",
       "      <td>114</td>\n",
       "      <td>Food Hygiene and Flexibility</td>\n",
       "      <td>2017-03-20</td>\n",
       "      <td>2017-03-24</td>\n",
       "      <td>2</td>\n",
       "      <td>Zagreb/Helsinki</td>\n",
       "      <td>None</td>\n",
       "      <td>NaN</td>\n",
       "      <td>NaN</td>\n",
       "      <td>NaN</td>\n",
       "      <td>4 days</td>\n",
       "      <td>5 days</td>\n",
       "    </tr>\n",
       "    <tr>\n",
       "      <th>265</th>\n",
       "      <td>115</td>\n",
       "      <td>Animal Health and Disease Prevention for Bees ...</td>\n",
       "      <td>2017-03-28</td>\n",
       "      <td>2017-03-31</td>\n",
       "      <td>2</td>\n",
       "      <td>Antwerp</td>\n",
       "      <td>None</td>\n",
       "      <td>NaN</td>\n",
       "      <td>NaN</td>\n",
       "      <td>NaN</td>\n",
       "      <td>3 days</td>\n",
       "      <td>4 days</td>\n",
       "    </tr>\n",
       "  </tbody>\n",
       "</table>\n",
       "<p>266 rows × 12 columns</p>\n",
       "</div>"
      ],
      "text/plain": [
       "     index                                         CourseName   DateFrom  \\\n",
       "0        0                             Risk Assessment (Pest) 2015-01-12   \n",
       "1        1                                    Organic Farming 2015-01-19   \n",
       "2        2  Prevention Control and Eradication of Transmis... 2015-01-20   \n",
       "3        3                               Contingency Planning 2015-01-26   \n",
       "4        4                                              HACCP 2015-02-02   \n",
       "..     ...                                                ...        ...   \n",
       "261    111                               Contingency Planning 2017-03-06   \n",
       "262    112                          Audit B1 - Standard Level 2017-03-06   \n",
       "263    113                                            Audit A 2017-03-20   \n",
       "264    114                       Food Hygiene and Flexibility 2017-03-20   \n",
       "265    115  Animal Health and Disease Prevention for Bees ... 2017-03-28   \n",
       "\n",
       "        DateTo  Attendees             City   Country  \\\n",
       "0   2015-01-16          1           lisbon  Portugal   \n",
       "1   2015-01-22          2          Bristol      None   \n",
       "2   2015-01-23          2        Ljubljana  Slovenia   \n",
       "3   2015-01-30          2            Padua      None   \n",
       "4   2015-02-06          2             Rome      None   \n",
       "..         ...        ...              ...       ...   \n",
       "261 2017-03-10          3           Venice        IT   \n",
       "262 2017-03-10          2         Valencia      None   \n",
       "263 2017-03-24          1       Bratislava      None   \n",
       "264 2017-03-24          2  Zagreb/Helsinki      None   \n",
       "265 2017-03-31          2          Antwerp      None   \n",
       "\n",
       "    Official and national Languages_x Official and national Languages_y  \\\n",
       "0                          Portuguese                        Portuguese   \n",
       "1                                 NaN                               NaN   \n",
       "2                           Slovenian                         Slovenian   \n",
       "3                                 NaN                               NaN   \n",
       "4                                 NaN                               NaN   \n",
       "..                                ...                               ...   \n",
       "261                               NaN                               NaN   \n",
       "262                               NaN                               NaN   \n",
       "263                               NaN                               NaN   \n",
       "264                               NaN                               NaN   \n",
       "265                               NaN                               NaN   \n",
       "\n",
       "    Official and national Languages Duration duration  \n",
       "0                        Portuguese   4 days   5 days  \n",
       "1                               NaN   3 days   4 days  \n",
       "2                         Slovenian   3 days   4 days  \n",
       "3                               NaN   4 days   5 days  \n",
       "4                               NaN   4 days   5 days  \n",
       "..                              ...      ...      ...  \n",
       "261                             NaN   4 days   5 days  \n",
       "262                             NaN   4 days   5 days  \n",
       "263                             NaN   4 days   5 days  \n",
       "264                             NaN   4 days   5 days  \n",
       "265                             NaN   3 days   4 days  \n",
       "\n",
       "[266 rows x 12 columns]"
      ]
     },
     "execution_count": 319,
     "metadata": {},
     "output_type": "execute_result"
    }
   ],
   "source": [
    "# %load ../solutions/05_42.py\n",
    "df[\"duration\"] = df[\"DateTo\"] - df[\"DateFrom\"] + datetime.timedelta(days=1)\n",
    "df"
   ]
  },
  {
   "cell_type": "markdown",
   "metadata": {},
   "source": [
    ">Create a ***month*** column indicating which month the training started.  \n",
    ">Plot an histogram of the ***month*** column."
   ]
  },
  {
   "cell_type": "code",
   "execution_count": 324,
   "metadata": {
    "jupyter": {
     "outputs_hidden": false
    }
   },
   "outputs": [
    {
     "data": {
      "text/plain": [
       "<Axes: ylabel='Frequency'>"
      ]
     },
     "execution_count": 324,
     "metadata": {},
     "output_type": "execute_result"
    },
    {
     "data": {
      "image/png": "[encoded data removed]",
      "text/plain": [
       "<Figure size 640x480 with 1 Axes>"
      ]
     },
     "metadata": {},
     "output_type": "display_data"
    }
   ],
   "source": [
    "df['Month'] = df['DateFrom'].dt.month\n",
    "\n",
    "df['Month'].plot(kind='hist')"
   ]
  },
  {
   "cell_type": "code",
   "execution_count": 326,
   "metadata": {
    "jupyter": {
     "outputs_hidden": false
    }
   },
   "outputs": [
    {
     "data": {
      "text/plain": [
       "<Axes: >"
      ]
     },
     "execution_count": 326,
     "metadata": {},
     "output_type": "execute_result"
    },
    {
     "data": {
      "image/png": "[encoded data removed]",
      "text/plain": [
       "<Figure size 640x480 with 1 Axes>"
      ]
     },
     "metadata": {},
     "output_type": "display_data"
    }
   ],
   "source": [
    "# %load ../solutions/05_43.py\n",
    "df[\"month\"] = df[\"DateFrom\"].dt.month\n",
    "df[\"month\"].hist()"
   ]
  },
  {
   "cell_type": "markdown",
   "metadata": {},
   "source": [
    "---\n",
    "\n",
    "<div class=\"alert alert-block alert-warning\" style=\"padding: 0px; padding-left: 20px; padding-top: 5px;\"><h2 style=\"color: #301E40\">\n",
    "Sorting values\n",
    "</h2><br>\n",
    "</div>"
   ]
  },
  {
   "cell_type": "markdown",
   "metadata": {},
   "source": [
    ">Sort df in alphabetical order of ***cities***."
   ]
  },
  {
   "cell_type": "code",
   "execution_count": 328,
   "metadata": {
    "jupyter": {
     "outputs_hidden": false
    }
   },
   "outputs": [
    {
     "data": {
      "text/plain": [
       "22            Budapest\n",
       "144           Budapest\n",
       "128             Venice\n",
       "154           Alicante\n",
       "118    Alicante/Murcia\n",
       "            ...       \n",
       "134             Zagreb\n",
       "37              Zagreb\n",
       "264    Zagreb/Helsinki\n",
       "188             lisbon\n",
       "0               lisbon\n",
       "Name: City, Length: 266, dtype: object"
      ]
     },
     "execution_count": 328,
     "metadata": {},
     "output_type": "execute_result"
    }
   ],
   "source": [
    "df.sort_values(\"City\")\n",
    "\n",
    "# Will only display the City column\n",
    "# df['City'].sort_values()"
   ]
  },
  {
   "cell_type": "code",
   "execution_count": 331,
   "metadata": {
    "jupyter": {
     "outputs_hidden": false
    }
   },
   "outputs": [
    {
     "data": {
      "text/html": [
       "<div>\n",
       "<style scoped>\n",
       "    .dataframe tbody tr th:only-of-type {\n",
       "        vertical-align: middle;\n",
       "    }\n",
       "\n",
       "    .dataframe tbody tr th {\n",
       "        vertical-align: top;\n",
       "    }\n",
       "\n",
       "    .dataframe thead th {\n",
       "        text-align: right;\n",
       "    }\n",
       "</style>\n",
       "<table border=\"1\" class=\"dataframe\">\n",
       "  <thead>\n",
       "    <tr style=\"text-align: right;\">\n",
       "      <th></th>\n",
       "      <th>index</th>\n",
       "      <th>CourseName</th>\n",
       "      <th>DateFrom</th>\n",
       "      <th>DateTo</th>\n",
       "      <th>Attendees</th>\n",
       "      <th>City</th>\n",
       "      <th>Country</th>\n",
       "      <th>Official and national Languages_x</th>\n",
       "      <th>Official and national Languages_y</th>\n",
       "      <th>Official and national Languages</th>\n",
       "      <th>Duration</th>\n",
       "      <th>duration</th>\n",
       "      <th>Month</th>\n",
       "      <th>month</th>\n",
       "    </tr>\n",
       "  </thead>\n",
       "  <tbody>\n",
       "    <tr>\n",
       "      <th>22</th>\n",
       "      <td>22</td>\n",
       "      <td>Food Hygiene at Primary Production (Land Animals)</td>\n",
       "      <td>2015-03-16</td>\n",
       "      <td>2015-03-20</td>\n",
       "      <td>1</td>\n",
       "      <td>Budapest</td>\n",
       "      <td>None</td>\n",
       "      <td>NaN</td>\n",
       "      <td>NaN</td>\n",
       "      <td>NaN</td>\n",
       "      <td>4 days</td>\n",
       "      <td>5 days</td>\n",
       "      <td>3</td>\n",
       "      <td>3</td>\n",
       "    </tr>\n",
       "    <tr>\n",
       "      <th>144</th>\n",
       "      <td>116</td>\n",
       "      <td>Food Hygiene at Primary Production (Land Animals)</td>\n",
       "      <td>2016-02-29</td>\n",
       "      <td>2016-03-04</td>\n",
       "      <td>1</td>\n",
       "      <td>Budapest</td>\n",
       "      <td>None</td>\n",
       "      <td>NaN</td>\n",
       "      <td>NaN</td>\n",
       "      <td>NaN</td>\n",
       "      <td>4 days</td>\n",
       "      <td>5 days</td>\n",
       "      <td>2</td>\n",
       "      <td>2</td>\n",
       "    </tr>\n",
       "    <tr>\n",
       "      <th>128</th>\n",
       "      <td>100</td>\n",
       "      <td>CONTROL OF ZOONOSES AND PREVENTION AND MONITOR...</td>\n",
       "      <td>2015-12-15</td>\n",
       "      <td>2015-12-18</td>\n",
       "      <td>1</td>\n",
       "      <td>Venice</td>\n",
       "      <td>Italy</td>\n",
       "      <td>NaN</td>\n",
       "      <td>NaN</td>\n",
       "      <td>NaN</td>\n",
       "      <td>3 days</td>\n",
       "      <td>4 days</td>\n",
       "      <td>12</td>\n",
       "      <td>12</td>\n",
       "    </tr>\n",
       "    <tr>\n",
       "      <th>154</th>\n",
       "      <td>4</td>\n",
       "      <td>Traces (USE AT IMPORT OF LIVE ANIMALS AND PROD...</td>\n",
       "      <td>2016-04-05</td>\n",
       "      <td>2016-04-08</td>\n",
       "      <td>1</td>\n",
       "      <td>Alicante</td>\n",
       "      <td>NaN</td>\n",
       "      <td>NaN</td>\n",
       "      <td>NaN</td>\n",
       "      <td>NaN</td>\n",
       "      <td>3 days</td>\n",
       "      <td>4 days</td>\n",
       "      <td>4</td>\n",
       "      <td>4</td>\n",
       "    </tr>\n",
       "    <tr>\n",
       "      <th>118</th>\n",
       "      <td>90</td>\n",
       "      <td>Food Hygiene at Primary Production (Plants)</td>\n",
       "      <td>2015-11-16</td>\n",
       "      <td>2015-11-20</td>\n",
       "      <td>1</td>\n",
       "      <td>Alicante/Murcia</td>\n",
       "      <td>NaN</td>\n",
       "      <td>NaN</td>\n",
       "      <td>NaN</td>\n",
       "      <td>NaN</td>\n",
       "      <td>4 days</td>\n",
       "      <td>5 days</td>\n",
       "      <td>11</td>\n",
       "      <td>11</td>\n",
       "    </tr>\n",
       "    <tr>\n",
       "      <th>...</th>\n",
       "      <td>...</td>\n",
       "      <td>...</td>\n",
       "      <td>...</td>\n",
       "      <td>...</td>\n",
       "      <td>...</td>\n",
       "      <td>...</td>\n",
       "      <td>...</td>\n",
       "      <td>...</td>\n",
       "      <td>...</td>\n",
       "      <td>...</td>\n",
       "      <td>...</td>\n",
       "      <td>...</td>\n",
       "      <td>...</td>\n",
       "      <td>...</td>\n",
       "    </tr>\n",
       "    <tr>\n",
       "      <th>134</th>\n",
       "      <td>106</td>\n",
       "      <td>Movement of Cats and Dogs</td>\n",
       "      <td>2016-01-19</td>\n",
       "      <td>2016-01-22</td>\n",
       "      <td>1</td>\n",
       "      <td>Zagreb</td>\n",
       "      <td>None</td>\n",
       "      <td>NaN</td>\n",
       "      <td>NaN</td>\n",
       "      <td>NaN</td>\n",
       "      <td>3 days</td>\n",
       "      <td>4 days</td>\n",
       "      <td>1</td>\n",
       "      <td>1</td>\n",
       "    </tr>\n",
       "    <tr>\n",
       "      <th>37</th>\n",
       "      <td>9</td>\n",
       "      <td>Movement of Cats and Dogs</td>\n",
       "      <td>2015-04-21</td>\n",
       "      <td>2015-04-24</td>\n",
       "      <td>1</td>\n",
       "      <td>Zagreb</td>\n",
       "      <td>Croatia</td>\n",
       "      <td>Croatian</td>\n",
       "      <td>Croatian</td>\n",
       "      <td>Croatian</td>\n",
       "      <td>3 days</td>\n",
       "      <td>4 days</td>\n",
       "      <td>4</td>\n",
       "      <td>4</td>\n",
       "    </tr>\n",
       "    <tr>\n",
       "      <th>264</th>\n",
       "      <td>114</td>\n",
       "      <td>Food Hygiene and Flexibility</td>\n",
       "      <td>2017-03-20</td>\n",
       "      <td>2017-03-24</td>\n",
       "      <td>2</td>\n",
       "      <td>Zagreb/Helsinki</td>\n",
       "      <td>None</td>\n",
       "      <td>NaN</td>\n",
       "      <td>NaN</td>\n",
       "      <td>NaN</td>\n",
       "      <td>4 days</td>\n",
       "      <td>5 days</td>\n",
       "      <td>3</td>\n",
       "      <td>3</td>\n",
       "    </tr>\n",
       "    <tr>\n",
       "      <th>188</th>\n",
       "      <td>38</td>\n",
       "      <td>Animal identification registration and traceab...</td>\n",
       "      <td>2016-06-13</td>\n",
       "      <td>2016-06-17</td>\n",
       "      <td>1</td>\n",
       "      <td>lisbon</td>\n",
       "      <td>None</td>\n",
       "      <td>NaN</td>\n",
       "      <td>NaN</td>\n",
       "      <td>NaN</td>\n",
       "      <td>4 days</td>\n",
       "      <td>5 days</td>\n",
       "      <td>6</td>\n",
       "      <td>6</td>\n",
       "    </tr>\n",
       "    <tr>\n",
       "      <th>0</th>\n",
       "      <td>0</td>\n",
       "      <td>Risk Assessment (Pest)</td>\n",
       "      <td>2015-01-12</td>\n",
       "      <td>2015-01-16</td>\n",
       "      <td>1</td>\n",
       "      <td>lisbon</td>\n",
       "      <td>Portugal</td>\n",
       "      <td>Portuguese</td>\n",
       "      <td>Portuguese</td>\n",
       "      <td>Portuguese</td>\n",
       "      <td>4 days</td>\n",
       "      <td>5 days</td>\n",
       "      <td>1</td>\n",
       "      <td>1</td>\n",
       "    </tr>\n",
       "  </tbody>\n",
       "</table>\n",
       "<p>266 rows × 14 columns</p>\n",
       "</div>"
      ],
      "text/plain": [
       "     index                                         CourseName   DateFrom  \\\n",
       "22      22  Food Hygiene at Primary Production (Land Animals) 2015-03-16   \n",
       "144    116  Food Hygiene at Primary Production (Land Animals) 2016-02-29   \n",
       "128    100  CONTROL OF ZOONOSES AND PREVENTION AND MONITOR... 2015-12-15   \n",
       "154      4  Traces (USE AT IMPORT OF LIVE ANIMALS AND PROD... 2016-04-05   \n",
       "118     90        Food Hygiene at Primary Production (Plants) 2015-11-16   \n",
       "..     ...                                                ...        ...   \n",
       "134    106                          Movement of Cats and Dogs 2016-01-19   \n",
       "37       9                          Movement of Cats and Dogs 2015-04-21   \n",
       "264    114                       Food Hygiene and Flexibility 2017-03-20   \n",
       "188     38  Animal identification registration and traceab... 2016-06-13   \n",
       "0        0                             Risk Assessment (Pest) 2015-01-12   \n",
       "\n",
       "        DateTo  Attendees             City   Country  \\\n",
       "22  2015-03-20          1         Budapest      None   \n",
       "144 2016-03-04          1         Budapest      None   \n",
       "128 2015-12-18          1           Venice     Italy   \n",
       "154 2016-04-08          1         Alicante       NaN   \n",
       "118 2015-11-20          1  Alicante/Murcia       NaN   \n",
       "..         ...        ...              ...       ...   \n",
       "134 2016-01-22          1           Zagreb      None   \n",
       "37  2015-04-24          1           Zagreb   Croatia   \n",
       "264 2017-03-24          2  Zagreb/Helsinki      None   \n",
       "188 2016-06-17          1           lisbon      None   \n",
       "0   2015-01-16          1           lisbon  Portugal   \n",
       "\n",
       "    Official and national Languages_x Official and national Languages_y  \\\n",
       "22                                NaN                               NaN   \n",
       "144                               NaN                               NaN   \n",
       "128                               NaN                               NaN   \n",
       "154                               NaN                               NaN   \n",
       "118                               NaN                               NaN   \n",
       "..                                ...                               ...   \n",
       "134                               NaN                               NaN   \n",
       "37                           Croatian                          Croatian   \n",
       "264                               NaN                               NaN   \n",
       "188                               NaN                               NaN   \n",
       "0                          Portuguese                        Portuguese   \n",
       "\n",
       "    Official and national Languages Duration duration  Month  month  \n",
       "22                              NaN   4 days   5 days      3      3  \n",
       "144                             NaN   4 days   5 days      2      2  \n",
       "128                             NaN   3 days   4 days     12     12  \n",
       "154                             NaN   3 days   4 days      4      4  \n",
       "118                             NaN   4 days   5 days     11     11  \n",
       "..                              ...      ...      ...    ...    ...  \n",
       "134                             NaN   3 days   4 days      1      1  \n",
       "37                         Croatian   3 days   4 days      4      4  \n",
       "264                             NaN   4 days   5 days      3      3  \n",
       "188                             NaN   4 days   5 days      6      6  \n",
       "0                        Portuguese   4 days   5 days      1      1  \n",
       "\n",
       "[266 rows x 14 columns]"
      ]
     },
     "execution_count": 331,
     "metadata": {},
     "output_type": "execute_result"
    }
   ],
   "source": [
    "# %load ../solutions/05_44.py\n",
    "df.sort_values(\"City\")"
   ]
  },
  {
   "cell_type": "markdown",
   "metadata": {},
   "source": [
    ">Sort df by ascending ***duration*** and descending number of ***Attendees***."
   ]
  },
  {
   "cell_type": "code",
   "execution_count": 333,
   "metadata": {
    "jupyter": {
     "outputs_hidden": false
    }
   },
   "outputs": [
    {
     "data": {
      "text/html": [
       "<div>\n",
       "<style scoped>\n",
       "    .dataframe tbody tr th:only-of-type {\n",
       "        vertical-align: middle;\n",
       "    }\n",
       "\n",
       "    .dataframe tbody tr th {\n",
       "        vertical-align: top;\n",
       "    }\n",
       "\n",
       "    .dataframe thead th {\n",
       "        text-align: right;\n",
       "    }\n",
       "</style>\n",
       "<table border=\"1\" class=\"dataframe\">\n",
       "  <thead>\n",
       "    <tr style=\"text-align: right;\">\n",
       "      <th></th>\n",
       "      <th>index</th>\n",
       "      <th>CourseName</th>\n",
       "      <th>DateFrom</th>\n",
       "      <th>DateTo</th>\n",
       "      <th>Attendees</th>\n",
       "      <th>City</th>\n",
       "      <th>Country</th>\n",
       "      <th>Official and national Languages_x</th>\n",
       "      <th>Official and national Languages_y</th>\n",
       "      <th>Official and national Languages</th>\n",
       "      <th>Duration</th>\n",
       "      <th>duration</th>\n",
       "      <th>Month</th>\n",
       "      <th>month</th>\n",
       "    </tr>\n",
       "  </thead>\n",
       "  <tbody>\n",
       "    <tr>\n",
       "      <th>252</th>\n",
       "      <td>102</td>\n",
       "      <td>Workshop on Fishery Products (FVO)</td>\n",
       "      <td>2016-12-01</td>\n",
       "      <td>2015-12-03</td>\n",
       "      <td>3</td>\n",
       "      <td>Grange</td>\n",
       "      <td>Ireland</td>\n",
       "      <td>Irish/English</td>\n",
       "      <td>Irish/English</td>\n",
       "      <td>Irish/English</td>\n",
       "      <td>-364 days</td>\n",
       "      <td>-363 days</td>\n",
       "      <td>12</td>\n",
       "      <td>12</td>\n",
       "    </tr>\n",
       "    <tr>\n",
       "      <th>163</th>\n",
       "      <td>13</td>\n",
       "      <td>Foodborne Outbreaks Investigations</td>\n",
       "      <td>2016-04-29</td>\n",
       "      <td>2016-03-04</td>\n",
       "      <td>2</td>\n",
       "      <td>Lisbon</td>\n",
       "      <td>None</td>\n",
       "      <td>NaN</td>\n",
       "      <td>NaN</td>\n",
       "      <td>NaN</td>\n",
       "      <td>-56 days</td>\n",
       "      <td>-55 days</td>\n",
       "      <td>4</td>\n",
       "      <td>4</td>\n",
       "    </tr>\n",
       "    <tr>\n",
       "      <th>67</th>\n",
       "      <td>39</td>\n",
       "      <td>Food Additives</td>\n",
       "      <td>2015-06-22</td>\n",
       "      <td>2015-06-22</td>\n",
       "      <td>2</td>\n",
       "      <td>Trim</td>\n",
       "      <td>Ireland</td>\n",
       "      <td>Irish/English</td>\n",
       "      <td>Irish/English</td>\n",
       "      <td>Irish/English</td>\n",
       "      <td>0 days</td>\n",
       "      <td>1 days</td>\n",
       "      <td>6</td>\n",
       "      <td>6</td>\n",
       "    </tr>\n",
       "    <tr>\n",
       "      <th>62</th>\n",
       "      <td>34</td>\n",
       "      <td>Risk Assessment (Pest)</td>\n",
       "      <td>2015-06-15</td>\n",
       "      <td>2015-06-16</td>\n",
       "      <td>1</td>\n",
       "      <td>Tallinn</td>\n",
       "      <td>None</td>\n",
       "      <td>NaN</td>\n",
       "      <td>NaN</td>\n",
       "      <td>NaN</td>\n",
       "      <td>1 days</td>\n",
       "      <td>2 days</td>\n",
       "      <td>6</td>\n",
       "      <td>6</td>\n",
       "    </tr>\n",
       "    <tr>\n",
       "      <th>125</th>\n",
       "      <td>97</td>\n",
       "      <td>Post-slaughter traceability of Meat (FVO)</td>\n",
       "      <td>2015-12-08</td>\n",
       "      <td>2015-12-10</td>\n",
       "      <td>3</td>\n",
       "      <td>Grange</td>\n",
       "      <td>Ireland</td>\n",
       "      <td>Irish/English</td>\n",
       "      <td>Irish/English</td>\n",
       "      <td>Irish/English</td>\n",
       "      <td>2 days</td>\n",
       "      <td>3 days</td>\n",
       "      <td>12</td>\n",
       "      <td>12</td>\n",
       "    </tr>\n",
       "    <tr>\n",
       "      <th>...</th>\n",
       "      <td>...</td>\n",
       "      <td>...</td>\n",
       "      <td>...</td>\n",
       "      <td>...</td>\n",
       "      <td>...</td>\n",
       "      <td>...</td>\n",
       "      <td>...</td>\n",
       "      <td>...</td>\n",
       "      <td>...</td>\n",
       "      <td>...</td>\n",
       "      <td>...</td>\n",
       "      <td>...</td>\n",
       "      <td>...</td>\n",
       "      <td>...</td>\n",
       "    </tr>\n",
       "    <tr>\n",
       "      <th>19</th>\n",
       "      <td>19</td>\n",
       "      <td>Food Hygiene and Flexibility</td>\n",
       "      <td>2015-03-08</td>\n",
       "      <td>2015-03-13</td>\n",
       "      <td>1</td>\n",
       "      <td>Graz</td>\n",
       "      <td>None</td>\n",
       "      <td>NaN</td>\n",
       "      <td>NaN</td>\n",
       "      <td>NaN</td>\n",
       "      <td>5 days</td>\n",
       "      <td>6 days</td>\n",
       "      <td>3</td>\n",
       "      <td>3</td>\n",
       "    </tr>\n",
       "    <tr>\n",
       "      <th>61</th>\n",
       "      <td>33</td>\n",
       "      <td>Food Hygiene and Flexibility</td>\n",
       "      <td>2015-06-14</td>\n",
       "      <td>2015-06-19</td>\n",
       "      <td>1</td>\n",
       "      <td>Vilnius</td>\n",
       "      <td>None</td>\n",
       "      <td>NaN</td>\n",
       "      <td>NaN</td>\n",
       "      <td>NaN</td>\n",
       "      <td>5 days</td>\n",
       "      <td>6 days</td>\n",
       "      <td>6</td>\n",
       "      <td>6</td>\n",
       "    </tr>\n",
       "    <tr>\n",
       "      <th>116</th>\n",
       "      <td>88</td>\n",
       "      <td>Food Hygiene and Flexibility</td>\n",
       "      <td>2015-11-08</td>\n",
       "      <td>2015-11-13</td>\n",
       "      <td>1</td>\n",
       "      <td>Barcelona</td>\n",
       "      <td>None</td>\n",
       "      <td>NaN</td>\n",
       "      <td>NaN</td>\n",
       "      <td>NaN</td>\n",
       "      <td>5 days</td>\n",
       "      <td>6 days</td>\n",
       "      <td>11</td>\n",
       "      <td>11</td>\n",
       "    </tr>\n",
       "    <tr>\n",
       "      <th>149</th>\n",
       "      <td>121</td>\n",
       "      <td>EU Feed Hygiene Rules and HACCP auditing</td>\n",
       "      <td>2016-03-31</td>\n",
       "      <td>2016-06-03</td>\n",
       "      <td>2</td>\n",
       "      <td>Barcelona</td>\n",
       "      <td>None</td>\n",
       "      <td>NaN</td>\n",
       "      <td>NaN</td>\n",
       "      <td>NaN</td>\n",
       "      <td>64 days</td>\n",
       "      <td>65 days</td>\n",
       "      <td>3</td>\n",
       "      <td>3</td>\n",
       "    </tr>\n",
       "    <tr>\n",
       "      <th>69</th>\n",
       "      <td>41</td>\n",
       "      <td>Food Hygiene at Primary Production (Aquatic An...</td>\n",
       "      <td>2015-06-28</td>\n",
       "      <td>2015-10-02</td>\n",
       "      <td>1</td>\n",
       "      <td>Venice/Udine</td>\n",
       "      <td>Italy</td>\n",
       "      <td>NaN</td>\n",
       "      <td>NaN</td>\n",
       "      <td>NaN</td>\n",
       "      <td>96 days</td>\n",
       "      <td>97 days</td>\n",
       "      <td>6</td>\n",
       "      <td>6</td>\n",
       "    </tr>\n",
       "  </tbody>\n",
       "</table>\n",
       "<p>266 rows × 14 columns</p>\n",
       "</div>"
      ],
      "text/plain": [
       "     index                                         CourseName   DateFrom  \\\n",
       "252    102                 Workshop on Fishery Products (FVO) 2016-12-01   \n",
       "163     13                 Foodborne Outbreaks Investigations 2016-04-29   \n",
       "67      39                                     Food Additives 2015-06-22   \n",
       "62      34                             Risk Assessment (Pest) 2015-06-15   \n",
       "125     97          Post-slaughter traceability of Meat (FVO) 2015-12-08   \n",
       "..     ...                                                ...        ...   \n",
       "19      19                       Food Hygiene and Flexibility 2015-03-08   \n",
       "61      33                       Food Hygiene and Flexibility 2015-06-14   \n",
       "116     88                       Food Hygiene and Flexibility 2015-11-08   \n",
       "149    121          EU Feed Hygiene Rules and HACCP auditing  2016-03-31   \n",
       "69      41  Food Hygiene at Primary Production (Aquatic An... 2015-06-28   \n",
       "\n",
       "        DateTo  Attendees          City  Country  \\\n",
       "252 2015-12-03          3        Grange  Ireland   \n",
       "163 2016-03-04          2        Lisbon     None   \n",
       "67  2015-06-22          2          Trim  Ireland   \n",
       "62  2015-06-16          1       Tallinn     None   \n",
       "125 2015-12-10          3        Grange  Ireland   \n",
       "..         ...        ...           ...      ...   \n",
       "19  2015-03-13          1          Graz     None   \n",
       "61  2015-06-19          1       Vilnius     None   \n",
       "116 2015-11-13          1     Barcelona     None   \n",
       "149 2016-06-03          2     Barcelona     None   \n",
       "69  2015-10-02          1  Venice/Udine   Italy    \n",
       "\n",
       "    Official and national Languages_x Official and national Languages_y  \\\n",
       "252                     Irish/English                     Irish/English   \n",
       "163                               NaN                               NaN   \n",
       "67                      Irish/English                     Irish/English   \n",
       "62                                NaN                               NaN   \n",
       "125                     Irish/English                     Irish/English   \n",
       "..                                ...                               ...   \n",
       "19                                NaN                               NaN   \n",
       "61                                NaN                               NaN   \n",
       "116                               NaN                               NaN   \n",
       "149                               NaN                               NaN   \n",
       "69                                NaN                               NaN   \n",
       "\n",
       "    Official and national Languages  Duration  duration  Month  month  \n",
       "252                   Irish/English -364 days -363 days     12     12  \n",
       "163                             NaN  -56 days  -55 days      4      4  \n",
       "67                    Irish/English    0 days    1 days      6      6  \n",
       "62                              NaN    1 days    2 days      6      6  \n",
       "125                   Irish/English    2 days    3 days     12     12  \n",
       "..                              ...       ...       ...    ...    ...  \n",
       "19                              NaN    5 days    6 days      3      3  \n",
       "61                              NaN    5 days    6 days      6      6  \n",
       "116                             NaN    5 days    6 days     11     11  \n",
       "149                             NaN   64 days   65 days      3      3  \n",
       "69                              NaN   96 days   97 days      6      6  \n",
       "\n",
       "[266 rows x 14 columns]"
      ]
     },
     "execution_count": 333,
     "metadata": {},
     "output_type": "execute_result"
    }
   ],
   "source": [
    "df.sort_values(by=['Duration', 'Attendees'], ascending=[True, False])"
   ]
  },
  {
   "cell_type": "code",
   "execution_count": 334,
   "metadata": {
    "jupyter": {
     "outputs_hidden": false
    }
   },
   "outputs": [],
   "source": [
    "# %load ../solutions/05_45.py\n",
    "df.sort_values([\"duration\", \"Attendees\"], ascending=[True, False])"
   ]
  },
  {
   "cell_type": "markdown",
   "metadata": {},
   "source": [
    "We can see that there was a couple of issues with dates data entry..."
   ]
  },
  {
   "cell_type": "markdown",
   "metadata": {},
   "source": [
    "---\n",
    "\n",
    "<div class=\"alert alert-block alert-warning\" style=\"padding: 0px; padding-left: 20px; padding-top: 5px;\"><h2 style=\"color: #301E40\">\n",
    "Group By\n",
    "</h2><br>\n",
    "</div>"
   ]
  },
  {
   "cell_type": "markdown",
   "metadata": {},
   "source": [
    ">Group df by ***city***. Assign the grouped data to df_gr."
   ]
  },
  {
   "cell_type": "code",
   "execution_count": 335,
   "metadata": {
    "jupyter": {
     "outputs_hidden": false
    }
   },
   "outputs": [
    {
     "data": {
      "text/plain": [
       "<pandas.core.groupby.generic.DataFrameGroupBy object at 0x000001BD7128BAF0>"
      ]
     },
     "execution_count": 335,
     "metadata": {},
     "output_type": "execute_result"
    }
   ],
   "source": [
    "df_gr = df.groupby('City')\n",
    "df_gr"
   ]
  },
  {
   "cell_type": "code",
   "execution_count": 336,
   "metadata": {
    "jupyter": {
     "outputs_hidden": false
    }
   },
   "outputs": [],
   "source": [
    "# %load ../solutions/05_46.py\n",
    "df_gr = df.groupby(\"city\")"
   ]
  },
  {
   "cell_type": "markdown",
   "metadata": {},
   "source": [
    ">Get the mean number of ***Attendees*** for the grouped data."
   ]
  },
  {
   "cell_type": "code",
   "execution_count": 344,
   "metadata": {
    "jupyter": {
     "outputs_hidden": false
    }
   },
   "outputs": [
    {
     "data": {
      "text/plain": [
       "City\n",
       " Budapest          1.000000\n",
       " Venice            1.000000\n",
       "Alicante           1.000000\n",
       "Alicante/Murcia    1.000000\n",
       "Amsterdam          1.666667\n",
       "                     ...   \n",
       "Vilnius            2.000000\n",
       "Warsaw             2.000000\n",
       "Zagreb             1.000000\n",
       "Zagreb/Helsinki    2.000000\n",
       "lisbon             1.000000\n",
       "Name: Attendees, Length: 77, dtype: float64"
      ]
     },
     "execution_count": 344,
     "metadata": {},
     "output_type": "execute_result"
    }
   ],
   "source": [
    "# df_gr.mean('Attendees')\n",
    "\n",
    "df_gr[\"Attendees\"].mean()\n"
   ]
  },
  {
   "cell_type": "code",
   "execution_count": 343,
   "metadata": {
    "jupyter": {
     "outputs_hidden": false
    }
   },
   "outputs": [],
   "source": [
    "# %load ../solutions/05_47.py\n",
    "df_gr[\"Attendees\"].mean()"
   ]
  }
 ],
 "metadata": {
  "kernelspec": {
   "display_name": "Python 3 (system-wide)",
   "language": "python",
   "name": "python3"
  },
  "language_info": {
   "codemirror_mode": {
    "name": "ipython",
    "version": 3
   },
   "file_extension": ".py",
   "mimetype": "text/x-python",
   "name": "python",
   "nbconvert_exporter": "python",
   "pygments_lexer": "ipython3",
   "version": "3.10.5"
  }
 },
 "nbformat": 4,
 "nbformat_minor": 4
}
